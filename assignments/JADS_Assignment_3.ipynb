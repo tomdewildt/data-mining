{
  "nbformat": 4,
  "nbformat_minor": 0,
  "metadata": {
    "accelerator": "GPU",
    "anaconda-cloud": {},
    "colab": {
      "name": "Assignment 3.ipynb",
      "provenance": [],
      "collapsed_sections": [],
      "machine_shape": "hm"
    },
    "kernelspec": {
      "display_name": "Python 3",
      "language": "python",
      "name": "python3"
    },
    "language_info": {
      "codemirror_mode": {
        "name": "ipython",
        "version": 3
      },
      "file_extension": ".py",
      "mimetype": "text/x-python",
      "name": "python",
      "nbconvert_exporter": "python",
      "pygments_lexer": "ipython3",
      "version": "3.7.3"
    }
  },
  "cells": [
    {
      "cell_type": "code",
      "metadata": {
        "id": "uPiqHyC_MuLL"
      },
      "source": [
        "# Fill in your name using the format below and student ID number\n",
        "# Fill in your names using the format below and student ID number\n",
        "group_id = \"YOUR_ID\"\n",
        "team_member_1 = \"LAST_NAME, FIRST_NAME, STUDENT_ID\"\n",
        "team_member_2 = \"LAST_NAME, FIRST_NAME, STUDENT_ID\"\n",
        "team_member_3 = \"LAST_NAME, FIRST_NAME, STUDENT_ID\"\n",
        "team_member_4 = \"LAST_NAME, FIRST_NAME, STUDENT_ID\"\n",
        "team_member_5 = \"LAST_NAME, FIRST_NAME, STUDENT_ID\"\n",
        "team_member_6 = \"LAST_NAME, FIRST_NAME, STUDENT_ID\""
      ],
      "execution_count": null,
      "outputs": []
    },
    {
      "cell_type": "code",
      "metadata": {
        "id": "2rLCNJkosvpN"
      },
      "source": [
        "# Before submission, set this to True so that you can render and verify this notebook without retraining all the deep learning models.\n",
        "# All models will be loaded from file instead.\n",
        "stop_training = False"
      ],
      "execution_count": null,
      "outputs": []
    },
    {
      "cell_type": "code",
      "metadata": {
        "id": "tffYmyfmoYla"
      },
      "source": [
        "\n",
        "# Uncomment the following line to run in Google Colab\n",
        "# This will link the notebook to your Google drive to store your models and cache the dataset.\n",
        "# This will probably ask you to click on a link to get a verification code.\n",
        "from google.colab import drive\n",
        "drive.mount('/content/drive', force_remount=True)"
      ],
      "execution_count": null,
      "outputs": []
    },
    {
      "cell_type": "code",
      "metadata": {
        "id": "gudX86_rIgHJ"
      },
      "source": [
        "# Uncomment the following line to run in Google Colab to install OpenML\n",
        "!pip install --quiet openml"
      ],
      "execution_count": null,
      "outputs": []
    },
    {
      "cell_type": "code",
      "metadata": {
        "id": "ePH2HDi4IgHK"
      },
      "source": [
        "# Uncomment the following to check whether you have access to a GPU in Google Colab\n",
        "# See further instructions below.\n",
        "import tensorflow as tf\n",
        "tf.config.experimental.list_physical_devices('GPU') "
      ],
      "execution_count": null,
      "outputs": []
    },
    {
      "cell_type": "code",
      "metadata": {
        "id": "wpt52EynIgHK"
      },
      "source": [
        "%matplotlib inline\n",
        "import openml as oml\n",
        "import numpy as np\n",
        "import matplotlib.pyplot as plt\n",
        "import sklearn"
      ],
      "execution_count": null,
      "outputs": []
    },
    {
      "cell_type": "code",
      "metadata": {
        "id": "Hobhz-iIIgHK"
      },
      "source": [
        "# Uncomment to use OpenML caching with your Google Drive. After longer periods of inactivity, your Colab VM may be recycled, \n",
        "# in which case the dataset will have to be downloaded again. To avoid this, use the code below to let OpenML cache the dataset \n",
        "# on your Google Drive.\n",
        "# On your local machine, it will store data in a hidden folder '~/.openml'\n",
        "import os\n",
        "oml.config.cache_directory = os.path.expanduser('/content/drive/MyDrive/cache')"
      ],
      "execution_count": null,
      "outputs": []
    },
    {
      "cell_type": "code",
      "metadata": {
        "id": "I1d_Ctl-IgHK"
      },
      "source": [
        "from packaging import version\n",
        "import sklearn\n",
        "import tensorflow\n",
        "sklearn_version = sklearn.__version__\n",
        "tensorflow_version = tensorflow.__version__\n",
        "if version.parse(tensorflow_version) < version.parse(\"2.2.0\"):\n",
        "    print(\"Tensorflow is outdated. This is version {}. Please update to 2.2 or later (e.g. 2.4)\".format(tensorflow_version))\n",
        "elif version.parse(tensorflow_version) < version.parse(\"2.4.0\"):\n",
        "    print(\"Tensorflow version is <2.4. This will likely work but we recommend updating to 2.4\".format(tensorflow_version))\n",
        "else:\n",
        "    print(\"Looks good. You may continue :)\")"
      ],
      "execution_count": null,
      "outputs": []
    },
    {
      "cell_type": "markdown",
      "metadata": {
        "id": "7kdeFjIGMuLv"
      },
      "source": [
        "# Assignment 3\n",
        "\n",
        "Did you ever wonder how Google Maps can locate specific house numbers? We'll find out using imagery from Google Streetview. "
      ]
    },
    {
      "cell_type": "markdown",
      "metadata": {
        "id": "ljhP8DXu-H4j"
      },
      "source": [
        "### Choice of libraries\n",
        "We recommend to use Tensorflow in this assignment since that is what we covered in the labs. If you feel confident using PyTorch (and Skorch for the scikit-learn wrapper), that is allowed too, as long as you are able to implement the requested functions and return the requested data. Read the assignment carefully and ensure that you can. Note that you may also need to do a bit more work to implement certain helper functions and wrappers."
      ]
    },
    {
      "cell_type": "markdown",
      "metadata": {
        "id": "-BQG9Kp2EcPc"
      },
      "source": [
        "### Storing and submitting files\n",
        "You must be able to store your models and submit them. The evaluation functions used in this notebook will automatically store models for you.\n",
        "\n",
        "If you want to run and solve the notebook on your local machine/laptop, fill in the path 'base_dir' to your assignment folder into the next cell.\n",
        "\n",
        "If you use Colab, we recommend that you link it to your Google Drive:  \n",
        "* Upload the assignment folder to your Google Drive (+ New > Folder Upload)\n",
        "* Open Colab in a browser, open the 'Files' menu in the left sidebar, and click 'Mount Drive'\n",
        "  * At this point you may need to authenticate\n",
        "* Fill in the path to your assignment folder below\n",
        "  * E.g. '/content/drive/My Drive/Assignment3' if you don't change it"
      ]
    },
    {
      "cell_type": "code",
      "metadata": {
        "id": "aO6jTIIFHQNU"
      },
      "source": [
        "base_dir = '/content/drive/My Drive/Assignment3'\n",
        "#base_dir = './'"
      ],
      "execution_count": null,
      "outputs": []
    },
    {
      "cell_type": "markdown",
      "metadata": {
        "id": "D_BDIpWh92Dk"
      },
      "source": [
        "### Using GPUs\n",
        "While you can solve this assignment on a CPU, using a GPU will speed things up training quite a bit. If you have a local GPU, you can use that. If you don't, we recommend Google Colab. When you are in Colab:\n",
        "* In Runtime > Change runtime type, select the GPU under Hardware Accelerator\n",
        "* Run the 3rd cell on the top of this notebook to check that the GPU is found.\n",
        "\n",
        "Note that Colab may not always have GPUs ready all the time, and may deny you a GPU when you have used them a lot. When you are temporarily 'locked out', you can switch to a non-GPU runtime or to a local instance of Jupyter running on your machine."
      ]
    },
    {
      "cell_type": "markdown",
      "metadata": {
        "id": "hq6oPNF546_5"
      },
      "source": [
        "### Constraints\n",
        "* You should submit your notebook, but also a PDF and a link to all stored models. One way to do this is to upload them to GitHub.\n",
        "* Ideally, your stored models should not be larger than 100MB when stored in file. GitHub will not allow uploading if they are.\n",
        "* When questions ask you to provide an explanation, it should be less than 500\n",
        "characters long. Some questions have a higher limit. Always answer in full sentences.\n",
        "* Don't train for more than 100 epochs, i.e. don't throw excessing computational resources at the problem. If your model hasn't converged by then, think of ways it could be made to converge faster. In this assignment you are not after the last tiny improvement, you can stop when learning curves flatten out. Do at least 5 epochs to get a reasonable learning curve."
      ]
    },
    {
      "cell_type": "markdown",
      "metadata": {
        "id": "h8wBDNspEvcY"
      },
      "source": [
        "### Grading\n",
        "Grading is based on the following aspects:\n",
        "* Correctness in answering the question. Carefully read the question and answer\n",
        "what is asked for. Train your models on the correct data. It should be clear on which data should be trained, but ask when in doubt. When something is not defined (e.g. the number of epochs or batch size), you can freely choose them.\n",
        "* Clarity of your explanations. Write short but precise descriptions of what you did and why. Give short but clear explanations of the observed performance. \n",
        "After your explanation, your approach and model should make perfect sense. Refrain from using symbols as substitute for words in your explanation (e.g. no: \"More layers -> more parameters\" yes: \"More layers mean more parameters\"). \n",
        "* Part of your grade depends on how well your model performs. When the question says 'you should at least get x%', x% will give you a good but not the maximal grade. You can get the full grade when you are close to what is the expected maximal performance. You don't need to invest lots of effort into the last tiny improvement, though. Unless specified, we look at the accuracy on the validation set. If your learning curves are very erratic we'll compute a score based on the smoothed curves (i.e. single peaks don't count).\n",
        "* The weight of each question is indicated. Take this into account when planning your time."
      ]
    },
    {
      "cell_type": "markdown",
      "metadata": {
        "id": "KNyA5dEpR00Z"
      },
      "source": [
        "### Other tips\n",
        "* Don't wait until the last minute to do the assignment. The models take time to train, most questions will require some thinking, and some require you to read up on some new concepts.\n",
        "* Take care that you upload the results as requested. You need to submit not only the notebooks but also the trained models and learning curves (training histories). Be sure to check that all the results are included in the notebook. Also upload a PDF (e.g. by printing to PDF) with all results as a backup.\n",
        "* We provide an evaluation function that also stored models to disk. After you are done training the model, set the 'train' attribute to False so that the model doesn't train again (and loads from file instead) when you restart and rerun your notebook.\n",
        "* Explore. For many questions we'll ask you to explain your model design decisions. You cannot magically know the best solutions but you can experiment\n",
        "based on your understanding and make decisions based on both your knowledge and experiments. Your explanation is at least as important as the performance of your model.\n",
        "* Be original. We will check for plagiarism between student submissions."
      ]
    },
    {
      "cell_type": "markdown",
      "metadata": {
        "id": "k0nKOZrPJTn8"
      },
      "source": [
        "### Data\n",
        "The [Street View House Numbers Dataset](https://www.openml.org/d/41081) contains 32-by-32 RGB images centered around a single digit of a house number appearing in Google Street View. Many of the images do contain some distractors at the sides. It consists of 10 classes, 1 for each digit. Digit '1' has label 1, '9' has label 9 and '0' has label 10. Your goal is to build models that recognize the correct digit. [Read more about this dataset here](https://storage.googleapis.com/pub-tools-public-publication-data/pdf/37648.pdf)."
      ]
    },
    {
      "cell_type": "markdown",
      "metadata": {
        "id": "B8sOA7mEKOSp"
      },
      "source": [
        "If you use Colab, uncomment the following to cache the dataset inside the VM. This will make reloading faster if you need to restart your notebook. After longer periods of inactivity, your VM may be recycled and the cache lost, in which case the dataset will be downloaded again. \n",
        "\n",
        "Also note that this dataset is about 1Gb large, and parsing it will take even more space in memory. You may need to switch to a high-RAM environment (only in Colab pro). As a workaround, we've hosted the pre-loaded OpenML version of this dataset and provided code to download it below - uncomment it if you prefer to use this."
      ]
    },
    {
      "cell_type": "code",
      "metadata": {
        "id": "Wu9s9dnlJMP0"
      },
      "source": [
        "# Use OpenML caching in Colab\n",
        "# On your local machine, it will store data in a hidden folder '~/.openml'\n",
        "import os\n",
        "oml.config.cache_directory = os.path.expanduser('/content/cache')"
      ],
      "execution_count": null,
      "outputs": []
    },
    {
      "cell_type": "code",
      "metadata": {
        "id": "_3o_TT8SMuLy"
      },
      "source": [
        "# Download Streetview data. Takes a while (several minutes), and quite a bit of\n",
        "# memory when it needs to download. After caching it loads faster.\n",
        "SVHN = oml.datasets.get_dataset(41081)\n",
        "X, y, _, _ = SVHN.get_data(dataset_format='array',\n",
        "    target=SVHN.default_target_attribute)"
      ],
      "execution_count": null,
      "outputs": []
    },
    {
      "cell_type": "code",
      "metadata": {
        "id": "LyPJ4UITWjh2"
      },
      "source": [
        "# Backup solution to download the dataset file from.\n",
        "# File: \"https://drive.google.com/file/d/1zZRRe3ffmuAf1x4yZmYwG_rLiuggep2A/view?usp=sharing\"\n",
        "# Uncomment the text below to use this alternative\n",
        "\n",
        "#import pickle\n",
        "#from pydrive.auth import GoogleAuth\n",
        "#from pydrive.drive import GoogleDrive\n",
        "#from google.colab import auth\n",
        "#from oauth2client.client import GoogleCredentials\n",
        "\n",
        "#auth.authenticate_user()\n",
        "#gauth = GoogleAuth()\n",
        "#gauth.credentials = GoogleCredentials.get_application_default()\n",
        "#gdrive = GoogleDrive(gauth)\n",
        "\n",
        "#downloaded = gdrive.CreateFile({'id':\"1zZRRe3ffmuAf1x4yZmYwG_rLiuggep2A\"})\n",
        "#downloaded.GetContentFile('dataset.pkl.py3')\n",
        "\n",
        "#with open(\"dataset.pkl.py3\", \"rb\") as fh:\n",
        "#    data, categorical, attribute_names = pickle.load(fh)\n",
        "#d = data.to_numpy(dtype='int')\n",
        "#X, y = d[:,:-1], d[:,-1]-1"
      ],
      "execution_count": null,
      "outputs": []
    },
    {
      "cell_type": "markdown",
      "metadata": {
        "id": "EPwHgeC3MuMI"
      },
      "source": [
        "Reshape, sample and split the data"
      ]
    },
    {
      "cell_type": "code",
      "metadata": {
        "id": "3C14250QOGpL"
      },
      "source": [
        "from tensorflow.keras.utils import to_categorical\n",
        "\n",
        "Xr = X.reshape((len(X),32,32,3))\n",
        "Xr = Xr / 255.\n",
        "yr = to_categorical(y)"
      ],
      "execution_count": null,
      "outputs": []
    },
    {
      "cell_type": "code",
      "metadata": {
        "id": "sbxtRoDcMuMK"
      },
      "source": [
        "# DO NOT EDIT. DO NOT OVERWRITE THESE VARIABLES.\n",
        "from sklearn.model_selection import train_test_split\n",
        "# We do an 80-20 split for the training and test set, and then again a 80-20 split into training and validation data\n",
        "X_train_all, X_test, y_train_all, y_test = train_test_split(Xr,yr, stratify=yr, train_size=0.8, test_size=0.2, random_state=1)\n",
        "X_train, X_val, y_train, y_val = train_test_split(X_train_all,y_train_all, stratify=y_train_all, train_size=0.8, random_state=1)\n",
        "evaluation_split = X_train, X_val, y_train, y_val"
      ],
      "execution_count": null,
      "outputs": []
    },
    {
      "cell_type": "markdown",
      "metadata": {
        "id": "gUAf28y2O6ks"
      },
      "source": [
        "Check the formatting - and what the data looks like"
      ]
    },
    {
      "cell_type": "code",
      "metadata": {
        "id": "QEWsr56hMuL8"
      },
      "source": [
        "from random import randint\n",
        "\n",
        "# Takes a list of row ids, and plots the corresponding images\n",
        "# Use grayscale=True for plotting grayscale images\n",
        "def plot_images(X, y, grayscale=False):\n",
        "    fig, axes = plt.subplots(1, len(X),  figsize=(10, 5))\n",
        "    for n in range(len(X)):\n",
        "        if grayscale:\n",
        "            axes[n].imshow(X[n], cmap='gray')\n",
        "        else:\n",
        "            axes[n].imshow(X[n])\n",
        "        axes[n].set_xlabel((np.argmax(y[n])+1)%10) # Label is index+1\n",
        "        axes[n].set_xticks(()), axes[n].set_yticks(())\n",
        "    plt.show();\n",
        "\n",
        "images = [randint(0,len(X_train)) for i in range(5)]\n",
        "X_random = [X_train[i] for i in images]\n",
        "y_random = [y_train[i] for i in images]\n",
        "plot_images(X_random, y_random)"
      ],
      "execution_count": null,
      "outputs": []
    },
    {
      "cell_type": "markdown",
      "metadata": {
        "id": "yUQ22FEawd-J"
      },
      "source": [
        "### Evaluation harness\n",
        "We provide an evaluation function 'run_evaluation' that you should use to \n",
        "evaluate all your models. It also stores the trained models to disk so that\n",
        "your submission can be quickly verified, as well as to avoid having to train\n",
        "them over and over again. Your last run of the evaluation function (the last one\n",
        "stored to file), is the one that will be evaluated. The 'train' argument indicates whether to train or to load from disk. We have provided helper functions for saving and loading models to/from file, assuming you use TensorFlow. If you use PyTorch you'll have to adapt them."
      ]
    },
    {
      "cell_type": "code",
      "metadata": {
        "id": "SFGTq4mUV2zK"
      },
      "source": [
        "import os\n",
        "import pickle\n",
        "import pandas as pd\n",
        "import numpy as np\n",
        "from tensorflow.keras.models import load_model # for use with tensorflow\n",
        "\n",
        "def shout(text, verbose=1):\n",
        "  \"\"\" Prints text in red. Just for fun.\n",
        "  \"\"\"\n",
        "  if verbose>0:\n",
        "    print('\\033[91m'+text+'\\x1b[0m')\n",
        "\n",
        "def load_model_from_file(base_dir, name, extension='.h5'):\n",
        "  \"\"\" Loads a model from a file. The returned model must have a 'fit' and 'summary'\n",
        "  function following the Keras API. Don't change if you use TensorFlow. Otherwise,\n",
        "  adapt as needed. \n",
        "  Keyword arguments:\n",
        "    base_dir -- Directory where the models are stored\n",
        "    name -- Name of the model, e.g. 'question_1_1'\n",
        "    extension -- the file extension\n",
        "  \"\"\"\n",
        "  try:\n",
        "    model = load_model(os.path.join(base_dir, name+extension))\n",
        "  except OSError:\n",
        "    shout(\"Saved model could not be found. Was it trained and stored correctly? Is the base_dir correct?\")\n",
        "    return False\n",
        "  return model\n",
        "\n",
        "def save_model_to_file(model, base_dir, name, extension='.h5'):\n",
        "  \"\"\" Saves a model to file. Don't change if you use TensorFlow. Otherwise,\n",
        "  adapt as needed. \n",
        "  Keyword arguments:\n",
        "    model -- the model to be saved\n",
        "    base_dir -- Directory where the models should be stored\n",
        "    name -- Name of the model, e.g. 'question_1_1'\n",
        "    extension -- the file extension\n",
        "  \"\"\"\n",
        "  model.save(os.path.join(base_dir, name+extension))\n",
        "\n",
        "# Helper function to extract min/max from the learning curves\n",
        "def minMax(x):\n",
        "  return pd.Series(index=['min','max'],data=[x.min(),x.max()])\n",
        "\n",
        "# DO NOT EDIT\n",
        "def run_evaluation(name, model_builder, data, base_dir, train=True, \n",
        "                   generator=False, epochs=3, batch_size=32, steps_per_epoch=60, \n",
        "                   verbose=1, **kwargs):\n",
        "  \"\"\" Trains and evaluates the given model on the predefined train and test splits,\n",
        "  stores the trained model and learning curves. Also prints out a summary of the \n",
        "  model and plots the learning curves.\n",
        "  Keyword arguments:\n",
        "    name -- the name of the model to be stored, e.g. 'question_1_1.h5'\n",
        "    model_builder -- function that returns an (untrained) model. The model must \n",
        "                     have a 'fit' function that follows the Keras API. It can wrap\n",
        "                     a non-Keras model as long as the 'fit' function takes the \n",
        "                     same attributes and returns the learning curves (history).\n",
        "                     It also must have a 'summary' function that prints out a \n",
        "                     model summary, and a 'save' function that saves the model \n",
        "                     to disk. \n",
        "    data -- data split for evaluation. A tuple of either:\n",
        "            * Numpy arrays (X_train, X_val, y_train, y_val)\n",
        "            * A data generator and validation data (generator, X_val, y_val)\n",
        "    base_dir -- the directory to save or read models to/from\n",
        "    train -- whether or not the data should be trained. If False, the trained model\n",
        "             will be loaded from disk.\n",
        "    generator -- whether the data in given as a generator or not\n",
        "    epochs -- the number of epochs to train for\n",
        "    batch_size -- the batch size to train with\n",
        "    steps_per_epoch -- steps per epoch, in case a generator is used (ignored otherwise)\n",
        "    verbose -- verbosity level, 0: silent, 1: minimal,...\n",
        "    kwargs -- keyword arguments that should be passed to model_builder.\n",
        "              Not required, but may help you to adjust its behavior\n",
        "  \"\"\"\n",
        "  model = model_builder(**kwargs)\n",
        "  if not model:\n",
        "    shout(\"No model is returned by the model_builder\")\n",
        "    return\n",
        "  if not hasattr(model, 'fit'):\n",
        "    shout(\"Model is not built correctly\")\n",
        "    return\n",
        "  learning_curves = {}\n",
        "  if train and not stop_training: # Train anew\n",
        "    shout(\"Training the model\", verbose)\n",
        "    if generator:\n",
        "      generator, X_val, y_val = data\n",
        "      history = model.fit(generator, epochs=epochs, batch_size=batch_size,\n",
        "                          steps_per_epoch=steps_per_epoch, verbose=1, \n",
        "                          validation_data=(X_val, y_val))\n",
        "      learning_curves = history.history\n",
        "    else:\n",
        "      X_train, X_val, y_train, y_val = data\n",
        "      history = model.fit(X_train, y_train, epochs=epochs, batch_size=batch_size,\n",
        "                          verbose=1, validation_data=(X_val, y_val))\n",
        "      learning_curves = history.history\n",
        "    shout(\"Saving to file\", verbose)\n",
        "    save_model_to_file(model, base_dir, name)\n",
        "    with open(os.path.join(base_dir, name+'.p'), 'wb') as file_pi:\n",
        "      pickle.dump(learning_curves, file_pi)\n",
        "    shout(\"Model stored in \"+base_dir, verbose)\n",
        "  else: # Load from file\n",
        "    shout(\"Loading model from file\", verbose)\n",
        "    model = load_model_from_file(base_dir, name)\n",
        "    if not model:\n",
        "      shout(\"Model not found\")\n",
        "      return\n",
        "    learning_curves = None\n",
        "    try:\n",
        "      learning_curves = pickle.load(open(os.path.join(base_dir, name+'.p'), \"rb\"))\n",
        "    except FileNotFoundError:\n",
        "      shout(\"Learning curves not found\")\n",
        "      return\n",
        "    shout(\"Success!\", verbose)\n",
        "  # Report\n",
        "  print(model.summary())\n",
        "  lc = pd.DataFrame(learning_curves)\n",
        "  lc.plot(lw=2,style=['b:','r:','b-','r-']);\n",
        "  plt.xlabel('epochs');\n",
        "  print(lc.apply(minMax))"
      ],
      "execution_count": null,
      "outputs": []
    },
    {
      "cell_type": "code",
      "metadata": {
        "id": "FCzYq_jpkDZO"
      },
      "source": [
        "# Toy usage example\n",
        "# Remove before submission\n",
        "from tensorflow.keras import models\n",
        "from tensorflow.keras import layers \n",
        "\n",
        "def build_toy_model():\n",
        "  model = models.Sequential()\n",
        "  model.add(layers.Reshape((3072,), input_shape=(32,32,3)))\n",
        "  model.add(layers.Dense(10, activation='relu'))\n",
        "  model.add(layers.Dense(10, activation='softmax'))\n",
        "  model.compile(optimizer='rmsprop',\n",
        "                loss='categorical_crossentropy',\n",
        "                metrics=['accuracy'])\n",
        "  return model\n",
        "\n",
        "# First build and store\n",
        "run_evaluation(\"toy_example\", build_toy_model, evaluation_split, base_dir, \n",
        "               train=True, epochs=3, batch_size=32)"
      ],
      "execution_count": null,
      "outputs": []
    },
    {
      "cell_type": "code",
      "metadata": {
        "id": "vKkkQwwdta8r"
      },
      "source": [
        "# Toy usage example\n",
        "# Remove before submission\n",
        "# With train=False: load from file and report the same results without rerunning\n",
        "run_evaluation(\"toy_example\", build_toy_model, evaluation_split, base_dir, \n",
        "               train=False)"
      ],
      "execution_count": null,
      "outputs": []
    },
    {
      "cell_type": "markdown",
      "metadata": {
        "id": "IU_zPWGPypce"
      },
      "source": [
        "## Part 1. Dense networks (10 points)\n",
        "\n",
        "### Question 1.1: Baseline model (4 points)\n",
        "- Build a dense network (with only dense layers) of at least 3 layers that is shaped like a pyramid: The first layer must have many nodes, and every subsequent layer must have increasingly fewer nodes, e.g. half as many. Implement a function 'build_model_1_1' that returns this model.\n",
        "- You can explore different settings, but don't use any preprocessing or regularization yet. You should be able to achieve at least 70% accuracy, but more is of course better. Unless otherwise stated, you can use accuracy as the evaluation metric in all questions.\n",
        "* Add a small description of your design choices (max. 500 characters) in 'answer_q_1_1': explain what you did and also why. Also discuss the performance of the model. Is it working well? Both the performance of the model and your explanations matter.\n",
        "- The name of the model should be 'model_1_1'. Evaluate it using the 'run_evaluation' function. For this question, you should not use more than 50 epochs."
      ]
    },
    {
      "cell_type": "code",
      "metadata": {
        "id": "hci6BIdHJTN0"
      },
      "source": [
        "def build_model_1_1():\n",
        "  pass\n",
        "run_evaluation(\"model_1_1\", build_model_1_1, evaluation_split, base_dir, \n",
        "               train=True, epochs=3, batch_size=32)\n",
        "answer_q_1_1 = \"\"\"\n",
        "               Your answer \n",
        "               \"\"\"\n",
        "print(\"Answer is {} characters long\".format(len(answer_q_1_1)))"
      ],
      "execution_count": null,
      "outputs": []
    },
    {
      "cell_type": "markdown",
      "metadata": {
        "id": "kmicpoNvonjd"
      },
      "source": [
        "### Question 1.2: Preprocessing (2 points)\n",
        "Rerun the model, but now preprocess the data first by converting the images to \n",
        "greyscale. You can use the helper function below. If you want to do additional \n",
        "preprocessing, you can do that here, too.\n",
        "* Store the preprocessed data as a tuple `preprocessed_split`\n",
        "* Rerun and re-evaluate your model using the preprocessed data.\n",
        "  * For the remainder of the assignment, always use the preprocessed data\n",
        "* Explain what you did and interpret the results in 'answer_q_1_2'. Is the model\n",
        "  better, if so, why?"
      ]
    },
    {
      "cell_type": "code",
      "metadata": {
        "id": "_wFGWDQSqkIM"
      },
      "source": [
        "# Luminance-preserving RGB to greyscale conversion\n",
        "def rgb2gray(X):\n",
        "    return np.expand_dims(np.dot(X, [0.2990, 0.5870, 0.1140]), axis=3)"
      ],
      "execution_count": null,
      "outputs": []
    },
    {
      "cell_type": "code",
      "metadata": {
        "id": "3aTVsLaojNeM"
      },
      "source": [
        "# Replace with the preprocessed data\n",
        "preprocessed_split = X_train, X_val, y_train, y_val\n",
        "\n",
        "# Adjusted model\n",
        "def build_model_1_2():\n",
        "  pass\n",
        "\n",
        "# Evaluate. Use a new name 'model_1_2' to not overwrite the previous trained model\n",
        "run_evaluation(\"model_1_2\", build_model_1_2, preprocessed_split, base_dir, \n",
        "               train=True, epochs=3, batch_size=32)\n",
        "answer_q_1_2 = \"\"\"\n",
        "               Your answer \n",
        "               \"\"\"\n",
        "print(\"Answer is {} characters long\".format(len(answer_q_1_2)))"
      ],
      "execution_count": null,
      "outputs": []
    },
    {
      "cell_type": "markdown",
      "metadata": {
        "id": "7l1pHwimiWQI"
      },
      "source": [
        "### Question 1.3: Regularization and tuning (4 points)\n",
        "* Regularize the model. You can explore (and combine) different techniques. What works best?\n",
        "* Tune other hyperparameters (e.g. learning rate, batch size,...) as you see fit.\n",
        "* Explain your findings and final design decisions. Retrain the model again on the preprocessed data and discuss the results.\n",
        "* Return your model in function 'build_model_1_3' and write your answer in 'answer_q_1_3'"
      ]
    },
    {
      "cell_type": "code",
      "metadata": {
        "id": "2ZZenVX1jDIQ"
      },
      "source": [
        "def build_model_1_3():\n",
        "  pass\n",
        "run_evaluation(\"model_1_3\", build_model_1_3, preprocessed_split, base_dir, \n",
        "               train=True, epochs=3, batch_size=32)\n",
        "answer_q_1_3 = \"\"\"\n",
        "               Your answer \n",
        "               \"\"\"\n",
        "print(\"Answer is {} characters long\".format(len(answer_q_1_3)))"
      ],
      "execution_count": null,
      "outputs": []
    },
    {
      "cell_type": "markdown",
      "metadata": {
        "id": "leo7YbI9L5et"
      },
      "source": [
        "## Part 2. Convolutional neural networks (10 points)\n",
        "### Question 2.1: Design a ConvNet (7 points)\n",
        "- Build a sequential convolutional neural network. Try to achieve the best validation accuracy you can. You should be able to get at least 90% accuracy. You can use any depth, any combination of layers, and any kind of regularization and tuning. \n",
        "- Add a description of your design choices in 'answer_q_2_1': explain what you did and also why. Also discuss the performance of the model. Is it working well? Both the performance of the model and your explanations matter.\n",
        "- You are allowed **800** characters for this answer (but don’t ramble).\n",
        "- The name of the model should be 'model_2_1'. Evaluate it using the 'run_evaluation' function and the preprocessed data."
      ]
    },
    {
      "cell_type": "code",
      "metadata": {
        "id": "ceyv-n1JRYyP"
      },
      "source": [
        "def build_model_2_1():\n",
        "  pass\n",
        "run_evaluation(\"model_2_1\", build_model_2_1, preprocessed_split, base_dir, \n",
        "               train=True, epochs=3, batch_size=32)\n",
        "answer_q_2_1 = \"\"\"\n",
        "               Your answer \n",
        "               \"\"\"\n",
        "print(\"Answer is {} characters long\".format(len(answer_q_2_1)))"
      ],
      "execution_count": null,
      "outputs": []
    },
    {
      "cell_type": "markdown",
      "metadata": {
        "id": "EpdLTbPwXmOc"
      },
      "source": [
        "### Question 2.2: Data Augmentation (3 points)\n",
        "\n",
        "- Augment the preprocessed training data. You can explore using image shifts, rotations, zooming, flips, etc. What works well, and what does not?\n",
        "- Evaluate the model from question 2.1 with the augmented data using the 'run_evaluation' function. Store the new trained model as 'model_2_2'.\n",
        "- Add a description of your design choices in 'answer_q_2_2': explain what you did and also why. Also discuss the performance of the model."
      ]
    },
    {
      "cell_type": "code",
      "metadata": {
        "id": "cp8wMUU-aqhQ"
      },
      "source": [
        "# Note that we build the same untrained model as in question 2.1 but store the \n",
        "# trained version as model_2_2. Change attributes as needed to run on augmented\n",
        "# data\n",
        "run_evaluation(\"model_2_2\", build_model_2_1, preprocessed_split, base_dir, \n",
        "               train=True, epochs=3, batch_size=32)\n",
        "answer_q_2_2 = \"\"\"\n",
        "               Your answer \n",
        "               \"\"\"\n",
        "print(\"Answer is {} characters long\".format(len(answer_q_2_2)))"
      ],
      "execution_count": null,
      "outputs": []
    },
    {
      "cell_type": "markdown",
      "metadata": {
        "id": "Nb8jrFlnbBUP"
      },
      "source": [
        "## Part 3. Model interpretation (10 points)\n",
        "### Question 3.1: Interpreting misclassifications (2 points)\n",
        "Study which errors are still made by your last model (model_2_2) by evaluating it on the test data. You do not need to retrain the model.\n",
        "* What is the accuracy of model_2_2 on the test data? Store this in 'test_accuracy_3_1'.\n",
        "* Plot the confusion matrix in 'plot_confusion_matrix' and discuss which classes are often confused.\n",
        "* Visualize the misclassifications in more depth by focusing on a single\n",
        "class (e.g. the number '2') and analyse which kinds of mistakes are made for that class. For instance, are the errors related to the background, noisiness, etc.? Implement the visualization in 'plot_misclassifications'.\n",
        "* Summarize your findings in 'answer_q_3_1'"
      ]
    },
    {
      "cell_type": "code",
      "metadata": {
        "id": "yNg-7JsSbn2-"
      },
      "source": [
        "test_accuracy_3_1 = 0\n",
        "def plot_confusion_matrix():\n",
        "  pass\n",
        "def plot_misclassifications():\n",
        "  pass\n",
        "answer_q_3_1 = \"\"\"\n",
        "               Your answer \n",
        "               \"\"\""
      ],
      "execution_count": null,
      "outputs": []
    },
    {
      "cell_type": "markdown",
      "metadata": {
        "id": "EBRdBpz5Hcrx"
      },
      "source": [
        "### Question 3.2: Visualizing activations (4 points)\n",
        "* Implement a function `plot_activations()` that returns the most interesting activations (feature maps). Select the first example from the test set. Retrieve and visualize the activations of model 2_2 for that example (make sure you load that model in the function), for every filter for different convolutional layers (at different depths in the network).\n",
        "* Give an explanation (as detailed as you can) about your observations in 'answer_q_3_2'. Is your model indeed learning something useful?"
      ]
    },
    {
      "cell_type": "code",
      "metadata": {
        "id": "TyQ-IHHcN5Qc"
      },
      "source": [
        "def plot_activations():\n",
        "  pass\n",
        "answer_q_3_2 = \"\"\"\n",
        "               Your answer \n",
        "               \"\"\""
      ],
      "execution_count": null,
      "outputs": []
    },
    {
      "cell_type": "markdown",
      "metadata": {
        "id": "PpF-gvH_QhYX"
      },
      "source": [
        "### Question 3.3: Visualizing the learned embeddings with tSNE (4 points)\n",
        "\n",
        "Extract the learned embeddings of the images from X_train using your `model_2_2` and plot them on a 2D map using [tSNE](https://lvdmaaten.github.io/tsne/) as the dimensionality reduction technique.\n",
        "\n",
        "- Implement a function `create_embeddings` to extract the n-sized embeddings of the training set based on the  Convolutional part of `model_2_2` (e.g VGG16 generates 512-sized embeddings)\n",
        "- Implement a function `compute_tsne` that applies scikit-learn's implementation of [tSNE](https://scikit-learn.org/stable/modules/generated/sklearn.manifold.TSNE.html) to reduce the size of the embeddings from n to 2 (e.g for VGG16 this will mean `original_array` of  size (num_images, 512) compressed to a reduced array of size (num_images, 2))\n",
        "- Implement a function `plot_tsne` that plots the 2D vector on a map highlighting the formed clusters, and color-coded by the true binary labels. Please note that this may take a while to compute the tSNE embeddings.\n",
        "- Interpret the results from the map in `answer_q_2_3`"
      ]
    },
    {
      "cell_type": "code",
      "metadata": {
        "id": "2Y5hn2TTf3a1"
      },
      "source": [
        "from sklearn.manifold import TSNE\n",
        "\n",
        "def create_embeddings(model_file):\n",
        "    \"\"\" Returns the image embeddings of X_train learned in the given model\n",
        "    \"\"\"\n",
        "    return None\n",
        "\n",
        "def compute_tsne(original_array):\n",
        "    \"\"\" Returns the 2D embeddings of original_array created by TSNE\n",
        "    \"\"\"\n",
        "    return None\n",
        "\n",
        "# n-sized embeddings extracted from X_train and reduced to 2-sized embeddings\n",
        "dn_embs = create_embeddings(\"model_2_2\")\n",
        "d2_embs = compute_tsne(dn_embs)"
      ],
      "execution_count": null,
      "outputs": []
    },
    {
      "cell_type": "code",
      "metadata": {
        "id": "KwBwEHTdhmy2"
      },
      "source": [
        "import seaborn as sns\n",
        "\n",
        "def plot_tsne(tsne_embeds, labels):\n",
        "    pass\n",
        "\n",
        "plot_tsne(d2_embs, y_train)\n",
        "\n",
        "answer_q_2_3 = \"\"\"\n",
        "               Your answer \n",
        "               \"\"\"\n",
        "print(\"Answer is {} characters long\".format(len(answer_q_2_3)))"
      ],
      "execution_count": null,
      "outputs": []
    },
    {
      "cell_type": "markdown",
      "metadata": {
        "id": "buQLQ16EypgL"
      },
      "source": [
        "## Part 4. Transfer learning (10 points)\n",
        "### Question 4.1 Fast feature extraction with VGG16 (5 points)\n",
        "- Import the VGG16 model, pretrained on ImageNet. [See here](https://keras.io/applications/). Only import the convolutional part, not the dense layers.\n",
        "- Implement a function 'build_model_4_1` that adds a dense layer to the convolutional base, and freezes the convolutional base.\n",
        "- You can also add any kind of regularization.\n",
        "- Train the resulting model on the *original* (colored) training data\n",
        "- Evaluate the resulting model using 'run_evaluate'. Discuss the observed performance in 'answer_q_4_1'."
      ]
    },
    {
      "cell_type": "code",
      "metadata": {
        "id": "QXH1Z7Pqj3HW"
      },
      "source": [
        "def build_model_4_1():\n",
        "  pass\n",
        "run_evaluation(\"model_4_1\", build_model_4_1, preprocessed_split, base_dir, \n",
        "               train=True, epochs=3, batch_size=32)\n",
        "answer_q_4_1 = \"\"\"\n",
        "               Your answer \n",
        "               \"\"\"\n",
        "print(\"Answer is {} characters long\".format(len(answer_q_4_1)))"
      ],
      "execution_count": null,
      "outputs": []
    },
    {
      "cell_type": "markdown",
      "metadata": {
        "id": "U7P_7rV-SHPS"
      },
      "source": [
        "### Question 4.2 Optimizing transfer (5 points)\n",
        "\n",
        "Perform the same transfer learning as in `Question 4.1`, but try to improve the performance.\n",
        "\n",
        "- Consider unfreezing the last few convolutional layers and evaluate whether that works better.\n",
        "- Consider other models to transfer from. For a comparison between different architectures, see [this link](https://towardsdatascience.com/illustrated-10-cnn-architectures-95d78ace614d), or choose one of the available architectures from [Keras Applications](https://keras.io/api/applications/). \n",
        "- Keep in mind that bigger models don't always perform better, some don't work on small images. Also try to use models that do\n",
        "not take more than 100MB of storage.\n",
        "- Evaluate the resulting model using 'run_evaluate'. Discuss the observed performance in 'answer_q_4_2'.\n"
      ]
    },
    {
      "cell_type": "code",
      "metadata": {
        "id": "VjMxhP1FuCxj"
      },
      "source": [
        "# Load pre-trained model, can be other than VGG16\n",
        "conv_base = None\n",
        "\n",
        "def build_model_4_2():\n",
        "    pass\n",
        "\n",
        "run_evaluation(\"model_4_2\", build_model_4_2, augmented_split, base_dir, \n",
        "               train=True, generator=True, epochs=3, batch_size=None)\n",
        "\n",
        "answer_q_4_2 = \"\"\"\n",
        "               Your answer \n",
        "               \"\"\"\n",
        "\n",
        "print(\"Answer is {} characters long\".format(len(answer_q_3_2)))"
      ],
      "execution_count": null,
      "outputs": []
    }
  ]
}