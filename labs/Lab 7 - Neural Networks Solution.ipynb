{
 "cells": [
  {
   "cell_type": "markdown",
   "metadata": {
    "id": "TL5y5fY9Jy_x"
   },
   "source": [
    "# Lab 7: Neural networks \n",
    "\n",
    "In this lab we will build dense neural networks on the MNIST dataset.\n",
    "\n",
    "Make sure you read the tutorial for this lab first."
   ]
  },
  {
   "cell_type": "markdown",
   "metadata": {},
   "source": [
    "## Load the data and create train-test splits"
   ]
  },
  {
   "cell_type": "code",
   "execution_count": 1,
   "metadata": {},
   "outputs": [
    {
     "name": "stdout",
     "output_type": "stream",
     "text": [
      "Using Keras 2.6.0\n"
     ]
    }
   ],
   "source": [
    "# Global imports and settings\n",
    "from preamble import *\n",
    "import tensorflow.keras as keras\n",
    "print(\"Using Keras\",keras.__version__)\n",
    "%matplotlib inline"
   ]
  },
  {
   "cell_type": "code",
   "execution_count": 2,
   "metadata": {},
   "outputs": [
    {
     "data": {
      "application/pdf": "[encoded data removed]",
      "image/png": "[encoded data removed]",
      "text/plain": [
       "<Figure size 720x360 with 5 Axes>"
      ]
     },
     "metadata": {},
     "output_type": "display_data"
    }
   ],
   "source": [
    "# Download MNIST data. Takes a while the first time.\n",
    "mnist = oml.datasets.get_dataset(554)\n",
    "X, y, _, _ = mnist.get_data(target=mnist.default_target_attribute, dataset_format='array');\n",
    "X = X.reshape(70000, 28, 28)\n",
    "\n",
    "# Take some random examples\n",
    "from random import randint\n",
    "fig, axes = plt.subplots(1, 5,  figsize=(10, 5))\n",
    "for i in range(5):\n",
    "    n = randint(0,70000)\n",
    "    axes[i].imshow(X[n], cmap=plt.cm.gray_r)\n",
    "    axes[i].set_xticks([])\n",
    "    axes[i].set_yticks([])\n",
    "    axes[i].set_xlabel(\"{}\".format(y[n]))\n",
    "plt.show();"
   ]
  },
  {
   "cell_type": "code",
   "execution_count": 3,
   "metadata": {
    "id": "JZlvdpyYKx7V"
   },
   "outputs": [],
   "source": [
    "# For MNIST, there exists a predefined stratified train-test split of 60000-10000. We therefore don't shuffle or stratify here.\n",
    "from sklearn.model_selection import train_test_split\n",
    "X_train, X_test, y_train, y_test = train_test_split(X, y, train_size=60000, random_state=0)"
   ]
  },
  {
   "cell_type": "markdown",
   "metadata": {
    "id": "8ldP-5z1B2vL"
   },
   "source": [
    "## Exercise 1: Preprocessing\n",
    "* Normalize the data: map each feature value from its current representation (an integer between 0 and 255) to a floating-point value between 0 and 1.0. \n",
    "* Store the floating-point values in `x_train_normalized` and `x_test_normalized`.\n",
    "* Map the class label to a on-hot-encoded value. Store in `y_train_encoded` and `y_test_encoded`."
   ]
  },
  {
   "cell_type": "code",
   "execution_count": 4,
   "metadata": {
    "cellView": "form",
    "id": "g8HC-TDgB1D1"
   },
   "outputs": [],
   "source": [
    "# Solution\n",
    "x_train_normalized = X_train / 255.0\n",
    "x_test_normalized = X_test / 255.0\n",
    "\n",
    "from tensorflow.keras.utils import to_categorical\n",
    "y_train_encoded = to_categorical(y_train)\n",
    "y_test_encoded = to_categorical(y_test)"
   ]
  },
  {
   "cell_type": "markdown",
   "metadata": {
    "id": "3014ezH3C7jT"
   },
   "source": [
    "## Exercise 2: Create a deep neural net model\n",
    "\n",
    "Implement a `create_model` function which defines the topography of the deep neural net, specifying the following:\n",
    "\n",
    "* The number of layers in the deep neural net: Use 2 dense layers for now.\n",
    "* The number of nodes in each layer: these are parameters of your function.\n",
    "* Any regularization layers. Add at least one dropout layer.\n",
    "* The optimizer and learning rate. Make the learning rate a parameter of your function as well.\n",
    "\n",
    "Consider:\n",
    "* What should be the shape of the input layer?\n",
    "* Which activation function you will need for the last layer, since this is a 10-class classification problem?"
   ]
  },
  {
   "cell_type": "code",
   "execution_count": 5,
   "metadata": {},
   "outputs": [],
   "source": [
    "### Create and compile a 'deep' neural net\n",
    "def create_model(layer_1_units=32, layer_2_units=10, learning_rate=0.001, dropout_rate=0.3):\n",
    "    pass"
   ]
  },
  {
   "cell_type": "code",
   "execution_count": 6,
   "metadata": {
    "cellView": "both",
    "id": "pedD5GhlDC-y"
   },
   "outputs": [],
   "source": [
    "# Solution\n",
    "def create_model(layer_1_units=32, layer_2_units=10, learning_rate=0.001, dropout_rate=0.3):\n",
    "\n",
    "    model = keras.models.Sequential()\n",
    "\n",
    "    # The features are stored in a two-dimensional 28X28 array. \n",
    "    # Flatten that two-dimensional array into a a one-dimensional \n",
    "    # 784-element array.\n",
    "    model.add(keras.layers.Flatten(input_shape=(28, 28)))\n",
    "\n",
    "    # Define the first hidden layer.   \n",
    "    model.add(keras.layers.Dense(units=32, activation='relu'))\n",
    "\n",
    "    # Define a dropout regularization layer. \n",
    "    model.add(keras.layers.Dropout(rate=dropout_rate))\n",
    "\n",
    "    # Define the output layer. The units parameter is set to 10 because\n",
    "    # the model must choose among 10 possible output values (representing\n",
    "    # the digits from 0 to 9, inclusive).\n",
    "    model.add(keras.layers.Dense(units=10, activation='softmax'))     \n",
    "\n",
    "    # Construct the layers into a model that TensorFlow can execute.  \n",
    "    # Notice that the loss function for multi-class classification\n",
    "    # is different than the loss function for binary classification.\n",
    "    # Using Adam here. RMSProp would also be fine\n",
    "    model.compile(optimizer=keras.optimizers.Adam(lr=learning_rate),\n",
    "                  loss=\"categorical_crossentropy\", metrics=['accuracy'])\n",
    "\n",
    "    return model       "
   ]
  },
  {
   "cell_type": "markdown",
   "metadata": {},
   "source": [
    "## Exercise 3: Create a training function\n",
    "Implement a `train_model` function which trains and evaluates a given model.\n",
    "It should do a train-validation split and report the train and validation loss and accuracy, and return the training history."
   ]
  },
  {
   "cell_type": "code",
   "execution_count": 7,
   "metadata": {},
   "outputs": [],
   "source": [
    "def train_model(model, X, y, validation_split=0.1, epochs=10, batch_size=None):\n",
    "    \"\"\"\n",
    "    model: the model to train\n",
    "    X, y: the training data and labels\n",
    "    validation_split: the percentage of data set aside for the validation set\n",
    "    epochs: the number of epochs to train for\n",
    "    batch_size: the batch size for minibatch SGD\n",
    "    \"\"\"\n",
    "    pass"
   ]
  },
  {
   "cell_type": "code",
   "execution_count": 8,
   "metadata": {},
   "outputs": [],
   "source": [
    "# Solution\n",
    "def train_model(model, X, y, validation_split=0.1, epochs=10, batch_size=None):\n",
    "    \"\"\"\n",
    "    model: the model to train\n",
    "    X, y: the training data and labels\n",
    "    validation_split: the percentage of data set aside for the validation set\n",
    "    epochs: the number of epochs to train for\n",
    "    batch_size: the batch size for minibatch SGD\n",
    "    \"\"\"\n",
    "    X_train, x_val, y_train, y_val = train_test_split(X, y, test_size=validation_split, shuffle=True, stratify=y, random_state=0)\n",
    "    \n",
    "    history = model.fit(x=X_train, y=y_train, batch_size=batch_size,\n",
    "                        epochs=epochs, shuffle=True, validation_data=(x_val, y_val))\n",
    "    return history "
   ]
  },
  {
   "cell_type": "markdown",
   "metadata": {
    "id": "D-IXYVfvM4gD"
   },
   "source": [
    "## Exercise 4: Evaluate the model\n",
    "\n",
    "Train the model with a learning rate of 0.003, 50 epochs, batch size 4000, and a validation set that is 20% of the total training data.\n",
    "Use default settings otherwise. Plot the learning curve of the loss, validation loss, accuracy, and validation accuracy. Finally, report the performance on the test set.\n",
    "\n",
    "Feel free to use the plotting function below, or implement the callback from the tutorial to see results in real time."
   ]
  },
  {
   "cell_type": "code",
   "execution_count": 9,
   "metadata": {
    "cellView": "form",
    "id": "QF0BFRXTOeR3"
   },
   "outputs": [],
   "source": [
    "# Helper plotting function\n",
    "#\n",
    "# history: the history object returned by the fit function\n",
    "# list_of_metrics: the metrics to plot\n",
    "def plot_curve(history, list_of_metrics):\n",
    "    \n",
    "    plt.figure()\n",
    "    plt.xlabel(\"Epoch\")\n",
    "    plt.ylabel(\"Value\")\n",
    "\n",
    "    epochs = history.epoch\n",
    "    hist = pd.DataFrame(history.history)\n",
    "\n",
    "    for m in list_of_metrics:\n",
    "        x = hist[m]\n",
    "        plt.plot(epochs[1:], x[1:], label=m, lw=2)\n",
    "\n",
    "    plt.legend()"
   ]
  },
  {
   "cell_type": "code",
   "execution_count": 10,
   "metadata": {
    "cellView": "both",
    "id": "nj3v5EKQFY8s"
   },
   "outputs": [
    {
     "name": "stderr",
     "output_type": "stream",
     "text": [
      "2021-11-03 11:20:17.420749: I tensorflow/stream_executor/cuda/cuda_gpu_executor.cc:937] successful NUMA node read from SysFS had negative value (-1), but there must be at least one NUMA node, so returning NUMA node zero\n",
      "2021-11-03 11:20:17.424835: I tensorflow/stream_executor/cuda/cuda_gpu_executor.cc:937] successful NUMA node read from SysFS had negative value (-1), but there must be at least one NUMA node, so returning NUMA node zero\n",
      "2021-11-03 11:20:17.425060: I tensorflow/stream_executor/cuda/cuda_gpu_executor.cc:937] successful NUMA node read from SysFS had negative value (-1), but there must be at least one NUMA node, so returning NUMA node zero\n",
      "2021-11-03 11:20:17.425435: I tensorflow/core/platform/cpu_feature_guard.cc:142] This TensorFlow binary is optimized with oneAPI Deep Neural Network Library (oneDNN) to use the following CPU instructions in performance-critical operations:  AVX2 FMA\n",
      "To enable them in other operations, rebuild TensorFlow with the appropriate compiler flags.\n",
      "2021-11-03 11:20:17.425808: I tensorflow/stream_executor/cuda/cuda_gpu_executor.cc:937] successful NUMA node read from SysFS had negative value (-1), but there must be at least one NUMA node, so returning NUMA node zero\n",
      "2021-11-03 11:20:17.426032: I tensorflow/stream_executor/cuda/cuda_gpu_executor.cc:937] successful NUMA node read from SysFS had negative value (-1), but there must be at least one NUMA node, so returning NUMA node zero\n",
      "2021-11-03 11:20:17.426236: I tensorflow/stream_executor/cuda/cuda_gpu_executor.cc:937] successful NUMA node read from SysFS had negative value (-1), but there must be at least one NUMA node, so returning NUMA node zero\n",
      "2021-11-03 11:20:17.785595: I tensorflow/stream_executor/cuda/cuda_gpu_executor.cc:937] successful NUMA node read from SysFS had negative value (-1), but there must be at least one NUMA node, so returning NUMA node zero\n",
      "2021-11-03 11:20:17.785844: I tensorflow/stream_executor/cuda/cuda_gpu_executor.cc:937] successful NUMA node read from SysFS had negative value (-1), but there must be at least one NUMA node, so returning NUMA node zero\n",
      "2021-11-03 11:20:17.786058: I tensorflow/stream_executor/cuda/cuda_gpu_executor.cc:937] successful NUMA node read from SysFS had negative value (-1), but there must be at least one NUMA node, so returning NUMA node zero\n",
      "2021-11-03 11:20:17.786239: I tensorflow/core/common_runtime/gpu/gpu_device.cc:1510] Created device /job:localhost/replica:0/task:0/device:GPU:0 with 2111 MB memory:  -> device: 0, name: GeForce GTX 1650, pci bus id: 0000:01:00.0, compute capability: 7.5\n",
      "2021-11-03 11:20:18.396732: I tensorflow/compiler/mlir/mlir_graph_optimization_pass.cc:185] None of the MLIR Optimization Passes are enabled (registered 2)\n"
     ]
    },
    {
     "name": "stdout",
     "output_type": "stream",
     "text": [
      "Epoch 1/50\n",
      "12/12 [==============================] - 1s 17ms/step - loss: 2.0395 - accuracy: 0.3100 - val_loss: 1.6514 - val_accuracy: 0.5953\n",
      "Epoch 2/50\n",
      "12/12 [==============================] - 0s 9ms/step - loss: 1.4954 - accuracy: 0.5504 - val_loss: 1.1315 - val_accuracy: 0.7416\n",
      "Epoch 3/50\n",
      "12/12 [==============================] - 0s 7ms/step - loss: 1.1413 - accuracy: 0.6589 - val_loss: 0.8473 - val_accuracy: 0.8057\n",
      "Epoch 4/50\n",
      "12/12 [==============================] - 0s 7ms/step - loss: 0.9356 - accuracy: 0.7269 - val_loss: 0.6915 - val_accuracy: 0.8386\n",
      "Epoch 5/50\n",
      "12/12 [==============================] - 0s 7ms/step - loss: 0.8088 - accuracy: 0.7655 - val_loss: 0.5925 - val_accuracy: 0.8580\n",
      "Epoch 6/50\n",
      "12/12 [==============================] - 0s 7ms/step - loss: 0.7263 - accuracy: 0.7886 - val_loss: 0.5293 - val_accuracy: 0.8726\n",
      "Epoch 7/50\n",
      "12/12 [==============================] - 0s 7ms/step - loss: 0.6639 - accuracy: 0.8082 - val_loss: 0.4838 - val_accuracy: 0.8808\n",
      "Epoch 8/50\n",
      "12/12 [==============================] - 0s 7ms/step - loss: 0.6198 - accuracy: 0.8193 - val_loss: 0.4496 - val_accuracy: 0.8862\n",
      "Epoch 9/50\n",
      "12/12 [==============================] - 0s 7ms/step - loss: 0.5861 - accuracy: 0.8305 - val_loss: 0.4242 - val_accuracy: 0.8911\n",
      "Epoch 10/50\n",
      "12/12 [==============================] - 0s 7ms/step - loss: 0.5585 - accuracy: 0.8393 - val_loss: 0.4021 - val_accuracy: 0.8939\n",
      "Epoch 11/50\n",
      "12/12 [==============================] - 0s 6ms/step - loss: 0.5346 - accuracy: 0.8456 - val_loss: 0.3849 - val_accuracy: 0.8959\n",
      "Epoch 12/50\n",
      "12/12 [==============================] - 0s 7ms/step - loss: 0.5140 - accuracy: 0.8512 - val_loss: 0.3725 - val_accuracy: 0.8997\n",
      "Epoch 13/50\n",
      "12/12 [==============================] - 0s 8ms/step - loss: 0.5024 - accuracy: 0.8545 - val_loss: 0.3586 - val_accuracy: 0.9013\n",
      "Epoch 14/50\n",
      "12/12 [==============================] - 0s 8ms/step - loss: 0.4819 - accuracy: 0.8605 - val_loss: 0.3472 - val_accuracy: 0.9042\n",
      "Epoch 15/50\n",
      "12/12 [==============================] - 0s 7ms/step - loss: 0.4724 - accuracy: 0.8637 - val_loss: 0.3379 - val_accuracy: 0.9058\n",
      "Epoch 16/50\n",
      "12/12 [==============================] - 0s 7ms/step - loss: 0.4584 - accuracy: 0.8652 - val_loss: 0.3295 - val_accuracy: 0.9084\n",
      "Epoch 17/50\n",
      "12/12 [==============================] - 0s 7ms/step - loss: 0.4474 - accuracy: 0.8704 - val_loss: 0.3218 - val_accuracy: 0.9100\n",
      "Epoch 18/50\n",
      "12/12 [==============================] - 0s 7ms/step - loss: 0.4358 - accuracy: 0.8745 - val_loss: 0.3140 - val_accuracy: 0.9123\n",
      "Epoch 19/50\n",
      "12/12 [==============================] - 0s 6ms/step - loss: 0.4311 - accuracy: 0.8750 - val_loss: 0.3079 - val_accuracy: 0.9133\n",
      "Epoch 20/50\n",
      "12/12 [==============================] - 0s 7ms/step - loss: 0.4240 - accuracy: 0.8770 - val_loss: 0.3034 - val_accuracy: 0.9140\n",
      "Epoch 21/50\n",
      "12/12 [==============================] - 0s 7ms/step - loss: 0.4150 - accuracy: 0.8803 - val_loss: 0.2968 - val_accuracy: 0.9169\n",
      "Epoch 22/50\n",
      "12/12 [==============================] - 0s 6ms/step - loss: 0.4086 - accuracy: 0.8820 - val_loss: 0.2920 - val_accuracy: 0.9179\n",
      "Epoch 23/50\n",
      "12/12 [==============================] - 0s 7ms/step - loss: 0.4023 - accuracy: 0.8818 - val_loss: 0.2872 - val_accuracy: 0.9185\n",
      "Epoch 24/50\n",
      "12/12 [==============================] - 0s 7ms/step - loss: 0.3915 - accuracy: 0.8870 - val_loss: 0.2822 - val_accuracy: 0.9200\n",
      "Epoch 25/50\n",
      "12/12 [==============================] - 0s 7ms/step - loss: 0.3886 - accuracy: 0.8870 - val_loss: 0.2785 - val_accuracy: 0.9209\n",
      "Epoch 26/50\n",
      "12/12 [==============================] - 0s 7ms/step - loss: 0.3840 - accuracy: 0.8892 - val_loss: 0.2752 - val_accuracy: 0.9223\n",
      "Epoch 27/50\n",
      "12/12 [==============================] - 0s 7ms/step - loss: 0.3782 - accuracy: 0.8908 - val_loss: 0.2699 - val_accuracy: 0.9227\n",
      "Epoch 28/50\n",
      "12/12 [==============================] - 0s 7ms/step - loss: 0.3762 - accuracy: 0.8904 - val_loss: 0.2666 - val_accuracy: 0.9240\n",
      "Epoch 29/50\n",
      "12/12 [==============================] - 0s 7ms/step - loss: 0.3700 - accuracy: 0.8935 - val_loss: 0.2632 - val_accuracy: 0.9258\n",
      "Epoch 30/50\n",
      "12/12 [==============================] - 0s 7ms/step - loss: 0.3630 - accuracy: 0.8954 - val_loss: 0.2588 - val_accuracy: 0.9266\n",
      "Epoch 31/50\n",
      "12/12 [==============================] - 0s 7ms/step - loss: 0.3570 - accuracy: 0.8961 - val_loss: 0.2552 - val_accuracy: 0.9279\n",
      "Epoch 32/50\n",
      "12/12 [==============================] - 0s 7ms/step - loss: 0.3539 - accuracy: 0.8967 - val_loss: 0.2520 - val_accuracy: 0.9281\n",
      "Epoch 33/50\n",
      "12/12 [==============================] - 0s 8ms/step - loss: 0.3514 - accuracy: 0.8981 - val_loss: 0.2484 - val_accuracy: 0.9306\n",
      "Epoch 34/50\n",
      "12/12 [==============================] - 0s 7ms/step - loss: 0.3458 - accuracy: 0.8996 - val_loss: 0.2448 - val_accuracy: 0.9308\n",
      "Epoch 35/50\n",
      "12/12 [==============================] - 0s 8ms/step - loss: 0.3435 - accuracy: 0.8995 - val_loss: 0.2431 - val_accuracy: 0.9310\n",
      "Epoch 36/50\n",
      "12/12 [==============================] - 0s 7ms/step - loss: 0.3361 - accuracy: 0.9024 - val_loss: 0.2385 - val_accuracy: 0.9326\n",
      "Epoch 37/50\n",
      "12/12 [==============================] - 0s 7ms/step - loss: 0.3320 - accuracy: 0.9027 - val_loss: 0.2364 - val_accuracy: 0.9330\n",
      "Epoch 38/50\n",
      "12/12 [==============================] - 0s 7ms/step - loss: 0.3331 - accuracy: 0.9021 - val_loss: 0.2330 - val_accuracy: 0.9332\n",
      "Epoch 39/50\n",
      "12/12 [==============================] - 0s 8ms/step - loss: 0.3264 - accuracy: 0.9051 - val_loss: 0.2306 - val_accuracy: 0.9337\n",
      "Epoch 40/50\n",
      "12/12 [==============================] - 0s 8ms/step - loss: 0.3262 - accuracy: 0.9035 - val_loss: 0.2293 - val_accuracy: 0.9336\n",
      "Epoch 41/50\n",
      "12/12 [==============================] - 0s 7ms/step - loss: 0.3245 - accuracy: 0.9045 - val_loss: 0.2257 - val_accuracy: 0.9349\n",
      "Epoch 42/50\n",
      "12/12 [==============================] - 0s 7ms/step - loss: 0.3172 - accuracy: 0.9060 - val_loss: 0.2239 - val_accuracy: 0.9350\n",
      "Epoch 43/50\n",
      "12/12 [==============================] - 0s 7ms/step - loss: 0.3113 - accuracy: 0.9079 - val_loss: 0.2210 - val_accuracy: 0.9358\n",
      "Epoch 44/50\n",
      "12/12 [==============================] - 0s 7ms/step - loss: 0.3129 - accuracy: 0.9079 - val_loss: 0.2207 - val_accuracy: 0.9357\n",
      "Epoch 45/50\n",
      "12/12 [==============================] - 0s 8ms/step - loss: 0.3113 - accuracy: 0.9085 - val_loss: 0.2177 - val_accuracy: 0.9377\n",
      "Epoch 46/50\n",
      "12/12 [==============================] - 0s 8ms/step - loss: 0.3083 - accuracy: 0.9099 - val_loss: 0.2161 - val_accuracy: 0.9370\n",
      "Epoch 47/50\n",
      "12/12 [==============================] - 0s 7ms/step - loss: 0.3041 - accuracy: 0.9106 - val_loss: 0.2140 - val_accuracy: 0.9377\n",
      "Epoch 48/50\n",
      "12/12 [==============================] - 0s 7ms/step - loss: 0.3004 - accuracy: 0.9121 - val_loss: 0.2120 - val_accuracy: 0.9378\n",
      "Epoch 49/50\n",
      "12/12 [==============================] - 0s 7ms/step - loss: 0.3001 - accuracy: 0.9106 - val_loss: 0.2111 - val_accuracy: 0.9392\n",
      "Epoch 50/50\n",
      "12/12 [==============================] - 0s 6ms/step - loss: 0.3011 - accuracy: 0.9123 - val_loss: 0.2095 - val_accuracy: 0.9392\n",
      "\n",
      " Evaluation on the test set [loss, accuracy]:\n",
      "3/3 [==============================] - 0s 4ms/step - loss: 0.2198 - accuracy: 0.9374\n"
     ]
    },
    {
     "data": {
      "text/plain": [
       "[0.21977095305919647, 0.9373999834060669]"
      ]
     },
     "execution_count": 10,
     "metadata": {},
     "output_type": "execute_result"
    },
    {
     "data": {
      "application/pdf": "[encoded data removed]",
      "image/png": "[encoded data removed]",
      "text/plain": [
       "<Figure size 432x288 with 1 Axes>"
      ]
     },
     "metadata": {
      "needs_background": "light"
     },
     "output_type": "display_data"
    }
   ],
   "source": [
    "# Solution\n",
    "# Settings\n",
    "learning_rate = 0.003\n",
    "epochs = 50\n",
    "batch_size = 4000\n",
    "validation_split = 0.2\n",
    "\n",
    "# Create the model the model's topography.\n",
    "model = create_model(learning_rate)\n",
    "\n",
    "# Train the model on the normalized training set.\n",
    "history = train_model(model, x_train_normalized, y_train_encoded, \n",
    "                      validation_split, epochs, batch_size)\n",
    "\n",
    "# Plot a graph of the metric vs. epochs.\n",
    "list_of_metrics = ['accuracy','val_accuracy','loss','val_loss']\n",
    "plot_curve(history, list_of_metrics)\n",
    "\n",
    "# Evaluate against the test set.\n",
    "print(\"\\n Evaluation on the test set [loss, accuracy]:\")\n",
    "model.evaluate(x=x_test_normalized, y=y_test_encoded, batch_size=batch_size)"
   ]
  },
  {
   "cell_type": "markdown",
   "metadata": {
    "id": "Y5IKmk7D49_n"
   },
   "source": [
    "## Exercise 5: Optimize the model\n",
    "\n",
    "Try to optimize the model, either manually or with a tuning method. At least optimize the following:\n",
    "* the number of hidden layers \n",
    "* the number of nodes in each layer\n",
    "* the amount of dropout layers and the dropout rate\n",
    "\n",
    "Try to reach at least 96% accuracy against the test set."
   ]
  },
  {
   "cell_type": "code",
   "execution_count": 11,
   "metadata": {
    "cellView": "form",
    "id": "wYG5qXpP5a9n"
   },
   "outputs": [
    {
     "name": "stdout",
     "output_type": "stream",
     "text": [
      "Epoch 1/70\n",
      "12/12 [==============================] - 0s 16ms/step - loss: 1.6357 - accuracy: 0.5074 - val_loss: 0.9370 - val_accuracy: 0.7821\n",
      "Epoch 2/70\n",
      "12/12 [==============================] - 0s 8ms/step - loss: 0.8103 - accuracy: 0.7644 - val_loss: 0.5246 - val_accuracy: 0.8624\n",
      "Epoch 3/70\n",
      "12/12 [==============================] - 0s 8ms/step - loss: 0.5685 - accuracy: 0.8307 - val_loss: 0.4179 - val_accuracy: 0.8855\n",
      "Epoch 4/70\n",
      "12/12 [==============================] - 0s 8ms/step - loss: 0.4726 - accuracy: 0.8614 - val_loss: 0.3640 - val_accuracy: 0.9003\n",
      "Epoch 5/70\n",
      "12/12 [==============================] - 0s 8ms/step - loss: 0.4214 - accuracy: 0.8776 - val_loss: 0.3321 - val_accuracy: 0.9091\n",
      "Epoch 6/70\n",
      "12/12 [==============================] - 0s 7ms/step - loss: 0.3917 - accuracy: 0.8860 - val_loss: 0.3105 - val_accuracy: 0.9144\n",
      "Epoch 7/70\n",
      "12/12 [==============================] - 0s 7ms/step - loss: 0.3649 - accuracy: 0.8938 - val_loss: 0.2924 - val_accuracy: 0.9177\n",
      "Epoch 8/70\n",
      "12/12 [==============================] - 0s 7ms/step - loss: 0.3451 - accuracy: 0.8996 - val_loss: 0.2780 - val_accuracy: 0.9215\n",
      "Epoch 9/70\n",
      "12/12 [==============================] - 0s 7ms/step - loss: 0.3272 - accuracy: 0.9054 - val_loss: 0.2657 - val_accuracy: 0.9252\n",
      "Epoch 10/70\n",
      "12/12 [==============================] - 0s 8ms/step - loss: 0.3153 - accuracy: 0.9077 - val_loss: 0.2557 - val_accuracy: 0.9278\n",
      "Epoch 11/70\n",
      "12/12 [==============================] - 0s 7ms/step - loss: 0.3028 - accuracy: 0.9129 - val_loss: 0.2462 - val_accuracy: 0.9297\n",
      "Epoch 12/70\n",
      "12/12 [==============================] - 0s 7ms/step - loss: 0.2953 - accuracy: 0.9135 - val_loss: 0.2379 - val_accuracy: 0.9318\n",
      "Epoch 13/70\n",
      "12/12 [==============================] - 0s 8ms/step - loss: 0.2834 - accuracy: 0.9173 - val_loss: 0.2301 - val_accuracy: 0.9339\n",
      "Epoch 14/70\n",
      "12/12 [==============================] - 0s 9ms/step - loss: 0.2730 - accuracy: 0.9200 - val_loss: 0.2242 - val_accuracy: 0.9352\n",
      "Epoch 15/70\n",
      "12/12 [==============================] - 0s 8ms/step - loss: 0.2682 - accuracy: 0.9207 - val_loss: 0.2171 - val_accuracy: 0.9364\n",
      "Epoch 16/70\n",
      "12/12 [==============================] - 0s 7ms/step - loss: 0.2582 - accuracy: 0.9250 - val_loss: 0.2103 - val_accuracy: 0.9390\n",
      "Epoch 17/70\n",
      "12/12 [==============================] - 0s 7ms/step - loss: 0.2493 - accuracy: 0.9266 - val_loss: 0.2059 - val_accuracy: 0.9394\n",
      "Epoch 18/70\n",
      "12/12 [==============================] - 0s 7ms/step - loss: 0.2431 - accuracy: 0.9270 - val_loss: 0.2005 - val_accuracy: 0.9417\n",
      "Epoch 19/70\n",
      "12/12 [==============================] - 0s 7ms/step - loss: 0.2362 - accuracy: 0.9289 - val_loss: 0.1953 - val_accuracy: 0.9438\n",
      "Epoch 20/70\n",
      "12/12 [==============================] - 0s 7ms/step - loss: 0.2346 - accuracy: 0.9303 - val_loss: 0.1902 - val_accuracy: 0.9454\n",
      "Epoch 21/70\n",
      "12/12 [==============================] - 0s 7ms/step - loss: 0.2273 - accuracy: 0.9329 - val_loss: 0.1858 - val_accuracy: 0.9460\n",
      "Epoch 22/70\n",
      "12/12 [==============================] - 0s 7ms/step - loss: 0.2219 - accuracy: 0.9336 - val_loss: 0.1825 - val_accuracy: 0.9469\n",
      "Epoch 23/70\n",
      "12/12 [==============================] - 0s 7ms/step - loss: 0.2144 - accuracy: 0.9361 - val_loss: 0.1786 - val_accuracy: 0.9478\n",
      "Epoch 24/70\n",
      "12/12 [==============================] - 0s 7ms/step - loss: 0.2121 - accuracy: 0.9379 - val_loss: 0.1755 - val_accuracy: 0.9493\n",
      "Epoch 25/70\n",
      "12/12 [==============================] - 0s 7ms/step - loss: 0.2052 - accuracy: 0.9392 - val_loss: 0.1716 - val_accuracy: 0.9500\n",
      "Epoch 26/70\n",
      "12/12 [==============================] - 0s 6ms/step - loss: 0.2024 - accuracy: 0.9398 - val_loss: 0.1691 - val_accuracy: 0.9500\n",
      "Epoch 27/70\n",
      "12/12 [==============================] - 0s 9ms/step - loss: 0.1988 - accuracy: 0.9415 - val_loss: 0.1659 - val_accuracy: 0.9512\n",
      "Epoch 28/70\n",
      "12/12 [==============================] - 0s 7ms/step - loss: 0.1945 - accuracy: 0.9411 - val_loss: 0.1637 - val_accuracy: 0.9536\n",
      "Epoch 29/70\n",
      "12/12 [==============================] - 0s 7ms/step - loss: 0.1896 - accuracy: 0.9438 - val_loss: 0.1608 - val_accuracy: 0.9541\n",
      "Epoch 30/70\n",
      "12/12 [==============================] - 0s 6ms/step - loss: 0.1894 - accuracy: 0.9429 - val_loss: 0.1585 - val_accuracy: 0.9532\n",
      "Epoch 31/70\n",
      "12/12 [==============================] - 0s 7ms/step - loss: 0.1882 - accuracy: 0.9438 - val_loss: 0.1559 - val_accuracy: 0.9547\n",
      "Epoch 32/70\n",
      "12/12 [==============================] - 0s 7ms/step - loss: 0.1836 - accuracy: 0.9450 - val_loss: 0.1546 - val_accuracy: 0.9549\n",
      "Epoch 33/70\n",
      "12/12 [==============================] - 0s 7ms/step - loss: 0.1810 - accuracy: 0.9451 - val_loss: 0.1526 - val_accuracy: 0.9556\n",
      "Epoch 34/70\n",
      "12/12 [==============================] - 0s 7ms/step - loss: 0.1762 - accuracy: 0.9472 - val_loss: 0.1516 - val_accuracy: 0.9562\n",
      "Epoch 35/70\n",
      "12/12 [==============================] - 0s 7ms/step - loss: 0.1747 - accuracy: 0.9477 - val_loss: 0.1502 - val_accuracy: 0.9561\n",
      "Epoch 36/70\n",
      "12/12 [==============================] - 0s 7ms/step - loss: 0.1719 - accuracy: 0.9485 - val_loss: 0.1491 - val_accuracy: 0.9569\n",
      "Epoch 37/70\n",
      "12/12 [==============================] - 0s 8ms/step - loss: 0.1711 - accuracy: 0.9482 - val_loss: 0.1477 - val_accuracy: 0.9570\n",
      "Epoch 38/70\n",
      "12/12 [==============================] - 0s 8ms/step - loss: 0.1667 - accuracy: 0.9495 - val_loss: 0.1456 - val_accuracy: 0.9575\n",
      "Epoch 39/70\n",
      "12/12 [==============================] - 0s 8ms/step - loss: 0.1686 - accuracy: 0.9494 - val_loss: 0.1451 - val_accuracy: 0.9581\n",
      "Epoch 40/70\n",
      "12/12 [==============================] - 0s 8ms/step - loss: 0.1630 - accuracy: 0.9501 - val_loss: 0.1431 - val_accuracy: 0.9583\n",
      "Epoch 41/70\n",
      "12/12 [==============================] - 0s 8ms/step - loss: 0.1604 - accuracy: 0.9511 - val_loss: 0.1430 - val_accuracy: 0.9586\n",
      "Epoch 42/70\n",
      "12/12 [==============================] - 0s 7ms/step - loss: 0.1603 - accuracy: 0.9514 - val_loss: 0.1417 - val_accuracy: 0.9587\n",
      "Epoch 43/70\n",
      "12/12 [==============================] - 0s 7ms/step - loss: 0.1583 - accuracy: 0.9527 - val_loss: 0.1403 - val_accuracy: 0.9592\n",
      "Epoch 44/70\n",
      "12/12 [==============================] - 0s 7ms/step - loss: 0.1548 - accuracy: 0.9527 - val_loss: 0.1384 - val_accuracy: 0.9597\n",
      "Epoch 45/70\n",
      "12/12 [==============================] - 0s 7ms/step - loss: 0.1528 - accuracy: 0.9536 - val_loss: 0.1378 - val_accuracy: 0.9603\n",
      "Epoch 46/70\n",
      "12/12 [==============================] - 0s 7ms/step - loss: 0.1528 - accuracy: 0.9530 - val_loss: 0.1366 - val_accuracy: 0.9593\n",
      "Epoch 47/70\n",
      "12/12 [==============================] - 0s 8ms/step - loss: 0.1505 - accuracy: 0.9541 - val_loss: 0.1362 - val_accuracy: 0.9597\n",
      "Epoch 48/70\n",
      "12/12 [==============================] - 0s 8ms/step - loss: 0.1489 - accuracy: 0.9556 - val_loss: 0.1360 - val_accuracy: 0.9594\n",
      "Epoch 49/70\n",
      "12/12 [==============================] - 0s 7ms/step - loss: 0.1491 - accuracy: 0.9539 - val_loss: 0.1345 - val_accuracy: 0.9605\n",
      "Epoch 50/70\n",
      "12/12 [==============================] - 0s 7ms/step - loss: 0.1473 - accuracy: 0.9550 - val_loss: 0.1336 - val_accuracy: 0.9607\n",
      "Epoch 51/70\n",
      "12/12 [==============================] - 0s 7ms/step - loss: 0.1450 - accuracy: 0.9561 - val_loss: 0.1334 - val_accuracy: 0.9609\n",
      "Epoch 52/70\n",
      "12/12 [==============================] - 0s 8ms/step - loss: 0.1438 - accuracy: 0.9551 - val_loss: 0.1315 - val_accuracy: 0.9614\n",
      "Epoch 53/70\n",
      "12/12 [==============================] - 0s 7ms/step - loss: 0.1430 - accuracy: 0.9560 - val_loss: 0.1319 - val_accuracy: 0.9604\n",
      "Epoch 54/70\n",
      "12/12 [==============================] - 0s 8ms/step - loss: 0.1376 - accuracy: 0.9575 - val_loss: 0.1310 - val_accuracy: 0.9612\n",
      "Epoch 55/70\n",
      "12/12 [==============================] - 0s 8ms/step - loss: 0.1381 - accuracy: 0.9577 - val_loss: 0.1308 - val_accuracy: 0.9612\n",
      "Epoch 56/70\n",
      "12/12 [==============================] - 0s 8ms/step - loss: 0.1354 - accuracy: 0.9588 - val_loss: 0.1298 - val_accuracy: 0.9617\n",
      "Epoch 57/70\n",
      "12/12 [==============================] - 0s 8ms/step - loss: 0.1364 - accuracy: 0.9577 - val_loss: 0.1298 - val_accuracy: 0.9617\n",
      "Epoch 58/70\n",
      "12/12 [==============================] - 0s 6ms/step - loss: 0.1343 - accuracy: 0.9585 - val_loss: 0.1299 - val_accuracy: 0.9616\n",
      "Epoch 59/70\n",
      "12/12 [==============================] - 0s 8ms/step - loss: 0.1321 - accuracy: 0.9593 - val_loss: 0.1302 - val_accuracy: 0.9617\n",
      "Epoch 60/70\n",
      "12/12 [==============================] - 0s 8ms/step - loss: 0.1320 - accuracy: 0.9592 - val_loss: 0.1292 - val_accuracy: 0.9620\n",
      "Epoch 61/70\n",
      "12/12 [==============================] - 0s 7ms/step - loss: 0.1324 - accuracy: 0.9586 - val_loss: 0.1302 - val_accuracy: 0.9617\n",
      "Epoch 62/70\n",
      "12/12 [==============================] - 0s 7ms/step - loss: 0.1310 - accuracy: 0.9607 - val_loss: 0.1289 - val_accuracy: 0.9625\n",
      "Epoch 63/70\n",
      "12/12 [==============================] - 0s 8ms/step - loss: 0.1298 - accuracy: 0.9595 - val_loss: 0.1275 - val_accuracy: 0.9615\n",
      "Epoch 64/70\n",
      "12/12 [==============================] - 0s 8ms/step - loss: 0.1272 - accuracy: 0.9607 - val_loss: 0.1262 - val_accuracy: 0.9624\n",
      "Epoch 65/70\n",
      "12/12 [==============================] - 0s 6ms/step - loss: 0.1282 - accuracy: 0.9598 - val_loss: 0.1268 - val_accuracy: 0.9624\n",
      "Epoch 66/70\n",
      "12/12 [==============================] - 0s 8ms/step - loss: 0.1262 - accuracy: 0.9609 - val_loss: 0.1269 - val_accuracy: 0.9619\n",
      "Epoch 67/70\n",
      "12/12 [==============================] - 0s 6ms/step - loss: 0.1259 - accuracy: 0.9610 - val_loss: 0.1261 - val_accuracy: 0.9616\n",
      "Epoch 68/70\n",
      "12/12 [==============================] - 0s 7ms/step - loss: 0.1240 - accuracy: 0.9618 - val_loss: 0.1267 - val_accuracy: 0.9621\n",
      "Epoch 69/70\n",
      "12/12 [==============================] - 0s 7ms/step - loss: 0.1230 - accuracy: 0.9619 - val_loss: 0.1253 - val_accuracy: 0.9628\n",
      "Epoch 70/70\n",
      "12/12 [==============================] - 0s 7ms/step - loss: 0.1247 - accuracy: 0.9608 - val_loss: 0.1255 - val_accuracy: 0.9638\n",
      "\n",
      " Evaluation on the test set (accuracy):\n",
      "3/3 [==============================] - 0s 3ms/step - loss: 0.1421 - accuracy: 0.9590\n"
     ]
    },
    {
     "data": {
      "text/plain": [
       "0.9589999914169312"
      ]
     },
     "execution_count": 11,
     "metadata": {},
     "output_type": "execute_result"
    },
    {
     "data": {
      "application/pdf": "[encoded data removed]",
      "image/png": "[encoded data removed]",
      "text/plain": [
       "<Figure size 432x288 with 1 Axes>"
      ]
     },
     "metadata": {
      "needs_background": "light"
     },
     "output_type": "display_data"
    }
   ],
   "source": [
    "# Solution\n",
    "# For an example with random search, see the tutorial\n",
    "# Here, we search manually, following the following hunches:\n",
    "#   * Adding more nodes to the first hidden layer will improve accuracy. The input size is 784, so we should not make it too small\n",
    "#   * Adding a second hidden layer generally improves accuracy.\n",
    "#   * For larger models (more nodes), we need to regularize more (more dropout)\n",
    "\n",
    "batch_size = 4000 # Pretty high, but making this smaller doesn't seem to help much.\n",
    "epochs = 70\n",
    "\n",
    "# Create the model the model's topography.\n",
    "model = create_model(layer_1_units=800, layer_2_units=800, learning_rate=0.003, dropout_rate= 0.15)\n",
    "\n",
    "# Train the model on the normalized training set.\n",
    "history = train_model(model, x_train_normalized, y_train_encoded, \n",
    "                      validation_split, epochs, batch_size)\n",
    "\n",
    "# Plot a graph of the metric vs. epochs.\n",
    "list_of_metrics = ['accuracy','val_accuracy','loss','val_loss']\n",
    "plot_curve(history, list_of_metrics)\n",
    "\n",
    "# Evaluate against the test set.\n",
    "print(\"\\n Evaluation on the test set (accuracy):\")\n",
    "model.evaluate(x=x_test_normalized, y=y_test_encoded, batch_size=batch_size)[1]"
   ]
  },
  {
   "cell_type": "code",
   "execution_count": null,
   "metadata": {},
   "outputs": [],
   "source": [
    "# Solution with tuning. Takes a long time, and the best found solution isn't better.\n",
    "# The maximum number of nodes was set to 265. Setting it higher may yield better result.\n",
    "\n",
    "from tensorflow.keras import optimizers\n",
    "import kerastuner as kt\n",
    "\n",
    "\n",
    "def build_model(hp):\n",
    "    model = keras.models.Sequential()\n",
    "\n",
    "    # Tune the number of units in the dense layers\n",
    "    hp_units = hp.Int('units', min_value = 32, max_value = 265, step = 32)\n",
    "    hp_units2 = hp.Int('units2', min_value = 32, max_value = 265, step = 32)\n",
    "    hp_dropout = hp.Float('dropout', min_value = 0.1, max_value = 0.5, step = 0.1)\n",
    "\n",
    "    model.add(keras.layers.Flatten(input_shape=(28, 28)))\n",
    "    model.add(keras.layers.Dense(units = hp_units, activation = 'relu'))\n",
    "    model.add(keras.layers.Dropout(rate= hp_dropout))\n",
    "    model.add(keras.layers.Dense(units = hp_units2, activation = 'relu'))\n",
    "    model.add(keras.layers.Dense(10))\n",
    "\n",
    "    model.compile(optimizer = 'rmsprop',\n",
    "                  loss = 'categorical_crossentropy',\n",
    "                  metrics = ['accuracy'])\n",
    "    return model\n",
    "\n",
    "tuner = kt.RandomSearch(build_model, max_trials=5, objective = 'val_accuracy', project_name='mnist_tuning')\n",
    "\n",
    "X_train, x_val, y_train, y_val = train_test_split(x_train_normalized, y_train_encoded, test_size=0.1, shuffle=True, stratify=y_train_encoded, random_state=0)\n",
    "tuner.search(x=X_train, y=y_train, epochs = 50, validation_data = (x_val, y_val), verbose=0)\n",
    "\n",
    "# Get the optimal hyperparameters\n",
    "best_hps = tuner.get_best_hyperparameters(num_trials = 1)[0]"
   ]
  },
  {
   "cell_type": "code",
   "execution_count": null,
   "metadata": {},
   "outputs": [],
   "source": []
  }
 ],
 "metadata": {
  "colab": {
   "collapsed_sections": [],
   "name": "Copy of Multi-class classification with MNIST.ipynb",
   "private_outputs": true,
   "provenance": []
  },
  "kernelspec": {
   "display_name": "Python 3 (ipykernel)",
   "language": "python",
   "name": "python3"
  },
  "language_info": {
   "codemirror_mode": {
    "name": "ipython",
    "version": 3
   },
   "file_extension": ".py",
   "mimetype": "text/x-python",
   "name": "python",
   "nbconvert_exporter": "python",
   "pygments_lexer": "ipython3",
   "version": "3.8.10"
  }
 },
 "nbformat": 4,
 "nbformat_minor": 4
}
