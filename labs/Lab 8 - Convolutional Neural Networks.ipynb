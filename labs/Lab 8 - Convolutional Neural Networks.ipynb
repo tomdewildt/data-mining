{
 "cells": [
  {
   "cell_type": "markdown",
   "metadata": {
    "colab_type": "text",
    "id": "KWKcmf8evatg"
   },
   "source": [
    "# Lab 8: Object recognition with convolutional neural networks\n",
    "In this lab we consider the [CIFAR dataset](https://www.openml.org/d/40926), but model it using convolutional neural networks instead of linear models.\n",
    "There is no separate tutorial, but you can find lots of examples in the lecture notebook on convolutional neural networks. If you are very confident, you can also try to solve these exercises using PyTorch instead of TensorFlow."
   ]
  },
  {
   "cell_type": "markdown",
   "metadata": {
    "colab_type": "text",
    "id": "lDmq-B50vatm"
   },
   "source": [
    "Tip: You can run these exercises faster on a GPU (but they will also run fine on a CPU). If you do not have a GPU locally, you can upload this notebook to Google Colab. You can enable GPU support at “runtime” -> “change runtime type”."
   ]
  },
  {
   "cell_type": "code",
   "execution_count": 1,
   "metadata": {
    "colab": {
     "base_uri": "https://localhost:8080/",
     "height": 51
    },
    "colab_type": "code",
    "id": "J6dS0Pcjvatp",
    "outputId": "d60a4f7e-1a80-4157-9799-8f17cca3e51e"
   },
   "outputs": [
    {
     "name": "stderr",
     "output_type": "stream",
     "text": [
      "2021-12-03 23:23:24.528841: I tensorflow/stream_executor/cuda/cuda_gpu_executor.cc:937] successful NUMA node read from SysFS had negative value (-1), but there must be at least one NUMA node, so returning NUMA node zero\n"
     ]
    },
    {
     "data": {
      "text/plain": [
       "[PhysicalDevice(name='/physical_device:GPU:0', device_type='GPU')]"
      ]
     },
     "execution_count": 1,
     "metadata": {},
     "output_type": "execute_result"
    },
    {
     "name": "stderr",
     "output_type": "stream",
     "text": [
      "2021-12-03 23:23:24.533774: I tensorflow/stream_executor/cuda/cuda_gpu_executor.cc:937] successful NUMA node read from SysFS had negative value (-1), but there must be at least one NUMA node, so returning NUMA node zero\n",
      "2021-12-03 23:23:24.534040: I tensorflow/stream_executor/cuda/cuda_gpu_executor.cc:937] successful NUMA node read from SysFS had negative value (-1), but there must be at least one NUMA node, so returning NUMA node zero\n"
     ]
    }
   ],
   "source": [
    "# Uncomment the next line if you run on Colab to use TensorFlow 2\n",
    "#%tensorflow_version 2.x\n",
    "import tensorflow as tf\n",
    "tf.config.experimental.list_physical_devices(\"GPU\") # Check whether GPUs are available"
   ]
  },
  {
   "cell_type": "code",
   "execution_count": 2,
   "metadata": {
    "colab": {
     "base_uri": "https://localhost:8080/",
     "height": 68
    },
    "colab_type": "code",
    "id": "fgFXyOrkvs57",
    "outputId": "7c06657f-08e5-40f0-a1a1-556792d996d4"
   },
   "outputs": [],
   "source": [
    "# Uncomment the next line if you run on Colab\n",
    "#!pip install --quiet openml"
   ]
  },
  {
   "cell_type": "code",
   "execution_count": 3,
   "metadata": {
    "colab": {},
    "colab_type": "code",
    "id": "RuFLiSvWwUPE"
   },
   "outputs": [],
   "source": [
    "%matplotlib inline\n",
    "import openml as oml\n",
    "import matplotlib.pyplot as plt"
   ]
  },
  {
   "cell_type": "code",
   "execution_count": 4,
   "metadata": {
    "colab": {},
    "colab_type": "code",
    "id": "LAXN17rYvat6"
   },
   "outputs": [],
   "source": [
    "# Download CIFAR data. Takes a while the first time.\n",
    "# This version returns 3x32x32 resolution images. \n",
    "# If you feel like it, repeat the exercises with the 96x96x3 resolution version by using ID 41103 \n",
    "cifar = oml.datasets.get_dataset(40926) \n",
    "X, y, _, _ = cifar.get_data(target=cifar.default_target_attribute, dataset_format=\"array\"); \n",
    "cifar_classes = {0: \"airplane\", 1: \"automobile\", 2: \"bird\", 3: \"cat\", 4: \"deer\",\n",
    "                 5: \"dog\", 6: \"frog\", 7: \"horse\", 8: \"ship\", 9: \"truck\"}"
   ]
  },
  {
   "cell_type": "code",
   "execution_count": 5,
   "metadata": {
    "colab": {},
    "colab_type": "code",
    "id": "Cr2I9xdO-Y26"
   },
   "outputs": [],
   "source": [
    "# The dataset (40926) is in a weird 3x32x32 format, we need to reshape and transpose\n",
    "Xr = X.reshape((len(X),3,32,32)).transpose(0,2,3,1)"
   ]
  },
  {
   "cell_type": "code",
   "execution_count": 6,
   "metadata": {
    "colab": {
     "base_uri": "https://localhost:8080/",
     "height": 141
    },
    "colab_type": "code",
    "id": "9fZymsAzvauB",
    "outputId": "fa0f4586-9acb-41f1-8390-8821c808348e"
   },
   "outputs": [
    {
     "data": {
      "image/png": "[encoded data removed]",
      "text/plain": [
       "<Figure size 720x360 with 5 Axes>"
      ]
     },
     "metadata": {},
     "output_type": "display_data"
    }
   ],
   "source": [
    "# Take some random examples, reshape to a 32x32 image and plot\n",
    "from random import randint\n",
    "fig, axes = plt.subplots(1, 5,  figsize=(10, 5))\n",
    "for i in range(5):\n",
    "    n = randint(0,len(Xr))\n",
    "    # The data is stored in a 3x32x32 format, so we need to transpose it\n",
    "    axes[i].imshow(Xr[n]/255)\n",
    "    axes[i].set_xlabel((cifar_classes[int(y[n])]))\n",
    "    axes[i].set_xticks(()), axes[i].set_yticks(())\n",
    "plt.show();"
   ]
  },
  {
   "cell_type": "markdown",
   "metadata": {
    "colab_type": "text",
    "id": "wrF5VXwyvauJ"
   },
   "source": [
    "## Exercise 1: A simple model\n",
    "* Split the data into 80% training and 20% validation sets\n",
    "* Normalize the data to [0,1]\n",
    "* Build a ConvNet with 3 convolutional layers interspersed with MaxPooling layers, and one dense layer.\n",
    "    * Use at least 32 3x3 filters in the first layer and ReLU activation.\n",
    "    * Otherwise, make rational design choices or experiment a bit to see what works.\n",
    "* You should at least get 60% accuracy.\n",
    "* For training, you can try batch sizes of 64, and 20-50 epochs, but feel free to explore this as well\n",
    "* Plot and interpret the learning curves. Is the model overfitting? How could you improve it further?"
   ]
  },
  {
   "cell_type": "code",
   "execution_count": 7,
   "metadata": {},
   "outputs": [],
   "source": [
    "from sklearn.model_selection import train_test_split\n",
    "\n",
    "from tensorflow.keras import layers\n",
    "from tensorflow.keras import models\n",
    "from tensorflow.keras.utils import to_categorical\n",
    "\n",
    "import pandas as pd\n",
    "import numpy as np"
   ]
  },
  {
   "cell_type": "code",
   "execution_count": 8,
   "metadata": {},
   "outputs": [
    {
     "name": "stderr",
     "output_type": "stream",
     "text": [
      "2021-12-03 23:23:26.196661: I tensorflow/core/platform/cpu_feature_guard.cc:142] This TensorFlow binary is optimized with oneAPI Deep Neural Network Library (oneDNN) to use the following CPU instructions in performance-critical operations:  AVX2 FMA\n",
      "To enable them in other operations, rebuild TensorFlow with the appropriate compiler flags.\n",
      "2021-12-03 23:23:26.197169: I tensorflow/stream_executor/cuda/cuda_gpu_executor.cc:937] successful NUMA node read from SysFS had negative value (-1), but there must be at least one NUMA node, so returning NUMA node zero\n",
      "2021-12-03 23:23:26.197409: I tensorflow/stream_executor/cuda/cuda_gpu_executor.cc:937] successful NUMA node read from SysFS had negative value (-1), but there must be at least one NUMA node, so returning NUMA node zero\n",
      "2021-12-03 23:23:26.197594: I tensorflow/stream_executor/cuda/cuda_gpu_executor.cc:937] successful NUMA node read from SysFS had negative value (-1), but there must be at least one NUMA node, so returning NUMA node zero\n",
      "2021-12-03 23:23:26.528810: I tensorflow/stream_executor/cuda/cuda_gpu_executor.cc:937] successful NUMA node read from SysFS had negative value (-1), but there must be at least one NUMA node, so returning NUMA node zero\n",
      "2021-12-03 23:23:26.529145: I tensorflow/stream_executor/cuda/cuda_gpu_executor.cc:937] successful NUMA node read from SysFS had negative value (-1), but there must be at least one NUMA node, so returning NUMA node zero\n",
      "2021-12-03 23:23:26.529330: I tensorflow/stream_executor/cuda/cuda_gpu_executor.cc:937] successful NUMA node read from SysFS had negative value (-1), but there must be at least one NUMA node, so returning NUMA node zero\n",
      "2021-12-03 23:23:26.529502: I tensorflow/core/common_runtime/gpu/gpu_device.cc:1510] Created device /job:localhost/replica:0/task:0/device:GPU:0 with 1715 MB memory:  -> device: 0, name: GeForce GTX 1650, pci bus id: 0000:01:00.0, compute capability: 7.5\n",
      "2021-12-03 23:23:26.857826: I tensorflow/compiler/mlir/mlir_graph_optimization_pass.cc:185] None of the MLIR Optimization Passes are enabled (registered 2)\n"
     ]
    },
    {
     "name": "stdout",
     "output_type": "stream",
     "text": [
      "Epoch 1/50\n"
     ]
    },
    {
     "name": "stderr",
     "output_type": "stream",
     "text": [
      "2021-12-03 23:23:27.788876: I tensorflow/stream_executor/cuda/cuda_dnn.cc:369] Loaded cuDNN version 8101\n"
     ]
    },
    {
     "name": "stdout",
     "output_type": "stream",
     "text": [
      "250/250 [==============================] - 4s 6ms/step - loss: 1.9320 - accuracy: 0.2963 - val_loss: 1.6934 - val_accuracy: 0.3772\n",
      "Epoch 2/50\n",
      "250/250 [==============================] - 1s 5ms/step - loss: 1.5741 - accuracy: 0.4336 - val_loss: 1.4332 - val_accuracy: 0.4915\n",
      "Epoch 3/50\n",
      "250/250 [==============================] - 1s 5ms/step - loss: 1.4134 - accuracy: 0.4933 - val_loss: 1.3412 - val_accuracy: 0.5253\n",
      "Epoch 4/50\n",
      "250/250 [==============================] - 1s 5ms/step - loss: 1.2977 - accuracy: 0.5374 - val_loss: 1.3198 - val_accuracy: 0.5462\n",
      "Epoch 5/50\n",
      "250/250 [==============================] - 1s 5ms/step - loss: 1.1981 - accuracy: 0.5726 - val_loss: 1.1634 - val_accuracy: 0.5922\n",
      "Epoch 6/50\n",
      "250/250 [==============================] - 1s 5ms/step - loss: 1.1078 - accuracy: 0.6122 - val_loss: 1.1408 - val_accuracy: 0.6003\n",
      "Epoch 7/50\n",
      "250/250 [==============================] - 1s 5ms/step - loss: 1.0270 - accuracy: 0.6382 - val_loss: 1.1268 - val_accuracy: 0.6093\n",
      "Epoch 8/50\n",
      "250/250 [==============================] - 1s 6ms/step - loss: 0.9593 - accuracy: 0.6639 - val_loss: 1.0474 - val_accuracy: 0.6342\n",
      "Epoch 9/50\n",
      "250/250 [==============================] - 1s 5ms/step - loss: 0.8957 - accuracy: 0.6866 - val_loss: 1.0768 - val_accuracy: 0.6260\n",
      "Epoch 10/50\n",
      "250/250 [==============================] - 1s 5ms/step - loss: 0.8324 - accuracy: 0.7114 - val_loss: 1.1275 - val_accuracy: 0.6168\n",
      "Epoch 11/50\n",
      "250/250 [==============================] - 1s 5ms/step - loss: 0.7710 - accuracy: 0.7320 - val_loss: 1.1048 - val_accuracy: 0.6295\n",
      "Epoch 12/50\n",
      "250/250 [==============================] - 1s 6ms/step - loss: 0.7187 - accuracy: 0.7483 - val_loss: 1.1693 - val_accuracy: 0.6085\n",
      "Epoch 13/50\n",
      "250/250 [==============================] - 1s 6ms/step - loss: 0.6559 - accuracy: 0.7714 - val_loss: 1.1359 - val_accuracy: 0.6258\n",
      "Epoch 14/50\n",
      "250/250 [==============================] - 1s 6ms/step - loss: 0.6060 - accuracy: 0.7893 - val_loss: 1.0629 - val_accuracy: 0.6513\n",
      "Epoch 15/50\n",
      "250/250 [==============================] - 1s 6ms/step - loss: 0.5547 - accuracy: 0.8016 - val_loss: 1.1977 - val_accuracy: 0.6240\n",
      "Epoch 16/50\n",
      "250/250 [==============================] - 1s 6ms/step - loss: 0.4990 - accuracy: 0.8255 - val_loss: 1.1584 - val_accuracy: 0.6530\n",
      "Epoch 17/50\n",
      "250/250 [==============================] - 1s 6ms/step - loss: 0.4564 - accuracy: 0.8382 - val_loss: 1.2329 - val_accuracy: 0.6302\n",
      "Epoch 18/50\n",
      "250/250 [==============================] - 1s 6ms/step - loss: 0.4077 - accuracy: 0.8598 - val_loss: 1.3085 - val_accuracy: 0.6382\n",
      "Epoch 19/50\n",
      "250/250 [==============================] - 1s 6ms/step - loss: 0.3655 - accuracy: 0.8737 - val_loss: 1.3836 - val_accuracy: 0.6248\n",
      "Epoch 20/50\n",
      "250/250 [==============================] - 1s 5ms/step - loss: 0.3241 - accuracy: 0.8873 - val_loss: 1.3515 - val_accuracy: 0.6457\n",
      "Epoch 21/50\n",
      "250/250 [==============================] - 1s 6ms/step - loss: 0.2861 - accuracy: 0.9009 - val_loss: 1.5515 - val_accuracy: 0.6295\n",
      "Epoch 22/50\n",
      "250/250 [==============================] - 1s 6ms/step - loss: 0.2550 - accuracy: 0.9110 - val_loss: 1.4438 - val_accuracy: 0.6503\n",
      "Epoch 23/50\n",
      "250/250 [==============================] - 1s 6ms/step - loss: 0.2213 - accuracy: 0.9235 - val_loss: 1.5987 - val_accuracy: 0.6390\n",
      "Epoch 24/50\n",
      "250/250 [==============================] - 1s 6ms/step - loss: 0.1984 - accuracy: 0.9298 - val_loss: 1.7189 - val_accuracy: 0.6315\n",
      "Epoch 25/50\n",
      "250/250 [==============================] - 1s 6ms/step - loss: 0.1713 - accuracy: 0.9441 - val_loss: 1.7417 - val_accuracy: 0.6395\n",
      "Epoch 26/50\n",
      "250/250 [==============================] - 1s 6ms/step - loss: 0.1507 - accuracy: 0.9488 - val_loss: 1.9440 - val_accuracy: 0.6340\n",
      "Epoch 27/50\n",
      "250/250 [==============================] - 1s 6ms/step - loss: 0.1344 - accuracy: 0.9540 - val_loss: 1.9875 - val_accuracy: 0.6342\n",
      "Epoch 28/50\n",
      "250/250 [==============================] - 1s 6ms/step - loss: 0.1244 - accuracy: 0.9567 - val_loss: 2.0628 - val_accuracy: 0.6323\n",
      "Epoch 29/50\n",
      "250/250 [==============================] - 1s 6ms/step - loss: 0.1093 - accuracy: 0.9621 - val_loss: 2.2165 - val_accuracy: 0.6263\n",
      "Epoch 30/50\n",
      "250/250 [==============================] - 1s 6ms/step - loss: 0.1027 - accuracy: 0.9658 - val_loss: 2.3129 - val_accuracy: 0.6313\n",
      "Epoch 31/50\n",
      "250/250 [==============================] - 1s 6ms/step - loss: 0.0911 - accuracy: 0.9693 - val_loss: 2.3629 - val_accuracy: 0.6400\n",
      "Epoch 32/50\n",
      "250/250 [==============================] - 1s 6ms/step - loss: 0.0867 - accuracy: 0.9709 - val_loss: 2.5213 - val_accuracy: 0.6260\n",
      "Epoch 33/50\n",
      "250/250 [==============================] - 1s 6ms/step - loss: 0.0843 - accuracy: 0.9715 - val_loss: 2.6589 - val_accuracy: 0.6280\n",
      "Epoch 34/50\n",
      "250/250 [==============================] - 1s 6ms/step - loss: 0.0825 - accuracy: 0.9726 - val_loss: 2.5583 - val_accuracy: 0.6323\n",
      "Epoch 35/50\n",
      "250/250 [==============================] - 1s 6ms/step - loss: 0.0743 - accuracy: 0.9759 - val_loss: 2.6842 - val_accuracy: 0.6385\n",
      "Epoch 36/50\n",
      "250/250 [==============================] - 1s 6ms/step - loss: 0.0703 - accuracy: 0.9771 - val_loss: 3.0467 - val_accuracy: 0.6275\n",
      "Epoch 37/50\n",
      "250/250 [==============================] - 1s 6ms/step - loss: 0.0726 - accuracy: 0.9758 - val_loss: 2.7402 - val_accuracy: 0.6327\n",
      "Epoch 38/50\n",
      "250/250 [==============================] - 2s 6ms/step - loss: 0.0697 - accuracy: 0.9761 - val_loss: 2.7905 - val_accuracy: 0.6398\n",
      "Epoch 39/50\n",
      "250/250 [==============================] - 1s 5ms/step - loss: 0.0623 - accuracy: 0.9784 - val_loss: 3.7060 - val_accuracy: 0.5830\n",
      "Epoch 40/50\n",
      "250/250 [==============================] - 1s 6ms/step - loss: 0.0638 - accuracy: 0.9799 - val_loss: 3.0603 - val_accuracy: 0.6330\n",
      "Epoch 41/50\n",
      "250/250 [==============================] - 1s 6ms/step - loss: 0.0629 - accuracy: 0.9803 - val_loss: 2.9974 - val_accuracy: 0.6438\n",
      "Epoch 42/50\n",
      "250/250 [==============================] - 1s 5ms/step - loss: 0.0548 - accuracy: 0.9809 - val_loss: 3.2338 - val_accuracy: 0.6320\n",
      "Epoch 43/50\n",
      "250/250 [==============================] - 1s 6ms/step - loss: 0.0568 - accuracy: 0.9803 - val_loss: 3.6475 - val_accuracy: 0.6045\n",
      "Epoch 44/50\n",
      "250/250 [==============================] - 1s 6ms/step - loss: 0.0542 - accuracy: 0.9811 - val_loss: 3.2815 - val_accuracy: 0.6308\n",
      "Epoch 45/50\n",
      "250/250 [==============================] - 1s 6ms/step - loss: 0.0516 - accuracy: 0.9824 - val_loss: 3.2870 - val_accuracy: 0.6385\n",
      "Epoch 46/50\n",
      "250/250 [==============================] - 1s 6ms/step - loss: 0.0564 - accuracy: 0.9811 - val_loss: 3.5818 - val_accuracy: 0.6285\n",
      "Epoch 47/50\n",
      "250/250 [==============================] - 1s 6ms/step - loss: 0.0475 - accuracy: 0.9853 - val_loss: 3.6037 - val_accuracy: 0.6327\n",
      "Epoch 48/50\n",
      "250/250 [==============================] - 1s 6ms/step - loss: 0.0537 - accuracy: 0.9827 - val_loss: 3.7320 - val_accuracy: 0.6305\n",
      "Epoch 49/50\n",
      "250/250 [==============================] - 1s 6ms/step - loss: 0.0543 - accuracy: 0.9820 - val_loss: 3.6736 - val_accuracy: 0.6405\n",
      "Epoch 50/50\n",
      "250/250 [==============================] - 1s 6ms/step - loss: 0.0440 - accuracy: 0.9849 - val_loss: 3.5714 - val_accuracy: 0.6375\n"
     ]
    }
   ],
   "source": [
    "# Split data\n",
    "X_train, X_test, y_train, y_test = train_test_split(Xr,y, stratify=y, train_size=0.8)\n",
    "\n",
    "# Normalize data\n",
    "X_train = X_train / 255.\n",
    "X_test = X_test / 255.\n",
    "y_train = to_categorical(y_train)\n",
    "y_test = to_categorical(y_test)\n",
    "\n",
    "# Build model\n",
    "model = models.Sequential()\n",
    "\n",
    "model.add(layers.Conv2D(32, (3, 3), activation=\"relu\", input_shape=(32, 32, 3)))\n",
    "model.add(layers.MaxPooling2D((2, 2)))\n",
    "model.add(layers.Conv2D(64, (3, 3), activation=\"relu\"))\n",
    "model.add(layers.MaxPooling2D((2, 2)))\n",
    "model.add(layers.Conv2D(64, (3, 3), activation=\"relu\"))\n",
    "model.add(layers.Flatten())\n",
    "model.add(layers.Dense(64, activation=\"relu\"))\n",
    "model.add(layers.Dense(10, activation=\"softmax\"))\n",
    "model.compile(optimizer=\"rmsprop\",\n",
    "              loss=\"categorical_crossentropy\",\n",
    "              metrics=[\"accuracy\"])\n",
    "\n",
    "# Train model\n",
    "history = model.fit(X_train, y_train, epochs=50, batch_size=64, verbose=1,\n",
    "                    validation_data=(X_test, y_test))"
   ]
  },
  {
   "cell_type": "code",
   "execution_count": 9,
   "metadata": {},
   "outputs": [
    {
     "name": "stdout",
     "output_type": "stream",
     "text": [
      "Max val_acc 0.652999997138977\n"
     ]
    },
    {
     "data": {
      "image/png": "[encoded data removed]",
      "text/plain": [
       "<Figure size 432x288 with 1 Axes>"
      ]
     },
     "metadata": {
      "needs_background": "light"
     },
     "output_type": "display_data"
    }
   ],
   "source": [
    "pd.DataFrame(history.history).plot(lw=2,style=[\"b:\",\"r:\",\"b-\",\"r-\"])\n",
    "\n",
    "print(\"Max val_acc\", np.max(history.history[\"val_accuracy\"]))"
   ]
  },
  {
   "cell_type": "markdown",
   "metadata": {
    "colab_type": "text",
    "id": "rORbf0BwU6nj"
   },
   "source": [
    "## Exercise 2: VGG-like model\n",
    "* Implement a simplified VGG model by building 3 \"blocks\" of 2 convolutional layers each\n",
    "* Do MaxPooling after each block\n",
    "* The first block should use at least 32 filters, later blocks should use more\n",
    "* You can use 3x3 filters\n",
    "* Use zero-padding to be able to build a deeper model (see the `padding` attribute)\n",
    "* Use a dense layer with at least 128 hidden nodes.\n",
    "* You can use ReLU activations everywhere (where it makes sense)\n",
    "* Plot and interpret the learning curves\n"
   ]
  },
  {
   "cell_type": "code",
   "execution_count": 10,
   "metadata": {},
   "outputs": [
    {
     "name": "stdout",
     "output_type": "stream",
     "text": [
      "Epoch 1/50\n",
      "250/250 [==============================] - 5s 16ms/step - loss: 2.0083 - accuracy: 0.2726 - val_loss: 1.6488 - val_accuracy: 0.4005\n",
      "Epoch 2/50\n",
      "250/250 [==============================] - 4s 15ms/step - loss: 1.5818 - accuracy: 0.4283 - val_loss: 1.4177 - val_accuracy: 0.4897\n",
      "Epoch 3/50\n",
      "250/250 [==============================] - 3s 14ms/step - loss: 1.3483 - accuracy: 0.5188 - val_loss: 1.3515 - val_accuracy: 0.5207\n",
      "Epoch 4/50\n",
      "250/250 [==============================] - 4s 16ms/step - loss: 1.1706 - accuracy: 0.5846 - val_loss: 1.4790 - val_accuracy: 0.4863\n",
      "Epoch 5/50\n",
      "250/250 [==============================] - 4s 16ms/step - loss: 1.0133 - accuracy: 0.6404 - val_loss: 1.0655 - val_accuracy: 0.6187\n",
      "Epoch 6/50\n",
      "250/250 [==============================] - 4s 16ms/step - loss: 0.8656 - accuracy: 0.6927 - val_loss: 1.0679 - val_accuracy: 0.6177\n",
      "Epoch 7/50\n",
      "250/250 [==============================] - 4s 15ms/step - loss: 0.7389 - accuracy: 0.7423 - val_loss: 0.9534 - val_accuracy: 0.6705\n",
      "Epoch 8/50\n",
      "250/250 [==============================] - 4s 16ms/step - loss: 0.6158 - accuracy: 0.7815 - val_loss: 0.9502 - val_accuracy: 0.6793\n",
      "Epoch 9/50\n",
      "250/250 [==============================] - 4s 15ms/step - loss: 0.4907 - accuracy: 0.8252 - val_loss: 1.1251 - val_accuracy: 0.6510\n",
      "Epoch 10/50\n",
      "250/250 [==============================] - 4s 16ms/step - loss: 0.3860 - accuracy: 0.8657 - val_loss: 1.1374 - val_accuracy: 0.6768\n",
      "Epoch 11/50\n",
      "250/250 [==============================] - 4s 16ms/step - loss: 0.2991 - accuracy: 0.8961 - val_loss: 1.2610 - val_accuracy: 0.6705\n",
      "Epoch 12/50\n",
      "250/250 [==============================] - 4s 16ms/step - loss: 0.2316 - accuracy: 0.9192 - val_loss: 1.6099 - val_accuracy: 0.6447\n",
      "Epoch 13/50\n",
      "250/250 [==============================] - 4s 16ms/step - loss: 0.1956 - accuracy: 0.9313 - val_loss: 1.6225 - val_accuracy: 0.6783\n",
      "Epoch 14/50\n",
      "250/250 [==============================] - 4s 16ms/step - loss: 0.1629 - accuracy: 0.9442 - val_loss: 1.6224 - val_accuracy: 0.6840\n",
      "Epoch 15/50\n",
      "250/250 [==============================] - 4s 16ms/step - loss: 0.1401 - accuracy: 0.9523 - val_loss: 2.2672 - val_accuracy: 0.6470\n",
      "Epoch 16/50\n",
      "250/250 [==============================] - 4s 16ms/step - loss: 0.1290 - accuracy: 0.9551 - val_loss: 2.0588 - val_accuracy: 0.6720\n",
      "Epoch 17/50\n",
      "250/250 [==============================] - 4s 16ms/step - loss: 0.1271 - accuracy: 0.9564 - val_loss: 1.9928 - val_accuracy: 0.6762\n",
      "Epoch 18/50\n",
      "250/250 [==============================] - 4s 16ms/step - loss: 0.1139 - accuracy: 0.9632 - val_loss: 2.2180 - val_accuracy: 0.6740\n",
      "Epoch 19/50\n",
      "250/250 [==============================] - 4s 17ms/step - loss: 0.1052 - accuracy: 0.9661 - val_loss: 2.3275 - val_accuracy: 0.6798\n",
      "Epoch 20/50\n",
      "250/250 [==============================] - 4s 16ms/step - loss: 0.1089 - accuracy: 0.9635 - val_loss: 2.3569 - val_accuracy: 0.6672\n",
      "Epoch 21/50\n",
      "250/250 [==============================] - 4s 17ms/step - loss: 0.0982 - accuracy: 0.9694 - val_loss: 2.2122 - val_accuracy: 0.6787\n",
      "Epoch 22/50\n",
      "250/250 [==============================] - 4s 18ms/step - loss: 0.0968 - accuracy: 0.9702 - val_loss: 2.4167 - val_accuracy: 0.6765\n",
      "Epoch 23/50\n",
      "250/250 [==============================] - 4s 16ms/step - loss: 0.0940 - accuracy: 0.9697 - val_loss: 2.3407 - val_accuracy: 0.6808\n",
      "Epoch 24/50\n",
      "250/250 [==============================] - 4s 16ms/step - loss: 0.0917 - accuracy: 0.9711 - val_loss: 2.5973 - val_accuracy: 0.6585\n",
      "Epoch 25/50\n",
      "250/250 [==============================] - 4s 16ms/step - loss: 0.0820 - accuracy: 0.9733 - val_loss: 2.7048 - val_accuracy: 0.6870\n",
      "Epoch 26/50\n",
      "250/250 [==============================] - 4s 16ms/step - loss: 0.0900 - accuracy: 0.9731 - val_loss: 2.6425 - val_accuracy: 0.6725\n",
      "Epoch 27/50\n",
      "250/250 [==============================] - 4s 16ms/step - loss: 0.0844 - accuracy: 0.9746 - val_loss: 2.5375 - val_accuracy: 0.6670\n",
      "Epoch 28/50\n",
      "250/250 [==============================] - 4s 16ms/step - loss: 0.0826 - accuracy: 0.9763 - val_loss: 2.8555 - val_accuracy: 0.6615\n",
      "Epoch 29/50\n",
      "250/250 [==============================] - 4s 16ms/step - loss: 0.0863 - accuracy: 0.9744 - val_loss: 2.8235 - val_accuracy: 0.6665\n",
      "Epoch 30/50\n",
      "250/250 [==============================] - 4s 16ms/step - loss: 0.0844 - accuracy: 0.9760 - val_loss: 3.1090 - val_accuracy: 0.6787\n",
      "Epoch 31/50\n",
      "250/250 [==============================] - 4s 17ms/step - loss: 0.0840 - accuracy: 0.9763 - val_loss: 3.0113 - val_accuracy: 0.6750\n",
      "Epoch 32/50\n",
      "250/250 [==============================] - 4s 16ms/step - loss: 0.0705 - accuracy: 0.9776 - val_loss: 4.0248 - val_accuracy: 0.6687\n",
      "Epoch 33/50\n",
      "250/250 [==============================] - 4s 16ms/step - loss: 0.0877 - accuracy: 0.9759 - val_loss: 3.0721 - val_accuracy: 0.6780\n",
      "Epoch 34/50\n",
      "250/250 [==============================] - 4s 16ms/step - loss: 0.0727 - accuracy: 0.9808 - val_loss: 3.3500 - val_accuracy: 0.6700\n",
      "Epoch 35/50\n",
      "250/250 [==============================] - 4s 16ms/step - loss: 0.0835 - accuracy: 0.9771 - val_loss: 3.2876 - val_accuracy: 0.6680\n",
      "Epoch 36/50\n",
      "250/250 [==============================] - 4s 16ms/step - loss: 0.0767 - accuracy: 0.9781 - val_loss: 3.2807 - val_accuracy: 0.6848\n",
      "Epoch 37/50\n",
      "250/250 [==============================] - 4s 16ms/step - loss: 0.0783 - accuracy: 0.9797 - val_loss: 2.9442 - val_accuracy: 0.6760\n",
      "Epoch 38/50\n",
      "250/250 [==============================] - 4s 16ms/step - loss: 0.0731 - accuracy: 0.9811 - val_loss: 3.3897 - val_accuracy: 0.6805\n",
      "Epoch 39/50\n",
      "250/250 [==============================] - 4s 16ms/step - loss: 0.0736 - accuracy: 0.9793 - val_loss: 3.5247 - val_accuracy: 0.6892\n",
      "Epoch 40/50\n",
      "250/250 [==============================] - 4s 16ms/step - loss: 0.0693 - accuracy: 0.9808 - val_loss: 3.3411 - val_accuracy: 0.6715\n",
      "Epoch 41/50\n",
      "250/250 [==============================] - 4s 16ms/step - loss: 0.0807 - accuracy: 0.9789 - val_loss: 3.7619 - val_accuracy: 0.6482\n",
      "Epoch 42/50\n",
      "250/250 [==============================] - 4s 16ms/step - loss: 0.0778 - accuracy: 0.9808 - val_loss: 3.2747 - val_accuracy: 0.6877\n",
      "Epoch 43/50\n",
      "250/250 [==============================] - 4s 16ms/step - loss: 0.0737 - accuracy: 0.9796 - val_loss: 3.6511 - val_accuracy: 0.6722\n",
      "Epoch 44/50\n",
      "250/250 [==============================] - 4s 16ms/step - loss: 0.0733 - accuracy: 0.9809 - val_loss: 3.6661 - val_accuracy: 0.6670\n",
      "Epoch 45/50\n",
      "250/250 [==============================] - 4s 16ms/step - loss: 0.0688 - accuracy: 0.9823 - val_loss: 4.0858 - val_accuracy: 0.6700\n",
      "Epoch 46/50\n",
      "250/250 [==============================] - 4s 16ms/step - loss: 0.0768 - accuracy: 0.9802 - val_loss: 3.8959 - val_accuracy: 0.6848\n",
      "Epoch 47/50\n",
      "250/250 [==============================] - 4s 16ms/step - loss: 0.0653 - accuracy: 0.9825 - val_loss: 4.1708 - val_accuracy: 0.6685\n",
      "Epoch 48/50\n",
      "250/250 [==============================] - 4s 16ms/step - loss: 0.0690 - accuracy: 0.9822 - val_loss: 4.3765 - val_accuracy: 0.6720\n",
      "Epoch 49/50\n",
      "250/250 [==============================] - 4s 16ms/step - loss: 0.0720 - accuracy: 0.9824 - val_loss: 4.0323 - val_accuracy: 0.6697\n",
      "Epoch 50/50\n",
      "250/250 [==============================] - 4s 16ms/step - loss: 0.0700 - accuracy: 0.9824 - val_loss: 4.1476 - val_accuracy: 0.6820\n"
     ]
    }
   ],
   "source": [
    "# Build model\n",
    "model = models.Sequential()\n",
    "\n",
    "model.add(layers.Conv2D(32, (3, 3), activation=\"relu\", padding=\"same\", input_shape=(32, 32, 3)))\n",
    "model.add(layers.Conv2D(32, (3, 3), activation=\"relu\", padding=\"same\"))\n",
    "model.add(layers.MaxPooling2D((2, 2)))\n",
    "model.add(layers.Conv2D(64, (3, 3), activation=\"relu\", padding=\"same\"))\n",
    "model.add(layers.Conv2D(64, (3, 3), activation=\"relu\", padding=\"same\"))\n",
    "model.add(layers.MaxPooling2D((2, 2)))\n",
    "model.add(layers.Conv2D(128, (3, 3), activation=\"relu\", padding=\"same\"))\n",
    "model.add(layers.Conv2D(128, (3, 3), activation=\"relu\", padding=\"same\"))\n",
    "model.add(layers.MaxPooling2D((2, 2)))\n",
    "model.add(layers.Flatten())\n",
    "model.add(layers.Dense(128, activation=\"relu\"))\n",
    "model.add(layers.Dense(10, activation=\"softmax\"))\n",
    "model.compile(optimizer=\"rmsprop\",\n",
    "              loss=\"categorical_crossentropy\",\n",
    "              metrics=[\"accuracy\"])\n",
    "\n",
    "# Train model\n",
    "history = model.fit(X_train, y_train, epochs=50, batch_size=64, verbose=1,\n",
    "                    validation_data=(X_test, y_test))"
   ]
  },
  {
   "cell_type": "code",
   "execution_count": 11,
   "metadata": {},
   "outputs": [
    {
     "name": "stdout",
     "output_type": "stream",
     "text": [
      "Max val_acc 0.6892499923706055\n"
     ]
    },
    {
     "data": {
      "image/png": "[encoded data removed]",
      "text/plain": [
       "<Figure size 432x288 with 1 Axes>"
      ]
     },
     "metadata": {
      "needs_background": "light"
     },
     "output_type": "display_data"
    }
   ],
   "source": [
    "pd.DataFrame(history.history).plot(lw=2,style=[\"b:\",\"r:\",\"b-\",\"r-\"])\n",
    "\n",
    "print(\"Max val_acc\", np.max(history.history[\"val_accuracy\"]))"
   ]
  },
  {
   "cell_type": "markdown",
   "metadata": {
    "colab_type": "text",
    "id": "vqDMibf9XXh4"
   },
   "source": [
    "## Exercise 3: Regularization\n",
    "* Explore different ways to regularize your VGG-like model\n",
    "  * Try adding some dropout after every MaxPooling and Dense layer.\n",
    "    * What are good Dropout rates? Try a fixed Dropout rate, or increase the rates in the deeper layers.\n",
    "  * Try batch normalization together with Dropout\n",
    "    * Think about where batch normalization would make sense \n",
    "* Plot and interpret the learning curves\n"
   ]
  },
  {
   "cell_type": "code",
   "execution_count": 12,
   "metadata": {},
   "outputs": [
    {
     "name": "stdout",
     "output_type": "stream",
     "text": [
      "Epoch 1/50\n",
      "250/250 [==============================] - 6s 20ms/step - loss: 2.0060 - accuracy: 0.3438 - val_loss: 4.1456 - val_accuracy: 0.1098\n",
      "Epoch 2/50\n",
      "250/250 [==============================] - 5s 20ms/step - loss: 1.3935 - accuracy: 0.5033 - val_loss: 1.5877 - val_accuracy: 0.4045\n",
      "Epoch 3/50\n",
      "250/250 [==============================] - 5s 20ms/step - loss: 1.1495 - accuracy: 0.5927 - val_loss: 1.0166 - val_accuracy: 0.6460\n",
      "Epoch 4/50\n",
      "250/250 [==============================] - 5s 20ms/step - loss: 0.9911 - accuracy: 0.6501 - val_loss: 0.9940 - val_accuracy: 0.6525\n",
      "Epoch 5/50\n",
      "250/250 [==============================] - 5s 20ms/step - loss: 0.8826 - accuracy: 0.6945 - val_loss: 0.8331 - val_accuracy: 0.7010\n",
      "Epoch 6/50\n",
      "250/250 [==============================] - 5s 21ms/step - loss: 0.8176 - accuracy: 0.7181 - val_loss: 0.8755 - val_accuracy: 0.6980\n",
      "Epoch 7/50\n",
      "250/250 [==============================] - 5s 20ms/step - loss: 0.7544 - accuracy: 0.7396 - val_loss: 0.8009 - val_accuracy: 0.7172\n",
      "Epoch 8/50\n",
      "250/250 [==============================] - 5s 21ms/step - loss: 0.7018 - accuracy: 0.7554 - val_loss: 0.7765 - val_accuracy: 0.7337\n",
      "Epoch 9/50\n",
      "250/250 [==============================] - 5s 21ms/step - loss: 0.6459 - accuracy: 0.7771 - val_loss: 0.8049 - val_accuracy: 0.7333\n",
      "Epoch 10/50\n",
      "250/250 [==============================] - 5s 21ms/step - loss: 0.6139 - accuracy: 0.7849 - val_loss: 0.9114 - val_accuracy: 0.7007\n",
      "Epoch 11/50\n",
      "250/250 [==============================] - 5s 20ms/step - loss: 0.5727 - accuracy: 0.8014 - val_loss: 0.8640 - val_accuracy: 0.7203\n",
      "Epoch 12/50\n",
      "250/250 [==============================] - 5s 20ms/step - loss: 0.5376 - accuracy: 0.8144 - val_loss: 0.8739 - val_accuracy: 0.7143\n",
      "Epoch 13/50\n",
      "250/250 [==============================] - 5s 20ms/step - loss: 0.5128 - accuracy: 0.8216 - val_loss: 0.7227 - val_accuracy: 0.7580\n",
      "Epoch 14/50\n",
      "250/250 [==============================] - 5s 21ms/step - loss: 0.4834 - accuracy: 0.8362 - val_loss: 0.7123 - val_accuracy: 0.7660\n",
      "Epoch 15/50\n",
      "250/250 [==============================] - 5s 21ms/step - loss: 0.4553 - accuracy: 0.8419 - val_loss: 0.7536 - val_accuracy: 0.7635\n",
      "Epoch 16/50\n",
      "250/250 [==============================] - 5s 20ms/step - loss: 0.4283 - accuracy: 0.8520 - val_loss: 0.7898 - val_accuracy: 0.7545\n",
      "Epoch 17/50\n",
      "250/250 [==============================] - 5s 21ms/step - loss: 0.4023 - accuracy: 0.8584 - val_loss: 0.7414 - val_accuracy: 0.7705\n",
      "Epoch 18/50\n",
      "250/250 [==============================] - 5s 20ms/step - loss: 0.3935 - accuracy: 0.8608 - val_loss: 0.9755 - val_accuracy: 0.7215\n",
      "Epoch 19/50\n",
      "250/250 [==============================] - 5s 20ms/step - loss: 0.3656 - accuracy: 0.8737 - val_loss: 0.7068 - val_accuracy: 0.7812\n",
      "Epoch 20/50\n",
      "250/250 [==============================] - 5s 18ms/step - loss: 0.3564 - accuracy: 0.8766 - val_loss: 0.7741 - val_accuracy: 0.7715\n",
      "Epoch 21/50\n",
      "250/250 [==============================] - 5s 18ms/step - loss: 0.3378 - accuracy: 0.8826 - val_loss: 0.9043 - val_accuracy: 0.7458\n",
      "Epoch 22/50\n",
      "250/250 [==============================] - 5s 18ms/step - loss: 0.3242 - accuracy: 0.8864 - val_loss: 0.7338 - val_accuracy: 0.7763\n",
      "Epoch 23/50\n",
      "250/250 [==============================] - 4s 18ms/step - loss: 0.3114 - accuracy: 0.8929 - val_loss: 0.8352 - val_accuracy: 0.7607\n",
      "Epoch 24/50\n",
      "250/250 [==============================] - 5s 18ms/step - loss: 0.2998 - accuracy: 0.8947 - val_loss: 0.8065 - val_accuracy: 0.7822\n",
      "Epoch 25/50\n",
      "250/250 [==============================] - 5s 18ms/step - loss: 0.2844 - accuracy: 0.8994 - val_loss: 0.9254 - val_accuracy: 0.7517\n",
      "Epoch 26/50\n",
      "250/250 [==============================] - 5s 19ms/step - loss: 0.2749 - accuracy: 0.9047 - val_loss: 0.8084 - val_accuracy: 0.7785\n",
      "Epoch 27/50\n",
      "250/250 [==============================] - 5s 20ms/step - loss: 0.2673 - accuracy: 0.9032 - val_loss: 0.7754 - val_accuracy: 0.7800\n",
      "Epoch 28/50\n",
      "250/250 [==============================] - 5s 19ms/step - loss: 0.2651 - accuracy: 0.9084 - val_loss: 0.8514 - val_accuracy: 0.7692\n",
      "Epoch 29/50\n",
      "250/250 [==============================] - 5s 21ms/step - loss: 0.2596 - accuracy: 0.9106 - val_loss: 0.7756 - val_accuracy: 0.7830\n",
      "Epoch 30/50\n",
      "250/250 [==============================] - 5s 18ms/step - loss: 0.2493 - accuracy: 0.9140 - val_loss: 0.7878 - val_accuracy: 0.7757\n",
      "Epoch 31/50\n",
      "250/250 [==============================] - 5s 18ms/step - loss: 0.2403 - accuracy: 0.9189 - val_loss: 0.8476 - val_accuracy: 0.7788\n",
      "Epoch 32/50\n",
      "250/250 [==============================] - 5s 20ms/step - loss: 0.2303 - accuracy: 0.9172 - val_loss: 0.8074 - val_accuracy: 0.7822\n",
      "Epoch 33/50\n",
      "250/250 [==============================] - 5s 19ms/step - loss: 0.2319 - accuracy: 0.9209 - val_loss: 0.8133 - val_accuracy: 0.7830\n",
      "Epoch 34/50\n",
      "250/250 [==============================] - 6s 22ms/step - loss: 0.2141 - accuracy: 0.9243 - val_loss: 0.8026 - val_accuracy: 0.7865\n",
      "Epoch 35/50\n",
      "250/250 [==============================] - 6s 23ms/step - loss: 0.2085 - accuracy: 0.9275 - val_loss: 0.7767 - val_accuracy: 0.7958\n",
      "Epoch 36/50\n",
      "250/250 [==============================] - 5s 21ms/step - loss: 0.2111 - accuracy: 0.9287 - val_loss: 0.7981 - val_accuracy: 0.7908\n",
      "Epoch 37/50\n",
      "250/250 [==============================] - 5s 21ms/step - loss: 0.2027 - accuracy: 0.9299 - val_loss: 0.7959 - val_accuracy: 0.7962\n",
      "Epoch 38/50\n",
      "250/250 [==============================] - 5s 21ms/step - loss: 0.1962 - accuracy: 0.9311 - val_loss: 0.8458 - val_accuracy: 0.7768\n",
      "Epoch 39/50\n",
      "250/250 [==============================] - 5s 21ms/step - loss: 0.1955 - accuracy: 0.9325 - val_loss: 0.8238 - val_accuracy: 0.7928\n",
      "Epoch 40/50\n",
      "250/250 [==============================] - 5s 21ms/step - loss: 0.1932 - accuracy: 0.9352 - val_loss: 0.7708 - val_accuracy: 0.7930\n",
      "Epoch 41/50\n",
      "250/250 [==============================] - 5s 21ms/step - loss: 0.1893 - accuracy: 0.9356 - val_loss: 0.7650 - val_accuracy: 0.7958\n",
      "Epoch 42/50\n",
      "250/250 [==============================] - 5s 21ms/step - loss: 0.1868 - accuracy: 0.9334 - val_loss: 0.9057 - val_accuracy: 0.7782\n",
      "Epoch 43/50\n",
      "250/250 [==============================] - 5s 21ms/step - loss: 0.1783 - accuracy: 0.9377 - val_loss: 0.8466 - val_accuracy: 0.7943\n",
      "Epoch 44/50\n",
      "250/250 [==============================] - 5s 21ms/step - loss: 0.1739 - accuracy: 0.9409 - val_loss: 0.9275 - val_accuracy: 0.7903\n",
      "Epoch 45/50\n",
      "250/250 [==============================] - 5s 21ms/step - loss: 0.1723 - accuracy: 0.9395 - val_loss: 0.8172 - val_accuracy: 0.7970\n",
      "Epoch 46/50\n",
      "250/250 [==============================] - 5s 21ms/step - loss: 0.1719 - accuracy: 0.9398 - val_loss: 0.8056 - val_accuracy: 0.7995\n",
      "Epoch 47/50\n",
      "250/250 [==============================] - 5s 21ms/step - loss: 0.1656 - accuracy: 0.9419 - val_loss: 0.9598 - val_accuracy: 0.7615\n",
      "Epoch 48/50\n",
      "250/250 [==============================] - 5s 21ms/step - loss: 0.1554 - accuracy: 0.9469 - val_loss: 0.8253 - val_accuracy: 0.7962\n",
      "Epoch 49/50\n",
      "250/250 [==============================] - 5s 21ms/step - loss: 0.1590 - accuracy: 0.9450 - val_loss: 0.8874 - val_accuracy: 0.7832\n",
      "Epoch 50/50\n",
      "250/250 [==============================] - 5s 22ms/step - loss: 0.1551 - accuracy: 0.9478 - val_loss: 0.8088 - val_accuracy: 0.7985\n"
     ]
    }
   ],
   "source": [
    "# Build model\n",
    "model = models.Sequential()\n",
    "\n",
    "model.add(layers.Conv2D(32, (3, 3), activation=\"relu\", padding=\"same\", input_shape=(32, 32, 3)))\n",
    "model.add(layers.BatchNormalization())\n",
    "model.add(layers.Conv2D(32, (3, 3), activation=\"relu\", padding=\"same\"))\n",
    "model.add(layers.BatchNormalization())\n",
    "model.add(layers.MaxPooling2D((2, 2)))\n",
    "model.add(layers.Dropout(0.2))\n",
    "model.add(layers.Conv2D(64, (3, 3), activation=\"relu\", padding=\"same\"))\n",
    "model.add(layers.BatchNormalization())\n",
    "model.add(layers.Conv2D(64, (3, 3), activation=\"relu\", padding=\"same\"))\n",
    "model.add(layers.BatchNormalization())\n",
    "model.add(layers.MaxPooling2D((2, 2)))\n",
    "model.add(layers.Dropout(0.3))\n",
    "model.add(layers.Conv2D(128, (3, 3), activation=\"relu\", padding=\"same\"))\n",
    "model.add(layers.BatchNormalization())\n",
    "model.add(layers.Conv2D(128, (3, 3), activation=\"relu\", padding=\"same\"))\n",
    "model.add(layers.BatchNormalization())\n",
    "model.add(layers.MaxPooling2D((2, 2)))\n",
    "model.add(layers.Dropout(0.4))\n",
    "model.add(layers.Flatten())\n",
    "model.add(layers.Dense(128, activation=\"relu\"))\n",
    "model.add(layers.BatchNormalization())\n",
    "model.add(layers.Dropout(0.5))\n",
    "model.add(layers.Dense(10, activation=\"softmax\"))\n",
    "model.compile(optimizer=\"rmsprop\",\n",
    "              loss=\"categorical_crossentropy\",\n",
    "              metrics=[\"accuracy\"])\n",
    "\n",
    "# Train model\n",
    "history = model.fit(X_train, y_train, epochs=50, batch_size=64, verbose=1,\n",
    "                    validation_data=(X_test, y_test))"
   ]
  },
  {
   "cell_type": "code",
   "execution_count": 13,
   "metadata": {},
   "outputs": [
    {
     "name": "stdout",
     "output_type": "stream",
     "text": [
      "Max val_acc 0.7994999885559082\n"
     ]
    },
    {
     "data": {
      "image/png": "[encoded data removed]",
      "text/plain": [
       "<Figure size 432x288 with 1 Axes>"
      ]
     },
     "metadata": {
      "needs_background": "light"
     },
     "output_type": "display_data"
    }
   ],
   "source": [
    "pd.DataFrame(history.history).plot(lw=2,style=[\"b:\",\"r:\",\"b-\",\"r-\"])\n",
    "\n",
    "print(\"Max val_acc\", np.max(history.history[\"val_accuracy\"]))"
   ]
  },
  {
   "cell_type": "markdown",
   "metadata": {
    "colab_type": "text",
    "id": "0hS0eHlPaERh"
   },
   "source": [
    "## Exercise 4: Data Augmentation\n",
    "* Perform image augmentation (rotation, shift, shear, zoom, flip,...). You can use the ImageDataGenerator for this.\n",
    "* What is the effect? What is the effect with and without Dropout?\n",
    "* Plot and interpret the learning curves\n"
   ]
  },
  {
   "cell_type": "code",
   "execution_count": 14,
   "metadata": {
    "tags": []
   },
   "outputs": [],
   "source": [
    "from tensorflow.keras.preprocessing.image import ImageDataGenerator\n",
    "from tensorflow.keras import layers\n",
    "from tensorflow.keras import models"
   ]
  },
  {
   "cell_type": "code",
   "execution_count": 15,
   "metadata": {},
   "outputs": [],
   "source": [
    "train_data_generator = ImageDataGenerator(width_shift_range=0.1, height_shift_range=0.1, horizontal_flip=True,)\n",
    "\n",
    "it_train = train_data_generator.flow(X_train, y_train, batch_size=64)"
   ]
  },
  {
   "cell_type": "code",
   "execution_count": 16,
   "metadata": {},
   "outputs": [
    {
     "name": "stdout",
     "output_type": "stream",
     "text": [
      "Epoch 1/50\n",
      "250/250 [==============================] - 8s 25ms/step - loss: 2.1261 - accuracy: 0.3174 - val_loss: 3.9764 - val_accuracy: 0.1688\n",
      "Epoch 2/50\n",
      "250/250 [==============================] - 6s 23ms/step - loss: 1.5614 - accuracy: 0.4404 - val_loss: 1.3330 - val_accuracy: 0.5245\n",
      "Epoch 3/50\n",
      "250/250 [==============================] - 7s 28ms/step - loss: 1.3252 - accuracy: 0.5248 - val_loss: 1.2626 - val_accuracy: 0.5800\n",
      "Epoch 4/50\n",
      "250/250 [==============================] - 6s 25ms/step - loss: 1.1796 - accuracy: 0.5789 - val_loss: 1.2272 - val_accuracy: 0.5863\n",
      "Epoch 5/50\n",
      "250/250 [==============================] - 6s 24ms/step - loss: 1.0832 - accuracy: 0.6158 - val_loss: 1.0734 - val_accuracy: 0.6410\n",
      "Epoch 6/50\n",
      "250/250 [==============================] - 6s 25ms/step - loss: 1.0062 - accuracy: 0.6494 - val_loss: 1.0162 - val_accuracy: 0.6475\n",
      "Epoch 7/50\n",
      "250/250 [==============================] - 7s 29ms/step - loss: 0.9516 - accuracy: 0.6636 - val_loss: 1.0191 - val_accuracy: 0.6672\n",
      "Epoch 8/50\n",
      "250/250 [==============================] - 6s 25ms/step - loss: 0.9052 - accuracy: 0.6844 - val_loss: 0.9720 - val_accuracy: 0.6610\n",
      "Epoch 9/50\n",
      "250/250 [==============================] - 7s 27ms/step - loss: 0.8685 - accuracy: 0.7053 - val_loss: 0.8764 - val_accuracy: 0.6982\n",
      "Epoch 10/50\n",
      "250/250 [==============================] - 7s 27ms/step - loss: 0.8310 - accuracy: 0.7117 - val_loss: 0.9485 - val_accuracy: 0.6790\n",
      "Epoch 11/50\n",
      "250/250 [==============================] - 6s 22ms/step - loss: 0.8020 - accuracy: 0.7208 - val_loss: 0.8953 - val_accuracy: 0.7078\n",
      "Epoch 12/50\n",
      "250/250 [==============================] - 6s 24ms/step - loss: 0.7784 - accuracy: 0.7289 - val_loss: 0.7887 - val_accuracy: 0.7405\n",
      "Epoch 13/50\n",
      "250/250 [==============================] - 6s 24ms/step - loss: 0.7564 - accuracy: 0.7418 - val_loss: 0.7248 - val_accuracy: 0.7550\n",
      "Epoch 14/50\n",
      "250/250 [==============================] - 7s 26ms/step - loss: 0.7319 - accuracy: 0.7504 - val_loss: 0.7508 - val_accuracy: 0.7408\n",
      "Epoch 15/50\n",
      "250/250 [==============================] - 7s 26ms/step - loss: 0.7112 - accuracy: 0.7505 - val_loss: 0.8920 - val_accuracy: 0.7090\n",
      "Epoch 16/50\n",
      "250/250 [==============================] - 6s 24ms/step - loss: 0.6880 - accuracy: 0.7650 - val_loss: 0.6851 - val_accuracy: 0.7707\n",
      "Epoch 17/50\n",
      "250/250 [==============================] - 6s 25ms/step - loss: 0.6751 - accuracy: 0.7668 - val_loss: 0.7345 - val_accuracy: 0.7533\n",
      "Epoch 18/50\n",
      "250/250 [==============================] - 6s 24ms/step - loss: 0.6758 - accuracy: 0.7715 - val_loss: 0.7061 - val_accuracy: 0.7617\n",
      "Epoch 19/50\n",
      "250/250 [==============================] - 6s 22ms/step - loss: 0.6466 - accuracy: 0.7802 - val_loss: 0.6886 - val_accuracy: 0.7720\n",
      "Epoch 20/50\n",
      "250/250 [==============================] - 6s 25ms/step - loss: 0.6432 - accuracy: 0.7786 - val_loss: 0.8897 - val_accuracy: 0.7280\n",
      "Epoch 21/50\n",
      "250/250 [==============================] - 6s 23ms/step - loss: 0.6198 - accuracy: 0.7863 - val_loss: 0.7210 - val_accuracy: 0.7655\n",
      "Epoch 22/50\n",
      "250/250 [==============================] - 6s 22ms/step - loss: 0.6330 - accuracy: 0.7864 - val_loss: 0.7548 - val_accuracy: 0.7577\n",
      "Epoch 23/50\n",
      "250/250 [==============================] - 7s 27ms/step - loss: 0.6112 - accuracy: 0.7899 - val_loss: 0.6273 - val_accuracy: 0.7890\n",
      "Epoch 24/50\n",
      "250/250 [==============================] - 5s 22ms/step - loss: 0.5857 - accuracy: 0.8019 - val_loss: 0.6625 - val_accuracy: 0.7828\n",
      "Epoch 25/50\n",
      "250/250 [==============================] - 6s 26ms/step - loss: 0.5838 - accuracy: 0.7992 - val_loss: 0.6642 - val_accuracy: 0.7782\n",
      "Epoch 26/50\n",
      "250/250 [==============================] - 6s 22ms/step - loss: 0.5730 - accuracy: 0.8024 - val_loss: 0.5962 - val_accuracy: 0.8008\n",
      "Epoch 27/50\n",
      "250/250 [==============================] - 6s 23ms/step - loss: 0.5667 - accuracy: 0.8042 - val_loss: 0.6845 - val_accuracy: 0.7793\n",
      "Epoch 28/50\n",
      "250/250 [==============================] - 6s 23ms/step - loss: 0.5611 - accuracy: 0.8085 - val_loss: 0.6647 - val_accuracy: 0.7822\n",
      "Epoch 29/50\n",
      "250/250 [==============================] - 6s 22ms/step - loss: 0.5570 - accuracy: 0.8060 - val_loss: 0.6542 - val_accuracy: 0.7937\n",
      "Epoch 30/50\n",
      "250/250 [==============================] - 6s 24ms/step - loss: 0.5440 - accuracy: 0.8151 - val_loss: 0.6200 - val_accuracy: 0.7958\n",
      "Epoch 31/50\n",
      "250/250 [==============================] - 6s 24ms/step - loss: 0.5325 - accuracy: 0.8186 - val_loss: 0.6289 - val_accuracy: 0.7997\n",
      "Epoch 32/50\n",
      "250/250 [==============================] - 6s 24ms/step - loss: 0.5193 - accuracy: 0.8205 - val_loss: 0.6007 - val_accuracy: 0.8020\n",
      "Epoch 33/50\n",
      "250/250 [==============================] - 7s 26ms/step - loss: 0.5267 - accuracy: 0.8197 - val_loss: 0.5581 - val_accuracy: 0.8080\n",
      "Epoch 34/50\n",
      "250/250 [==============================] - 6s 25ms/step - loss: 0.5204 - accuracy: 0.8245 - val_loss: 0.8035 - val_accuracy: 0.7485\n",
      "Epoch 35/50\n",
      "250/250 [==============================] - 6s 25ms/step - loss: 0.5002 - accuracy: 0.8304 - val_loss: 0.7172 - val_accuracy: 0.7763\n",
      "Epoch 36/50\n",
      "250/250 [==============================] - 6s 25ms/step - loss: 0.5072 - accuracy: 0.8264 - val_loss: 0.6007 - val_accuracy: 0.8045\n",
      "Epoch 37/50\n",
      "250/250 [==============================] - 6s 24ms/step - loss: 0.4978 - accuracy: 0.8305 - val_loss: 0.5542 - val_accuracy: 0.8250\n",
      "Epoch 38/50\n",
      "250/250 [==============================] - 7s 26ms/step - loss: 0.5012 - accuracy: 0.8319 - val_loss: 0.7671 - val_accuracy: 0.7620\n",
      "Epoch 39/50\n",
      "250/250 [==============================] - 6s 23ms/step - loss: 0.4881 - accuracy: 0.8342 - val_loss: 0.5519 - val_accuracy: 0.8217\n",
      "Epoch 40/50\n",
      "250/250 [==============================] - 7s 28ms/step - loss: 0.4799 - accuracy: 0.8352 - val_loss: 0.7020 - val_accuracy: 0.7847\n",
      "Epoch 41/50\n",
      "250/250 [==============================] - 7s 28ms/step - loss: 0.4745 - accuracy: 0.8381 - val_loss: 0.5610 - val_accuracy: 0.8200\n",
      "Epoch 42/50\n",
      "250/250 [==============================] - 6s 25ms/step - loss: 0.4676 - accuracy: 0.8398 - val_loss: 0.6125 - val_accuracy: 0.8033\n",
      "Epoch 43/50\n",
      "250/250 [==============================] - 7s 26ms/step - loss: 0.4668 - accuracy: 0.8408 - val_loss: 0.5644 - val_accuracy: 0.8130\n",
      "Epoch 44/50\n",
      "250/250 [==============================] - 7s 28ms/step - loss: 0.4573 - accuracy: 0.8428 - val_loss: 0.6206 - val_accuracy: 0.8050\n",
      "Epoch 45/50\n",
      "250/250 [==============================] - 6s 24ms/step - loss: 0.4525 - accuracy: 0.8438 - val_loss: 0.6292 - val_accuracy: 0.8060\n",
      "Epoch 46/50\n",
      "250/250 [==============================] - 6s 24ms/step - loss: 0.4603 - accuracy: 0.8457 - val_loss: 0.6244 - val_accuracy: 0.8083\n",
      "Epoch 47/50\n",
      "250/250 [==============================] - 6s 25ms/step - loss: 0.4583 - accuracy: 0.8445 - val_loss: 0.5629 - val_accuracy: 0.8225\n",
      "Epoch 48/50\n",
      "250/250 [==============================] - 7s 29ms/step - loss: 0.4491 - accuracy: 0.8466 - val_loss: 0.5599 - val_accuracy: 0.8263\n",
      "Epoch 49/50\n",
      "250/250 [==============================] - 7s 28ms/step - loss: 0.4376 - accuracy: 0.8486 - val_loss: 0.5575 - val_accuracy: 0.8238\n",
      "Epoch 50/50\n",
      "250/250 [==============================] - 6s 25ms/step - loss: 0.4408 - accuracy: 0.8508 - val_loss: 0.5849 - val_accuracy: 0.8100\n"
     ]
    }
   ],
   "source": [
    "# Build model\n",
    "model = models.Sequential()\n",
    "\n",
    "model.add(layers.Conv2D(32, (3, 3), activation=\"relu\", padding=\"same\", input_shape=(32, 32, 3)))\n",
    "model.add(layers.BatchNormalization())\n",
    "model.add(layers.Conv2D(32, (3, 3), activation=\"relu\", padding=\"same\"))\n",
    "model.add(layers.BatchNormalization())\n",
    "model.add(layers.MaxPooling2D((2, 2)))\n",
    "model.add(layers.Dropout(0.2))\n",
    "model.add(layers.Conv2D(64, (3, 3), activation=\"relu\", padding=\"same\"))\n",
    "model.add(layers.BatchNormalization())\n",
    "model.add(layers.Conv2D(64, (3, 3), activation=\"relu\", padding=\"same\"))\n",
    "model.add(layers.BatchNormalization())\n",
    "model.add(layers.MaxPooling2D((2, 2)))\n",
    "model.add(layers.Dropout(0.3))\n",
    "model.add(layers.Conv2D(128, (3, 3), activation=\"relu\", padding=\"same\"))\n",
    "model.add(layers.BatchNormalization())\n",
    "model.add(layers.Conv2D(128, (3, 3), activation=\"relu\", padding=\"same\"))\n",
    "model.add(layers.BatchNormalization())\n",
    "model.add(layers.MaxPooling2D((2, 2)))\n",
    "model.add(layers.Dropout(0.4))\n",
    "model.add(layers.Flatten())\n",
    "model.add(layers.Dense(128, activation=\"relu\"))\n",
    "model.add(layers.BatchNormalization())\n",
    "model.add(layers.Dropout(0.5))\n",
    "model.add(layers.Dense(10, activation=\"softmax\"))\n",
    "model.compile(optimizer=\"rmsprop\",\n",
    "              loss=\"categorical_crossentropy\",\n",
    "              metrics=[\"accuracy\"])\n",
    "\n",
    "# Train model\n",
    "steps = int(X_train.shape[0] / 64)\n",
    "history = model.fit(it_train, epochs=50, steps_per_epoch=steps, verbose=1,\n",
    "                    validation_data=(X_test, y_test))"
   ]
  },
  {
   "cell_type": "code",
   "execution_count": 17,
   "metadata": {},
   "outputs": [
    {
     "name": "stdout",
     "output_type": "stream",
     "text": [
      "Max val_acc 0.8262500166893005\n"
     ]
    },
    {
     "data": {
      "image/png": "[encoded data removed]",
      "text/plain": [
       "<Figure size 432x288 with 1 Axes>"
      ]
     },
     "metadata": {
      "needs_background": "light"
     },
     "output_type": "display_data"
    }
   ],
   "source": [
    "pd.DataFrame(history.history).plot(lw=2,style=[\"b:\",\"r:\",\"b-\",\"r-\"])\n",
    "\n",
    "print(\"Max val_acc\", np.max(history.history[\"val_accuracy\"]))"
   ]
  },
  {
   "cell_type": "markdown",
   "metadata": {
    "colab_type": "text",
    "id": "j81ECavVvawS"
   },
   "source": [
    "## Exercise 5: Interpret the misclassifications\n",
    "Chances are that even your best model is not yet perfect. It is important to understand what kind of errors it still makes.\n",
    "* Run the test images through the network and detect all misclassified ones\n",
    "* Interpret some of the misclassifications. Are these misclassifications to be expected? \n",
    "* Compute the confusion matrix. Which classes are often confused?"
   ]
  },
  {
   "cell_type": "code",
   "execution_count": 18,
   "metadata": {},
   "outputs": [],
   "source": [
    "from sklearn.metrics import confusion_matrix"
   ]
  },
  {
   "cell_type": "code",
   "execution_count": 19,
   "metadata": {},
   "outputs": [],
   "source": [
    "y_test_predictions = model.predict(X_test)\n",
    "y_test_predictions_incorrect = np.nonzero(np.argmax(y_test, axis=1) != np.argmax(y_test_predictions, axis=1))[0]"
   ]
  },
  {
   "cell_type": "code",
   "execution_count": 20,
   "metadata": {},
   "outputs": [
    {
     "data": {
      "image/png": "[encoded data removed]",
      "text/plain": [
       "<Figure size 720x360 with 5 Axes>"
      ]
     },
     "metadata": {},
     "output_type": "display_data"
    }
   ],
   "source": [
    "fig, axes = plt.subplots(1, 5,  figsize=(10, 5))\n",
    "\n",
    "for nr, i in enumerate(y_test_predictions_incorrect[:5]):\n",
    "    axes[nr].imshow(X_test[i])\n",
    "    axes[nr].set_xlabel(\"Predicted: %s,\\n Actual : %s\" % (cifar_classes[np.argmax(y_test_predictions[i])],cifar_classes[np.argmax(y_test[i])]))\n",
    "    axes[nr].set_xticks(()), axes[nr].set_yticks(())\n",
    "\n",
    "plt.show();"
   ]
  },
  {
   "cell_type": "code",
   "execution_count": 21,
   "metadata": {},
   "outputs": [
    {
     "data": {
      "image/png": "[encoded data removed]",
      "text/plain": [
       "<Figure size 432x288 with 1 Axes>"
      ]
     },
     "metadata": {
      "needs_background": "light"
     },
     "output_type": "display_data"
    }
   ],
   "source": [
    "cm = confusion_matrix(np.argmax(y_test, axis=1),np.argmax(y_test_predictions, axis=1))\n",
    "fig, ax = plt.subplots()\n",
    "im = ax.imshow(cm)\n",
    "ax.set_xticks(np.arange(10)), ax.set_yticks(np.arange(10))\n",
    "ax.set_xticklabels(list(cifar_classes.values()), rotation=45, ha=\"right\")\n",
    "ax.set_yticklabels(list(cifar_classes.values()))\n",
    "ax.set_ylabel(\"True\")\n",
    "ax.set_xlabel(\"Predicted\")\n",
    "\n",
    "for i in range(100):\n",
    "    ax.text(int(i/10),i%10,cm[i%10,int(i/10)], ha=\"center\", va=\"center\", color=\"w\")"
   ]
  },
  {
   "cell_type": "markdown",
   "metadata": {
    "colab_type": "text",
    "id": "_J2WnCuvvaxj"
   },
   "source": [
    "## Exercise 6: Interpret the model\n",
    "Retrain your best model on all the data. Next, retrieve and visualize the activations (feature maps) for every filter for every convolutional layer, or at least for a few filters for every layer. Tip: see the course notebooks for examples on how to do this. \n",
    "\n",
    "Interpret the results. Is your model indeed learning something useful?"
   ]
  },
  {
   "cell_type": "code",
   "execution_count": 22,
   "metadata": {},
   "outputs": [],
   "source": [
    "from tensorflow.keras import models"
   ]
  },
  {
   "cell_type": "code",
   "execution_count": 23,
   "metadata": {},
   "outputs": [
    {
     "name": "stdout",
     "output_type": "stream",
     "text": [
      "Model: \"sequential_3\"\n",
      "_________________________________________________________________\n",
      "Layer (type)                 Output Shape              Param #   \n",
      "=================================================================\n",
      "conv2d_15 (Conv2D)           (None, 32, 32, 32)        896       \n",
      "_________________________________________________________________\n",
      "batch_normalization_7 (Batch (None, 32, 32, 32)        128       \n",
      "_________________________________________________________________\n",
      "conv2d_16 (Conv2D)           (None, 32, 32, 32)        9248      \n",
      "_________________________________________________________________\n",
      "batch_normalization_8 (Batch (None, 32, 32, 32)        128       \n",
      "_________________________________________________________________\n",
      "max_pooling2d_8 (MaxPooling2 (None, 16, 16, 32)        0         \n",
      "_________________________________________________________________\n",
      "dropout_4 (Dropout)          (None, 16, 16, 32)        0         \n",
      "_________________________________________________________________\n",
      "conv2d_17 (Conv2D)           (None, 16, 16, 64)        18496     \n",
      "_________________________________________________________________\n",
      "batch_normalization_9 (Batch (None, 16, 16, 64)        256       \n",
      "_________________________________________________________________\n",
      "conv2d_18 (Conv2D)           (None, 16, 16, 64)        36928     \n",
      "_________________________________________________________________\n",
      "batch_normalization_10 (Batc (None, 16, 16, 64)        256       \n",
      "_________________________________________________________________\n",
      "max_pooling2d_9 (MaxPooling2 (None, 8, 8, 64)          0         \n",
      "_________________________________________________________________\n",
      "dropout_5 (Dropout)          (None, 8, 8, 64)          0         \n",
      "_________________________________________________________________\n",
      "conv2d_19 (Conv2D)           (None, 8, 8, 128)         73856     \n",
      "_________________________________________________________________\n",
      "batch_normalization_11 (Batc (None, 8, 8, 128)         512       \n",
      "_________________________________________________________________\n",
      "conv2d_20 (Conv2D)           (None, 8, 8, 128)         147584    \n",
      "_________________________________________________________________\n",
      "batch_normalization_12 (Batc (None, 8, 8, 128)         512       \n",
      "_________________________________________________________________\n",
      "max_pooling2d_10 (MaxPooling (None, 4, 4, 128)         0         \n",
      "_________________________________________________________________\n",
      "dropout_6 (Dropout)          (None, 4, 4, 128)         0         \n",
      "_________________________________________________________________\n",
      "flatten_3 (Flatten)          (None, 2048)              0         \n",
      "_________________________________________________________________\n",
      "dense_6 (Dense)              (None, 128)               262272    \n",
      "_________________________________________________________________\n",
      "batch_normalization_13 (Batc (None, 128)               512       \n",
      "_________________________________________________________________\n",
      "dropout_7 (Dropout)          (None, 128)               0         \n",
      "_________________________________________________________________\n",
      "dense_7 (Dense)              (None, 10)                1290      \n",
      "=================================================================\n",
      "Total params: 552,874\n",
      "Trainable params: 551,722\n",
      "Non-trainable params: 1,152\n",
      "_________________________________________________________________\n"
     ]
    }
   ],
   "source": [
    "model.summary()"
   ]
  },
  {
   "cell_type": "code",
   "execution_count": 24,
   "metadata": {},
   "outputs": [],
   "source": [
    "img_tensor = X_test[4]\n",
    "img_tensor = np.expand_dims(img_tensor, axis=0) \n",
    "\n",
    "# Extracts the outputs of the top 8 layers:\n",
    "layer_outputs = [layer.output for layer in model.layers[:15]]\n",
    "\n",
    "# Creates a model that will return these outputs, given the model input:\n",
    "activation_model = models.Model(inputs=model.input, outputs=layer_outputs)\n",
    "\n",
    "# Return list of 5 Numpy arrays (one array per layer activation)\n",
    "activations = activation_model.predict(img_tensor)"
   ]
  },
  {
   "cell_type": "code",
   "execution_count": 25,
   "metadata": {},
   "outputs": [
    {
     "data": {
      "image/png": "[encoded data removed]",
      "text/plain": [
       "<Figure size 432x288 with 2 Axes>"
      ]
     },
     "metadata": {},
     "output_type": "display_data"
    }
   ],
   "source": [
    "first_layer_activation = activations[0]\n",
    "\n",
    "f, (ax1, ax2) = plt.subplots(1, 2, sharey=True)\n",
    "ax1.imshow(img_tensor[0])\n",
    "ax2.matshow(first_layer_activation[0, :, :, 2], cmap=\"viridis\")\n",
    "ax1.set_xticks([])\n",
    "ax1.set_yticks([])\n",
    "ax2.set_xticks([])\n",
    "ax2.set_yticks([])\n",
    "ax1.set_xlabel(\"Input image\")\n",
    "ax2.set_xlabel(\"Activation of filter 2\");"
   ]
  },
  {
   "cell_type": "markdown",
   "metadata": {
    "colab_type": "text",
    "id": "Sl4q-KrSjmeE"
   },
   "source": [
    "## Optional: Take it a step further\n",
    "* Repeat the exercises, but now use a [higher-resolution version of the CIFAR dataset](https://www.openml.org/d/40926) (with OpenML ID 41103), or another [version with 100 classes](https://www.openml.org/d/41983) (with OpenML ID 41983). Good luck!\n"
   ]
  }
 ],
 "metadata": {
  "accelerator": "GPU",
  "anaconda-cloud": {},
  "colab": {
   "collapsed_sections": [],
   "machine_shape": "hm",
   "name": "Lab 6 - Convolutional Neural Networks Solution.ipynb",
   "provenance": []
  },
  "hide_input": false,
  "kernelspec": {
   "display_name": "Python 3 (ipykernel)",
   "language": "python",
   "name": "python3"
  },
  "language_info": {
   "codemirror_mode": {
    "name": "ipython",
    "version": 3
   },
   "file_extension": ".py",
   "mimetype": "text/x-python",
   "name": "python",
   "nbconvert_exporter": "python",
   "pygments_lexer": "ipython3",
   "version": "3.8.10"
  }
 },
 "nbformat": 4,
 "nbformat_minor": 4
}
