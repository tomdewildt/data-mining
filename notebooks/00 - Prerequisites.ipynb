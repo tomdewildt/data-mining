{
 "cells": [
  {
   "cell_type": "code",
   "execution_count": 1,
   "metadata": {
    "slideshow": {
     "slide_type": "skip"
    }
   },
   "outputs": [
    {
     "data": {
      "text/html": [
       "<style>html, body{overflow-y: visible !important} .CodeMirror{min-width:105% !important;} .rise-enabled .CodeMirror, .rise-enabled .output_subarea{font-size:140%; line-height:1.2; overflow: visible;} .output_subarea pre{width:110%}</style>"
      ],
      "text/plain": [
       "<IPython.core.display.HTML object>"
      ]
     },
     "execution_count": 1,
     "metadata": {},
     "output_type": "execute_result"
    }
   ],
   "source": [
    "from IPython.display import HTML\n",
    "HTML('''<style>html, body{overflow-y: visible !important} .CodeMirror{min-width:105% !important;} .rise-enabled .CodeMirror, .rise-enabled .output_subarea{font-size:140%; line-height:1.2; overflow: visible;} .output_subarea pre{width:110%}</style>''') # For slides"
   ]
  },
  {
   "cell_type": "markdown",
   "metadata": {
    "slideshow": {
     "slide_type": "slide"
    }
   },
   "source": [
    "# Prerequisites"
   ]
  },
  {
   "cell_type": "markdown",
   "metadata": {
    "slideshow": {
     "slide_type": "slide"
    }
   },
   "source": [
    "## Course materials on GitHub\n",
    "The course materials are available on Canvas, but the sources are also on GitHub, so that you always have the latest updates. To download them, you first need to [install git](https://git-scm.com/book/en/v1/Getting-Started-Installing-Git) (if you haven't already).\n",
    "\n",
    "You can 'clone' the course as follows from the command line (you can also use a [GUI](https://desktop.github.com/))\n",
    "\n",
    "    git clone https://github.com/ML-course/master.git\n",
    "    \n",
    "To download updates, run `git pull`\n",
    "    \n",
    "For more details on using git, see the [GitHub 10-minute tutorial](https://guides.github.com/activities/hello-world/\n",
    ") and [Git for Ages 4 and up](https://www.youtube.com/watch?v=1ffBJ4sVUb4).\n",
    "\n",
    "Alternatively, you can download the course [as a .zip file](https://github.com/ML-course/master.git). Click 'Clone or download'. Download individual files with right-click -> Save Link As..."
   ]
  },
  {
   "cell_type": "markdown",
   "metadata": {
    "slideshow": {
     "slide_type": "slide"
    }
   },
   "source": [
    "## Python\n",
    "You first need to set up a Python environment (if you do not have done so already). The easiest way to do this is by installing [Anaconda](https://www.anaconda.com/distribution/#download-section). We will be using Python 3, so be sure to install the right version. Always install a 64-bit installer (if your machine supports it), and we recommend using Python 3.8 or later.\n",
    "\n",
    "If you are completely new to Python, we recommend reading the [Python Data Science Handbook](https://github.com/jakevdp/PythonDataScienceHandbook) or taking an introductory online course, such as the [Definite Guide to Python](https://www.programiz.com/python-programming), the [Whirlwind Tour of Python](https://github.com/jakevdp/WhirlwindTourOfPython), or [this Python Course](https://www.python-course.eu/). If you like a step-by-step approach, try the [DataCamp Intro to Python for Data Science](https://www.datacamp.com/courses/intro-to-python-for-data-science).\n",
    "\n",
    "To practice your skills, try the [Hackerrank challenges](https://www.hackerrank.com/domains/python). "
   ]
  },
  {
   "cell_type": "markdown",
   "metadata": {
    "slideshow": {
     "slide_type": "slide"
    }
   },
   "source": [
    "### Virtual environments\n",
    "\n",
    "If you already have a custom Python environment set up, possibly using a different Python version, we highly recommend to [set up a virtual environment](http://docs.python-guide.org/en/latest/dev/virtualenvs/) for this course so that it does not affect your existing environment. This is not strictly needed if you use a fresh Anaconda install.\n",
    "\n",
    "Install virtualenv with `pip install virtualenv`, then go (cd) to the folder for this course. Create a new environment, e.g. 'mlcourse' with `virtualenv mlcourse`.\n",
    "\n",
    "Activate the environment with `source mlcourse/bin/activate` or `mlcourse\\Scripts\\activate` on Windows. To deactivate the virtual environment, type `deactivate`."
   ]
  },
  {
   "cell_type": "markdown",
   "metadata": {
    "slideshow": {
     "slide_type": "slide"
    }
   },
   "source": [
    "## Required packages\n",
    "Next, you'll need to install several packages that we'll be using extensively. You'll need to run these commands on the command line.\n",
    "\n",
    "### Basic packages\n",
    "If you are using Anaconda, you already have the basic packages. You can skip to the next step. If you want to install these yourself using pip, do the following\n",
    "\n",
    "    pip install --upgrade pip\n",
    "    pip install -U numpy scipy matplotlib pandas"
   ]
  },
  {
   "cell_type": "markdown",
   "metadata": {
    "slideshow": {
     "slide_type": "slide"
    }
   },
   "source": [
    "### Additional packages (install with pip)\n",
    "Pip is the Python Package index, which helps you to install the latest versions of the additional extra libraries that we'll need:\n",
    "\n",
    "    pip install --upgrade pip\n",
    "    pip install -U scikit-learn graphviz mlxtend category_encoders fancyimpute imblearn GPy pods\n",
    "\n",
    "The -U option updates all packages so that you'll have the latest versions.  \n",
    "Note: In any case, make sure to use scikit-learn 0.24 or later, and pandas 1.0 or later.\n",
    "\n",
    "For a few plots, you also need to install the graphviz C-library:\n",
    "\n",
    "* OS X: use homebrew: ``brew install graphviz``\n",
    "* Ubuntu/debian: use apt-get: ``apt-get install graphviz``.\n",
    "* Installing graphviz on Windows can be tricky and using conda / anaconda is recommended."
   ]
  },
  {
   "cell_type": "markdown",
   "metadata": {
    "slideshow": {
     "slide_type": "slide"
    }
   },
   "source": [
    "### Installing TensorFlow\n",
    "\n",
    "To install *TensorFlow 2*, follow [these instructions](https://www.tensorflow.org/install/) for your OS (Windows, Mac, Ubuntu). While installation with `conda` is possible, they recommend to install with `pip`, even with an Anaconda setup. We recommend using TensorFlow 2.2 or later."
   ]
  },
  {
   "cell_type": "markdown",
   "metadata": {
    "slideshow": {
     "slide_type": "slide"
    }
   },
   "source": [
    "### Installing OpenML\n",
    "OpenML is used to easily import datasets and share models and experiments.\n",
    "```\n",
    "    pip install -U openml\n",
    "``` \n",
    "\n",
    "**For Windows**, you need to have a C++ Compiler installed. If the above install fails, you may need to install\n",
    "this first. [Download and install Visual C Build Tools](http://landinghub.visualstudio.com/visual-cpp-build-tools)\n",
    "\n",
    "You'll also need an OpenML account to upload data. If you don't have one, [go ahead and create one](http://www.openml.org)."
   ]
  },
  {
   "cell_type": "markdown",
   "metadata": {
    "slideshow": {
     "slide_type": "slide"
    }
   },
   "source": [
    "### Installing Jupyter\n",
    "As our coding environment, we'll be using Jupyter notebooks. They interleave documentation (in markdown) with executable Python code, and they run in your browser. That means that you can easily edit and re-run all the code in this course.\n",
    "\n",
    "If you use Anaconda, Jupyter is already installed. If you use pip, you can install it with\n",
    "\n",
    "    pip install -U jupyterlab ipywidgets\n",
    "    \n",
    "If you are new to notebooks, [take this quick tutorial](https://try.jupyter.org/), or [this more detailed one](http://nbviewer.jupyter.org/github/jupyter/notebook/tree/master/docs/source/examples/Notebook/). Optionally, for a more in-depth coverage, [try the DataCamp tutorial](https://www.datacamp.com/community/tutorials/tutorial-jupyter-notebook#gs.wlHChdo). "
   ]
  },
  {
   "cell_type": "markdown",
   "metadata": {
    "slideshow": {
     "slide_type": "slide"
    }
   },
   "source": [
    "## Running the course notebooks\n",
    "Run jupyter lab from the folder where you have downloaded (cloned) the course materials.\n",
    "\n",
    "    jupyter lab\n",
    "    \n",
    "A browser window should open with all course materials. Open one of the chapters and check if you can execute all code by clicking Cell > Run all.  You can shut down the notebook by typing CTRL-C in your terminal."
   ]
  },
  {
   "cell_type": "markdown",
   "metadata": {
    "slideshow": {
     "slide_type": "slide"
    }
   },
   "source": [
    "### Alternative environments for running the notebooks\n",
    "\n",
    "##### Google Colab\n",
    "Google Colab allows you to run a notebook on Google Drive (with limited GPU support): https://colab.research.google.com/notebooks/gpu.ipynb\n",
    "A more detailed tutorial can be found here (you won't need PyTorch for this course, but we do recommend learning it): https://towardsdatascience.com/fast-ai-lesson-1-on-google-colab-free-gpu-d2af89f53604\n",
    "\n",
    "There are limitations (obviously): right now GPU usage is limited to 12h and RAM is shared among multiple users. Using a GPU for a longer period of time may temporarily lock you out.\n",
    "\n",
    "Note: You need to upload your course notebooks to colab yourself (File > Upload Notebook).\n",
    "You can install additional packages from within notebooks with '!pip install package'. See the [introduction video](https://www.youtube.com/watch?v=Am95a_6yAEU) for this course for more details.\n",
    "\n",
    "\n"
   ]
  }
 ],
 "metadata": {
  "anaconda-cloud": {},
  "celltoolbar": "Slideshow",
  "kernelspec": {
   "display_name": "Python 3 (ipykernel)",
   "language": "python",
   "name": "python3"
  },
  "language_info": {
   "codemirror_mode": {
    "name": "ipython",
    "version": 3
   },
   "file_extension": ".py",
   "mimetype": "text/x-python",
   "name": "python",
   "nbconvert_exporter": "python",
   "pygments_lexer": "ipython3",
   "version": "3.8.10"
  }
 },
 "nbformat": 4,
 "nbformat_minor": 4
}
