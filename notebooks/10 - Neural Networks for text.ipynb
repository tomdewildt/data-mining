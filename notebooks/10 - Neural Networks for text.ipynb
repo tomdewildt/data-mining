{
 "cells": [
  {
   "cell_type": "markdown",
   "metadata": {
    "slideshow": {
     "slide_type": "slide"
    }
   },
   "source": [
    "# Lecture 10. Neural Networks for text\n",
    "\n",
    "**Turning text into numbers**\n",
    "\n",
    "Joaquin Vanschoren"
   ]
  },
  {
   "cell_type": "code",
   "execution_count": 1,
   "metadata": {
    "hide_input": false,
    "slideshow": {
     "slide_type": "slide"
    }
   },
   "outputs": [
    {
     "name": "stdout",
     "output_type": "stream",
     "text": [
      "Using Keras 2.6.0\n"
     ]
    },
    {
     "data": {
      "text/html": [
       "<style>html, body{overflow-y: visible !important} .CodeMirror{min-width:105% !important;} .rise-enabled .CodeMirror, .rise-enabled .output_subarea{font-size:140%; line-height:1.2; overflow: visible;} .output_subarea pre{width:110%}</style>"
      ],
      "text/plain": [
       "<IPython.core.display.HTML object>"
      ]
     },
     "execution_count": 1,
     "metadata": {},
     "output_type": "execute_result"
    }
   ],
   "source": [
    "# Global imports and settings\n",
    "from preamble import *\n",
    "import tensorflow as tf\n",
    "import tensorflow.keras as keras\n",
    "print(\"Using Keras\",keras.__version__)\n",
    "tf.compat.v1.disable_eager_execution()\n",
    "\n",
    "%matplotlib inline\n",
    "plt.rcParams['figure.dpi'] = 125 # Use 300 for PDF, 100 for slides\n",
    "# InteractiveShell.ast_node_interactivity = \"all\"\n",
    "HTML('''<style>html, body{overflow-y: visible !important} .CodeMirror{min-width:105% !important;} .rise-enabled .CodeMirror, .rise-enabled .output_subarea{font-size:140%; line-height:1.2; overflow: visible;} .output_subarea pre{width:110%}</style>''') # For slides"
   ]
  },
  {
   "cell_type": "markdown",
   "metadata": {
    "cell_style": "center",
    "slideshow": {
     "slide_type": "slide"
    }
   },
   "source": [
    "## Overview\n",
    "* Bag of words representations\n",
    "* Word embeddings\n",
    "    * Learning word embeddings\n",
    "    * Pretrained word embeddings\n",
    "* 1D convolutional nets \n",
    "* In practice"
   ]
  },
  {
   "cell_type": "markdown",
   "metadata": {
    "slideshow": {
     "slide_type": "slide"
    }
   },
   "source": [
    "## Bag of word representation\n",
    "* First, build a _vocabulary_ of all occuring words. Maps every word to an index.\n",
    "* Represent each document as an $N$ dimensional vector (top-$N$ most frequent words)\n",
    "    * One-hot (sparse) encoding: 1 if the word occurs in the document\n",
    "* Destroys the order of the words in the text (hence, a 'bag' of words)\n",
    "\n",
    "<img src=\"../images/bag_of_words.png\" alt=\"ml\" style=\"width: 60%\"/>"
   ]
  },
  {
   "cell_type": "markdown",
   "metadata": {
    "slideshow": {
     "slide_type": "slide"
    }
   },
   "source": [
    "### Example: IMBD review database\n",
    "* 50,000 reviews, labeled positive (1) or negative (0)\n",
    "    * Every row (document) is one review, no other input features\n",
    "    * Already tokenized. All markup, punctuation,... removed"
   ]
  },
  {
   "cell_type": "code",
   "execution_count": 2,
   "metadata": {},
   "outputs": [
    {
     "name": "stdout",
     "output_type": "stream",
     "text": [
      "Text contains 88584 unique words\n",
      "\n",
      "Review 0: the this film was just brilliant casting location scenery story direction everyone's really suited the part they played and you could just imagine being there robert redford's is an amazing actor and now the same being director norman's father came from the same scottish island as myself so i loved\n",
      "\n",
      "Review 5: the begins better than it ends funny that the russian submarine crew outperforms all other actors it's like those scenes where documentary shots br br spoiler part the message dechifered was contrary to the whole story it just does not mesh br br\n",
      "\n",
      "Review 10: the french horror cinema has seen something of a revival over the last couple of years with great films such as inside and switchblade romance bursting on to the scene maléfique preceded the revival just slightly but stands head and shoulders over most modern horror titles and is surely one\n"
     ]
    }
   ],
   "source": [
    "from keras.datasets import imdb\n",
    "word_index = imdb.get_word_index()\n",
    "print(\"Text contains {} unique words\".format(len(word_index)))\n",
    "\n",
    "(train_data, train_labels), (test_data, test_labels) = imdb.load_data(index_from=0)\n",
    "reverse_word_index = dict([(value, key) for (key, value) in word_index.items()])\n",
    "\n",
    "for r in [0,5,10]:\n",
    "    print(\"\\nReview {}:\".format(r),' '.join([reverse_word_index.get(i, '?') for i in train_data[r]][0:50]))"
   ]
  },
  {
   "cell_type": "markdown",
   "metadata": {
    "slideshow": {
     "slide_type": "slide"
    }
   },
   "source": [
    "#### Bag of words with one-hot-encoding\n",
    "* Encoded review: shows the list of word IDs. Words are sorted by frequency of occurance.\n",
    "    * Allows to easily remove the most common and least common words\n",
    "* One-hot-encoded review: '1' if the word occurs. \n",
    "    * Only the first 100 of 10000 values are shown"
   ]
  },
  {
   "cell_type": "code",
   "execution_count": 3,
   "metadata": {},
   "outputs": [],
   "source": [
    "# Custom implementation of one-hot-encoding. \n",
    "# dimension is the dimensionality of the output (default 10000).\n",
    "def vectorize_sequences(sequences, dimension=10000):\n",
    "    results = np.zeros((len(sequences), dimension)) # create empty vector of length N\n",
    "    for i, sequence in enumerate(sequences):\n",
    "        results[i, sequence] = 1.  # set specific indices of results[i] to 1s\n",
    "    return results\n",
    "x_train = vectorize_sequences(train_data, dimension=len(word_index))\n",
    "x_test = vectorize_sequences(test_data, dimension=len(word_index))"
   ]
  },
  {
   "cell_type": "code",
   "execution_count": 4,
   "metadata": {},
   "outputs": [
    {
     "name": "stdout",
     "output_type": "stream",
     "text": [
      "Review 3: the the scots excel at storytelling the traditional sort many years after the event i can still see in my mind's eye an elderly lady my friend's mother retelling the battle of culloden she makes the characters come alive her passion is that of an eye witness one to the events on the sodden heath a mile or so from where she lives br br of course it happened many years before she was born but you wouldn't guess from\n",
      "\n",
      "Encoded review:  [1, 1, 18606, 16082, 30, 2801, 1, 2037, 429, 108, 150, 100, 1, 1491, 10, 67, 128, 64, 8, 58, 15302, 741, 32, 3712, 758, 58, 5763, 449, 9211, 1, 982, 4, 64314, 56, 163, 1, 102, 213, 1236, 38, 1794, 6, 12, 4, 32, 741, 2410, 28, 5, 1, 684, 20, 1, 33926, 7336, 3, 3690, 39, 35, 36, 118, 56, 453, 7, 7, 4, 262, 9, 572, 108, 150, 156, 56, 13, 1444, 18, 22, 583, 479, 36]\n",
      "\n",
      "One-hot-encoded review:  [0. 1. 1. 1. 1. 1. 1. 1. 1. 1. 1. 1. 1. 1. 1. 0. 1. 0. 1. 1. 1. 0. 1. 1.\n",
      " 1. 0. 1. 1. 1. 1. 1. 0. 1. 1. 1. 1. 1. 1. 1. 1. 0. 1. 0. 1. 1. 1. 1. 1.\n",
      " 1. 0. 1. 1. 0. 0. 0. 1. 1. 1. 1. 0. 0. 1. 1. 0. 1. 0. 0. 1. 1. 0. 0. 0.\n",
      " 1. 0. 0. 0. 0. 1. 0. 1.]\n"
     ]
    }
   ],
   "source": [
    "print(\"Review {}:\".format(3),' '.join([reverse_word_index.get(i, '?') for i in train_data[3]][0:80]))\n",
    "print(\"\\nEncoded review: \", train_data[3][0:80])\n",
    "print(\"\\nOne-hot-encoded review: \", x_train[3][0:80])"
   ]
  },
  {
   "cell_type": "markdown",
   "metadata": {
    "slideshow": {
     "slide_type": "slide"
    }
   },
   "source": [
    "#### Word counts\n",
    "* Count the number of times each word appears in the document\n",
    "* Example using sklearn `CountVectorizer`\n",
    "    * Here, we fit the Countvectorizer on just the first 2 reviews"
   ]
  },
  {
   "cell_type": "code",
   "execution_count": 5,
   "metadata": {},
   "outputs": [
    {
     "name": "stdout",
     "output_type": "stream",
     "text": [
      "Vocabulary (feature names) after fit: ['actor', 'amazing', 'an', 'and', 'are', 'as', 'bad', 'be', 'being', 'best', 'big', 'boobs', 'brilliant', 'but', 'came', 'casting', 'cheesy', 'could', 'describe', 'direction', 'director', 'ever', 'everyone', 'father', 'film', 'from', 'giant', 'got', 'had', 'hair', 'horror', 'hundreds', 'imagine', 'is', 'island', 'just', 'location', 'love', 'loved', 'made', 'movie', 'movies', 'music', 'myself', 'norman', 'now', 'of', 'on', 'paper', 'part', 'pin', 'played', 'plot', 'really', 'redford', 'ridiculous', 'robert', 'safety', 'same', 'scenery', 'scottish', 'seen', 'so', 'story', 'suited', 'terrible', 'the', 'there', 'these', 'they', 'thin', 'this', 'to', 've', 'was', 'words', 'worst', 'you']\n",
      "Count encoding doc 1: [1 1 1 2 0 1 0 0 2 0 0 0 1 0 1 1 0 1 0 1 1 0 1 1 1 1 0 0 0 0 0 0 1 1 1 2 1\n",
      " 0 1 0 0 0 0 1 1 1 0 0 0 1 0 1 0 1 1 0 1 0 2 1 1 0 1 1 1 0 4 1 0 1 0 1 0 0\n",
      " 1 0 0 1]\n",
      "Count encoding doc 2: [0 0 0 3 1 0 1 1 0 1 2 1 0 1 0 0 1 0 1 0 0 1 0 0 0 0 1 1 1 1 1 1 0 1 0 0 0\n",
      " 1 0 1 1 1 1 0 0 0 1 1 1 0 1 0 1 0 0 1 0 1 0 0 0 1 0 0 0 1 4 0 1 0 1 2 2 1\n",
      " 0 1 1 0]\n"
     ]
    }
   ],
   "source": [
    "from sklearn.feature_extraction.text import CountVectorizer\n",
    "\n",
    "# Fit count vectorizer on a few documents (here: 2)\n",
    "line = [' '.join([reverse_word_index.get(i, '?') for i in train_data[d]][0:50]) for d in range(2)]\n",
    "vect = CountVectorizer()\n",
    "vect.fit(line)\n",
    "print(\"Vocabulary (feature names) after fit:\", vect.get_feature_names())\n",
    "\n",
    "# Transform the data\n",
    "# Returns a sparse matrix\n",
    "X = vect.transform(line)\n",
    "print(\"Count encoding doc 1:\", X.toarray()[0])\n",
    "print(\"Count encoding doc 2:\", X.toarray()[1])"
   ]
  },
  {
   "cell_type": "markdown",
   "metadata": {
    "slideshow": {
     "slide_type": "slide"
    }
   },
   "source": [
    "## Classification\n",
    "* With this tabular representation, we can fit any model (e.g. Logistic regression)\n",
    "* Visualize coefficients: which words are indicative for positive/negative reviews?"
   ]
  },
  {
   "cell_type": "code",
   "execution_count": 6,
   "metadata": {},
   "outputs": [
    {
     "name": "stdout",
     "output_type": "stream",
     "text": [
      "Logistic regression accuracy: 0.8542\n"
     ]
    }
   ],
   "source": [
    "from sklearn.linear_model import LogisticRegressionCV\n",
    "\n",
    "# Fit CountVectorizer on the first 5000 reviews \n",
    "data_size = 5000 # You can get a few % better in the full dataset, but takes longer\n",
    "train_text = [' '.join([reverse_word_index.get(i, '?') for i in train_data[d]]) for d in range(data_size)]\n",
    "test_text = [' '.join([reverse_word_index.get(i, '?') for i in test_data[d]]) for d in range(data_size)]\n",
    "\n",
    "vect = CountVectorizer()\n",
    "train_text_vec = vect.fit_transform(train_text)\n",
    "test_text_vec = vect.transform(test_text)\n",
    "\n",
    "lr = LogisticRegressionCV().fit(train_text_vec, train_labels[:data_size])\n",
    "acc = lr.score(test_text_vec, test_labels[:data_size])\n",
    "print(\"Logistic regression accuracy:\",acc)"
   ]
  },
  {
   "cell_type": "code",
   "execution_count": 7,
   "metadata": {},
   "outputs": [
    {
     "data": {
      "application/pdf": "[encoded data removed]",
      "image/png": "[encoded data removed]",
      "text/plain": [
       "<Figure size 1125x437.5 with 1 Axes>"
      ]
     },
     "metadata": {
      "needs_background": "light"
     },
     "output_type": "display_data"
    }
   ],
   "source": [
    "def plot_important_features(coef, feature_names, top_n=20, ax=None, rotation=60):\n",
    "    if ax is None:\n",
    "        ax = plt.gca()\n",
    "    inds = np.argsort(coef)\n",
    "    low = inds[:top_n]\n",
    "    high = inds[-top_n:]\n",
    "    important = np.hstack([low, high])\n",
    "    myrange = range(len(important))\n",
    "    colors = ['red'] * top_n + ['blue'] * top_n\n",
    "    \n",
    "    ax.bar(myrange, coef[important], color=colors)\n",
    "    ax.set_xticks(myrange)\n",
    "    ax.set_xticklabels(feature_names[important], rotation=rotation, ha=\"right\")\n",
    "    ax.set_xlim(-.7, 2 * top_n)\n",
    "    ax.set_frame_on(False)\n",
    "plt.figure(figsize=(9, 3.5))\n",
    "plot_important_features(lr.coef_.ravel(), np.array(vect.get_feature_names()), top_n=20, rotation=40)\n",
    "ax = plt.gca()"
   ]
  },
  {
   "cell_type": "markdown",
   "metadata": {
    "slideshow": {
     "slide_type": "slide"
    }
   },
   "source": [
    "### Preprocessing\n",
    "* Tokenization: how to you split text into words? On spaces only? Also -, ` ? \n",
    "* Stemming: naive reduction to word stems. E.g. 'the meeting' to 'the meet'\n",
    "    * Lemmatization: smarter reduction (NLP-based). E.g. distinguishes between nouns and verbs\n",
    "* Discard stop words ('the', 'an',...)\n",
    "* Only use $N$ (e.g. 10000) most frequent words\n",
    " * Or, use a hash function (risks collisions)\n",
    "* n-grams: Use combinations of $n$ adjacent words next to individual words\n",
    "    * e.g. 2-grams: \"awesome movie\", \"movie with\", \"with creative\", ...\n",
    "* Character n-grams: combinations of $n$ adjacent letters: 'awe', 'wes', 'eso',...\n",
    "* Useful libraries: [nltk](https://www.nltk.org/), [spaCy](https://spacy.io/), [gensim](https://radimrehurek.com/gensim/),..."
   ]
  },
  {
   "cell_type": "markdown",
   "metadata": {
    "slideshow": {
     "slide_type": "slide"
    }
   },
   "source": [
    "### Scaling\n",
    "* L2 Normalization (vector norm): sum of squares of all word values equals 1\n",
    "    * Normalized Euclidean distance is equivalent to cosine distance\n",
    "    * Works better for distance-based models (e.g. kNN, SVM,...)\n",
    "$$ t_i = \\frac{t_i}{\\| t\\|_2 }$$\n",
    "\n",
    "* Term Frequency - Inverted Document Frequency (TF-IDF)\n",
    "    * Scales value of words by how frequently they occur across all $N$ documents\n",
    "    * Words that only occur in few documents get higher weight, and vice versa\n",
    "\n",
    "$$ t_i = t_i \\cdot log(\\frac{N}{|\\{d \\in D : t_i \\in d\\}|})$$\n",
    "\n",
    "* Usually done in preprocessing, e.g. sklearn `Normalizer` or `TfidfTransformer`\n",
    "    * L2 normalization can also be done in a `Lambda` layer\n",
    "```python\n",
    "model.add(Lambda(lambda x: tf.linalg.normalize(x,axis=1)))\n",
    "```"
   ]
  },
  {
   "cell_type": "markdown",
   "metadata": {
    "slideshow": {
     "slide_type": "slide"
    }
   },
   "source": [
    "## Neural networks on bag of words representations\n",
    "* We could build simple neural networks on bag-of-word vectors\n",
    "    - E.g. One-hot-encoding, 10000 most frequent words, drop top-3 stopwords\n",
    "* Simple model with 2 dense layers and ReLU activation\n",
    "    - Binary classification: single output node: convert 0/1 label to float\n",
    "    - Sigmoid activation for output node and binary cross-entropy loss\n",
    "    \n",
    "``` python\n",
    "model = models.Sequential()\n",
    "model.add(layers.Dense(16, activation='relu', input_shape=(10000,)))\n",
    "model.add(layers.Dense(16, activation='relu'))\n",
    "model.add(layers.Dense(1, activation='sigmoid'))\n",
    "model.compile(optimizer='rmsprop', loss='binary_crossentropy', metrics=['accuracy'])\n",
    "```"
   ]
  },
  {
   "cell_type": "code",
   "execution_count": 8,
   "metadata": {
    "hide_input": true,
    "slideshow": {
     "slide_type": "-"
    }
   },
   "outputs": [],
   "source": [
    "# Load data with 10000 words\n",
    "(train_data, train_labels), (test_data, test_labels) = imdb.load_data(num_words=10000)\n",
    "\n",
    "# One-hot-encoding\n",
    "x_train = vectorize_sequences(train_data)\n",
    "x_test = vectorize_sequences(test_data)\n",
    "# Convert 0/1 labels to float\n",
    "y_train = np.asarray(train_labels).astype('float32')\n",
    "y_test = np.asarray(test_labels).astype('float32')"
   ]
  },
  {
   "cell_type": "code",
   "execution_count": 9,
   "metadata": {},
   "outputs": [],
   "source": [
    "# Callback for plotting\n",
    "# TODO: move this to a helper file\n",
    "\n",
    "from tensorflow.keras.callbacks import Callback\n",
    "from IPython.display import clear_output\n",
    "\n",
    "# For plotting the learning curve in real time\n",
    "class TrainingPlot(Callback):\n",
    "    \n",
    "    # This function is called when the training begins\n",
    "    def on_train_begin(self, logs={}):\n",
    "        # Initialize the lists for holding the logs, losses and accuracies\n",
    "        self.losses = []\n",
    "        self.acc = []\n",
    "        self.val_losses = []\n",
    "        self.val_acc = []\n",
    "        self.logs = []\n",
    "        self.max_acc = 0\n",
    "    \n",
    "    # This function is called at the end of each epoch\n",
    "    def on_epoch_end(self, epoch, logs={}):\n",
    "        \n",
    "        # Append the logs, losses and accuracies to the lists\n",
    "        self.logs.append(logs)\n",
    "        self.losses.append(logs.get('loss'))\n",
    "        self.acc.append(logs.get('accuracy'))\n",
    "        self.val_losses.append(logs.get('val_loss'))\n",
    "        self.val_acc.append(logs.get('val_accuracy'))\n",
    "        self.max_acc = max(self.max_acc, logs.get('val_accuracy'))\n",
    "        \n",
    "        # Before plotting ensure at least 2 epochs have passed\n",
    "        if len(self.losses) > 1:\n",
    "            \n",
    "            # Clear the previous plot\n",
    "            clear_output(wait=True)\n",
    "            N = np.arange(0, len(self.losses))\n",
    "            \n",
    "            # Plot train loss, train acc, val loss and val acc against epochs passed\n",
    "            plt.figure(figsize=(8,3))\n",
    "            plt.plot(N, self.losses, lw=2, c=\"b\", linestyle=\"-\", label = \"train_loss\")\n",
    "            plt.plot(N, self.acc, lw=2, c=\"r\", linestyle=\"-\", label = \"train_acc\")\n",
    "            plt.plot(N, self.val_losses, lw=2, c=\"b\", linestyle=\":\", label = \"val_loss\")\n",
    "            plt.plot(N, self.val_acc, lw=2, c=\"r\", linestyle=\":\", label = \"val_acc\")\n",
    "            plt.title(\"Training Loss and Accuracy [Epoch {}, Max Acc {:.4f}]\".format(epoch, self.max_acc))\n",
    "            plt.xlabel(\"Epoch #\")\n",
    "            plt.ylabel(\"Loss/Accuracy\")\n",
    "            plt.legend()\n",
    "            plt.show()\n",
    "            \n",
    "plot_losses = TrainingPlot()"
   ]
  },
  {
   "cell_type": "markdown",
   "metadata": {
    "slideshow": {
     "slide_type": "slide"
    }
   },
   "source": [
    "### Model selection\n",
    "* Take a validation set of 10,000 samples from the training set\n",
    "* The validation loss peaks after a few epochs, after which the model starts to overfit\n",
    "    * Performance is better than Logistic regression (obviously)"
   ]
  },
  {
   "cell_type": "code",
   "execution_count": 10,
   "metadata": {},
   "outputs": [
    {
     "data": {
      "application/pdf": "[encoded data removed]",
      "image/png": "[encoded data removed]",
      "text/plain": [
       "<Figure size 1000x375 with 1 Axes>"
      ]
     },
     "metadata": {
      "needs_background": "light"
     },
     "output_type": "display_data"
    }
   ],
   "source": [
    "from tensorflow.keras import models\n",
    "from tensorflow.keras import layers\n",
    "\n",
    "x_val, partial_x_train = x_train[:10000], x_train[10000:]\n",
    "y_val, partial_y_train = y_train[:10000], y_train[10000:] \n",
    "\n",
    "model = models.Sequential()\n",
    "model.add(layers.Dense(16, activation='relu', input_shape=(10000,)))\n",
    "model.add(layers.Dense(16, activation='relu'))\n",
    "model.add(layers.Dense(1, activation='sigmoid'))\n",
    "model.compile(optimizer='rmsprop', loss='binary_crossentropy', metrics=['accuracy'])\n",
    "history = model.fit(partial_x_train, partial_y_train,\n",
    "                    epochs=20, batch_size=512, verbose=0,\n",
    "                    validation_data=(x_val, y_val), callbacks=[plot_losses])"
   ]
  },
  {
   "cell_type": "markdown",
   "metadata": {
    "slideshow": {
     "slide_type": "slide"
    }
   },
   "source": [
    "#### Regularization: smaller networks\n",
    "* The easiest way to avoid overfitting is to use a simpler model\n",
    "    * E.g. use only 4 hidden nodes\n",
    "* Less overfitting, but validation accuracy about the same"
   ]
  },
  {
   "cell_type": "code",
   "execution_count": null,
   "metadata": {},
   "outputs": [],
   "source": [
    "smaller_model = models.Sequential()\n",
    "smaller_model.add(layers.Dense(4, activation='relu', input_shape=(10000,)))\n",
    "smaller_model.add(layers.Dense(4, activation='relu'))\n",
    "smaller_model.add(layers.Dense(1, activation='sigmoid'))\n",
    "smaller_model.compile(optimizer='rmsprop', loss='binary_crossentropy', metrics=['accuracy'])\n",
    "\n",
    "history = smaller_model.fit(partial_x_train, partial_y_train,\n",
    "                            epochs=20, batch_size=512, verbose=0,\n",
    "                            validation_data=(x_val, y_val), callbacks=[plot_losses])"
   ]
  },
  {
   "cell_type": "markdown",
   "metadata": {
    "slideshow": {
     "slide_type": "slide"
    }
   },
   "source": [
    "#### Weight regularization (L2)\n",
    "* L2 regularized model (on 16 hidden nodes) is equally/more resistant to overfitting, even though both have the same number of parameters\n",
    "* Validation accuracy doesn't improve\n",
    "\n",
    "```python\n",
    "model.add(layers.Dense(16, kernel_regularizer=regularizers.l2(0.001),\n",
    "                       activation='relu'))\n",
    "```"
   ]
  },
  {
   "cell_type": "code",
   "execution_count": null,
   "metadata": {},
   "outputs": [],
   "source": [
    "from keras import regularizers\n",
    "\n",
    "l2_model = models.Sequential()\n",
    "l2_model.add(layers.Dense(16, kernel_regularizer=regularizers.l2(0.001),\n",
    "                          activation='relu', input_shape=(10000,)))\n",
    "l2_model.add(layers.Dense(16, kernel_regularizer=regularizers.l2(0.001),\n",
    "                          activation='relu'))\n",
    "l2_model.add(layers.Dense(1, activation='sigmoid'))\n",
    "l2_model.compile(optimizer='rmsprop', loss='binary_crossentropy', metrics=['accuracy'])\n",
    "\n",
    "history = l2_model.fit(partial_x_train, partial_y_train,\n",
    "                       epochs=20, batch_size=512, verbose=0,\n",
    "                       validation_data=(x_val, y_val), callbacks=[plot_losses])"
   ]
  },
  {
   "cell_type": "markdown",
   "metadata": {
    "slideshow": {
     "slide_type": "slide"
    }
   },
   "source": [
    "#### Dropout Regularization\n",
    "* Overfits less than the original model, but more than L2-regularization\n",
    "\n",
    "```python\n",
    "model.add(layers.Dense(16, activation='relu'))\n",
    "model.add(layers.Dropout(0.5))\n",
    "```"
   ]
  },
  {
   "cell_type": "code",
   "execution_count": null,
   "metadata": {},
   "outputs": [],
   "source": [
    "dpt_model = models.Sequential()\n",
    "dpt_model.add(layers.Dense(16, activation='relu', input_shape=(10000,)))\n",
    "dpt_model.add(layers.Dropout(0.5))\n",
    "dpt_model.add(layers.Dense(16, activation='relu'))\n",
    "dpt_model.add(layers.Dropout(0.5))\n",
    "dpt_model.add(layers.Dense(1, activation='sigmoid'))\n",
    "dpt_model.compile(optimizer='rmsprop', loss='binary_crossentropy', metrics=['accuracy'])\n",
    "\n",
    "history = dpt_model.fit(partial_x_train, partial_y_train,\n",
    "                        epochs=20, batch_size=512, verbose=0,\n",
    "                        validation_data=(x_val, y_val), callbacks=[plot_losses])"
   ]
  },
  {
   "cell_type": "markdown",
   "metadata": {
    "slideshow": {
     "slide_type": "slide"
    }
   },
   "source": [
    "#### Tuning\n",
    "* We can vary the remaining hyperparameters\n",
    "    - Number of layers or hidden units, activation functions, optimizers, batch size, learning rates,...\n",
    "* Quick grid search (using early stopping to select number of epochs):\n",
    "    - We're not getting much better results using this representation"
   ]
  },
  {
   "cell_type": "code",
   "execution_count": null,
   "metadata": {},
   "outputs": [],
   "source": [
    "from keras.wrappers.scikit_learn import KerasClassifier, KerasRegressor\n",
    "from sklearn.model_selection import GridSearchCV\n",
    "from tensorflow.keras import callbacks\n",
    "\n",
    "earlystop = callbacks.EarlyStopping(monitor='val_loss', patience=3)\n",
    "\n",
    "def make_model(hidden_size=16, dropout_rate=0.5):\n",
    "    model = models.Sequential()\n",
    "    model.add(layers.Dense(hidden_size, activation='relu', input_shape=(10000,)))\n",
    "    model.add(layers.Dropout(dropout_rate))\n",
    "    model.add(layers.Dense(hidden_size, activation='relu'))\n",
    "    model.add(layers.Dropout(dropout_rate))\n",
    "    model.add(layers.Dense(1, activation='sigmoid'))\n",
    "\n",
    "    model.compile(optimizer='rmsprop',\n",
    "                  loss='binary_crossentropy',\n",
    "                  metrics=['accuracy'])\n",
    "    return model\n",
    "\n",
    "param_grid = {'hidden_size': [8, 16, 64],\n",
    "              'dropout_rate': [0.1, 0.25, 0.5]}\n",
    "model = KerasClassifier(build_fn=make_model, epochs=10, verbose=0, validation_split=.2)\n",
    "grid_search = GridSearchCV(model, param_grid, n_jobs=-1, cv=5, refit='accuracy', return_train_score=True)\n",
    "grid_search.fit(x_train, y_train, epochs=20, batch_size=512, \n",
    "                callbacks=[callbacks.EarlyStopping(monitor='val_loss', patience=3)]);"
   ]
  },
  {
   "cell_type": "code",
   "execution_count": null,
   "metadata": {},
   "outputs": [],
   "source": [
    "res = pd.DataFrame(grid_search.cv_results_)\n",
    "res.pivot_table(index=[\"param_hidden_size\", \"param_dropout_rate\"],\n",
    "                values=['mean_train_score', \"mean_test_score\"])"
   ]
  },
  {
   "cell_type": "markdown",
   "metadata": {
    "slideshow": {
     "slide_type": "slide"
    }
   },
   "source": [
    "#### Predictions\n",
    "Let's look at a few predictions:"
   ]
  },
  {
   "cell_type": "code",
   "execution_count": null,
   "metadata": {},
   "outputs": [],
   "source": [
    "predictions = l2_model.predict(x_test)\n",
    "print(\"Review 0: \", ' '.join([reverse_word_index.get(i - 3, '?') for i in test_data[0]]))\n",
    "print(\"Predicted positiveness: \", predictions[0])\n",
    "print(\"\\nReview 16: \", ' '.join([reverse_word_index.get(i - 3, '?') for i in test_data[16]]))\n",
    "print(\"Predicted positiveness: \", predictions[16])"
   ]
  },
  {
   "cell_type": "markdown",
   "metadata": {
    "slideshow": {
     "slide_type": "slide"
    }
   },
   "source": [
    "### Multi-class classification (topic classification)\n",
    "* Reuters dataset: 11,000 news stories, 46 topics\n",
    "* Each row is one news story\n",
    "    * We again use the 10,000 most frequent words, and drop the top-3 stop words\n",
    "* Each word is replaced by a _word index_ (word ID)"
   ]
  },
  {
   "cell_type": "code",
   "execution_count": null,
   "metadata": {
    "hide_input": true
   },
   "outputs": [],
   "source": [
    "from keras.datasets import reuters\n",
    "\n",
    "# Default minimal index (to drop stop words) is 3\n",
    "(train_data, train_labels), (test_data, test_labels) = reuters.load_data(num_words=10000)\n",
    "\n",
    "word_index = reuters.get_word_index()\n",
    "reverse_word_index = dict([(value, key) for (key, value) in word_index.items()])\n",
    "# Note that our indices were offset by 3\n",
    "# because 0, 1 and 2 are reserved indices for \"padding\", \"start of sequence\", and \"unknown\".\n",
    "decoded_newswire = ' '.join([reverse_word_index.get(i - 3, '?') for i in train_data[0]])\n",
    "print(\"News wire: \",decoded_newswire)\n",
    "print(\"Encoded: \", train_data[0][0:20])\n",
    "print(\"Topic: \",train_labels[0])"
   ]
  },
  {
   "cell_type": "markdown",
   "metadata": {
    "slideshow": {
     "slide_type": "slide"
    }
   },
   "source": [
    "#### Building the network\n",
    "* 16 hidden units may be too limited to learn 46 topics, hence we use 64\n",
    "* The output layer now needs 46 units, one for each topic\n",
    "    - We use `softmax` activation for the output to get probabilities\n",
    "    - Loss function is now `categorical_crossentropy`\n",
    "        - Hence, output labels need to be one-hot-encoded\n",
    "\n",
    "``` python\n",
    "model = models.Sequential()\n",
    "model.add(layers.Dense(64, activation='relu', input_shape=(10000,)))\n",
    "model.add(layers.Dense(64, activation='relu'))\n",
    "model.add(layers.Dense(46, activation='softmax'))\n",
    "model.compile(optimizer='rmsprop', loss='categorical_crossentropy',\n",
    "              metrics=['accuracy'])\n",
    "```"
   ]
  },
  {
   "cell_type": "markdown",
   "metadata": {
    "slideshow": {
     "slide_type": "slide"
    }
   },
   "source": [
    "#### Result\n",
    "* Some overfitting after about 8 epochs\n",
    "* Regularization may help, but let's try different representations"
   ]
  },
  {
   "cell_type": "code",
   "execution_count": null,
   "metadata": {},
   "outputs": [],
   "source": [
    "# Preprocess data\n",
    "from keras.utils.np_utils import to_categorical\n",
    "x_train = vectorize_sequences(train_data)\n",
    "x_test = vectorize_sequences(test_data)\n",
    "one_hot_train_labels = to_categorical(train_labels)\n",
    "one_hot_test_labels = to_categorical(test_labels)\n",
    "\n",
    "# Build model\n",
    "model = models.Sequential()\n",
    "model.add(layers.Dense(64, activation='relu', input_shape=(10000,)))\n",
    "model.add(layers.Dense(64, activation='relu'))\n",
    "model.add(layers.Dense(46, activation='softmax'))\n",
    "model.compile(optimizer='rmsprop',\n",
    "              loss='categorical_crossentropy',\n",
    "              metrics=['accuracy'])\n",
    "\n",
    "# Validation set\n",
    "x_val, partial_x_train = x_train[:1000], x_train[1000:]\n",
    "y_val, partial_y_train = one_hot_train_labels[:1000], one_hot_train_labels[1000:]\n",
    "\n",
    "# Fit\n",
    "history = model.fit(partial_x_train,\n",
    "                    partial_y_train,\n",
    "                    epochs=20, verbose=0,\n",
    "                    batch_size=512,\n",
    "                    validation_data=(x_val, y_val),\n",
    "                    callbacks=[plot_losses])"
   ]
  },
  {
   "cell_type": "markdown",
   "metadata": {
    "slideshow": {
     "slide_type": "slide"
    }
   },
   "source": [
    "## Word Embeddings\n",
    "* An embedding maps each word to a point in a much smaller $m$-dimensional space (e.g. 300 values)\n",
    "* 2 main approaches:\n",
    "    * Learn the embedding jointly with your main task.\n",
    "        * Add an _embedding layer_ with $m$ hidden nodes to map word IDs to an $m$-dimensional vector\n",
    "        * Add your hidden and output layers, learn weights end-to-end with SGD\n",
    "    * Use a pre-trained embedding\n",
    "        * Usually trained on another, much bigger task (e.g. Wikipedia, Google News,...)\n",
    "        * Freeze embedding weights to produce simple word embeddings, or finetune to a new tasks"
   ]
  },
  {
   "cell_type": "markdown",
   "metadata": {
    "slideshow": {
     "slide_type": "slide"
    }
   },
   "source": [
    "### Training Embedding layers\n",
    "* Input layer uses fixed length documents. E.g. 100 nodes for 100 word IDs\n",
    "    * Pad with 0's if docuyment is shorter. 2D tensor of shape (samples, max_length)\n",
    "* Add an _embedding layer_ to learn the embedding\n",
    "    * First represents every word as an $n$-dimensional one-hot encoded bag of words. \n",
    "        * Reshapes 2D tensor to 3D tensor of shape (samples, max_length, $n$)\n",
    "    * To learn an $m$-dimensional embedding, use $m$ hidden nodes\n",
    "        * Learn weight matrix $W^{n x m}$: maps one-hot-encoded word to embedding\n",
    "    * Uses a linear activation function: $\\mathbf{X}_{embed} = W \\mathbf{X}_{orig}$\n",
    "        * Outputs a 3D tensor of shape (samples, max_length, $m$)\n",
    "* Add layers to map word embeddings to the desired output (see later)\n",
    "* Learn all weights from the labeled data."
   ]
  },
  {
   "cell_type": "markdown",
   "metadata": {
    "slideshow": {
     "slide_type": "slide"
    }
   },
   "source": [
    "### Pre-trained embeddings\n",
    "* With more data we can build better embeddings, but we also need more labels\n",
    "* Solution: learn embedding on auxiliary task that doesn't require labels \n",
    "    * E.g. given a word, predict the surrounding words.\n",
    "    * Also called self-supervised learning. Supervision is provided by data itself\n",
    "* Most common approaches:\n",
    "    * Word2Vec: Learn neural embedding for a word based on surrounding words\n",
    "        * Encoding is learned using a 1-layer neural net\n",
    "    * GloVe (Global Vector): Count co-occurrences of words in a matrix\n",
    "        * Use a low-rank approximation to get a condensed vector representation\n",
    "    * FastText: learns embedding for character n-grams\n",
    "        * Can also produce embeddings for new, unseen words\n",
    "    * Language models (BERT, ELMO, GPT3,...): learn a context-dependent embedding\n",
    "        * Words get different embeddings based on the sentence they appear in"
   ]
  },
  {
   "cell_type": "markdown",
   "metadata": {
    "slideshow": {
     "slide_type": "slide"
    }
   },
   "source": [
    "#### Word2Vec\n",
    "- Move a window over text to get $C$ context words ($V$-dim one-hot encoded)\n",
    "- Add hidden layer with $N$ linear nodes, average pooling, and softmax layer(s)\n",
    "- CBOW: predict word given context, use weights of last layer as embedding\n",
    "- Skip-Gram: predict context given word, use weights of first layer as embedding (better for large corpora)\n",
    "\n",
    "<img src=\"../images/09_word_embeddings_3.png\" alt=\"ml\" style=\"width: 600px;\"/>"
   ]
  },
  {
   "cell_type": "markdown",
   "metadata": {
    "slideshow": {
     "slide_type": "slide"
    }
   },
   "source": [
    "#### Word2Vec properties\n",
    "* Word2Vec happens to learn [interesting relationships](https://www.aclweb.org/anthology/N13-1090/) between words\n",
    "    * Simple vector arithmetic can map words to plurals, conjugations, gender analogies,...\n",
    "    * e.g. Gender relationships: $vec_{king} - vec_{man} + vec_{woman} \\sim vec_{queen}$ \n",
    "    * PCA applied to embeddings shows Country - Capital relationship\n",
    "* Careful: embeddings can capture [gender and other biases](https://arxiv.org/abs/1607.06520) present in the data.\n",
    "    * Important unsolved problem!\n",
    "\n",
    "<img src=\"../images/word2vec.png\" alt=\"ml\" style=\"width: 800px;\"/>"
   ]
  },
  {
   "cell_type": "markdown",
   "metadata": {
    "slideshow": {
     "slide_type": "slide"
    }
   },
   "source": [
    "#### FastText\n",
    "* Limitations of Word2Vec:\n",
    "    * Cannot represent new (out-of-vocabulary) words\n",
    "    * Words like 'meet' and 'meeting' are learned independently: less efficient (no parameter sharing)\n",
    "* FastText addresses this by using character n-grams\n",
    "    * Basic model can be Skip-gram or CBOW\n",
    "    * Words are represented by all character n-grams of length 3 to 6\n",
    "        * \"football\" 3-grams: <fo, foo, oot, otb, tba, bal, all, ll>\n",
    "        * Because there are so many n-grams, they are hashed\n",
    "            * Dimensionality V = bin size\n",
    "        * Representation of word \"football\" is sum of its n-gram embeddings\n",
    "* Training with positive examples (in-context words) and random negative examples  "
   ]
  },
  {
   "cell_type": "markdown",
   "metadata": {
    "slideshow": {
     "slide_type": "slide"
    }
   },
   "source": [
    "#### Global Vector model (GloVe)\n",
    "* Builds a co-occurence matrix $\\mathbf{X}$\n",
    "    * Counts how often 2 words occur in the same context (and how close)\n",
    "* Learns a k-dimensional embedding $w$ through matrix factorization with rank k\n",
    "    * Actually learns 2 embeddings $w$ and $w'$ (differ in random initialization)\n",
    "* Minimizes loss $\\mathcal{L}$, where $b_i$ and $b'_i$ are bias terms and $f$ is a weighting function\n",
    "\n",
    "$$\\mathcal{L} = \\sum_{i,j=1}^{V} f(\\mathbf{X}_{ij}) (\\mathbf{w_i} \\mathbf{w'_j} + b_i + b'_j - log(\\mathbf{X}_{ij}))^2$$\n",
    "\n",
    "<img src=\"../images/glove3.png\" alt=\"ml\" style=\"width: 800px;\"/>"
   ]
  },
  {
   "cell_type": "markdown",
   "metadata": {
    "slideshow": {
     "slide_type": "slide"
    }
   },
   "source": [
    "### Document/paragraph embeddings\n",
    "* Simplest approach to represent a document: sum or average of all word vectors\n",
    "* Doc2Vec \n",
    "    * Next to word embeddings, also learn an embedding for the document/paragraph\n",
    "    * Acts as a memory that remembers what is missing from the current context (the topic of the paragraph)\n",
    "    * Can be used to determine semantic similarity between documents. \n",
    "    * Can be tricky to train.\n",
    "    \n",
    "<img src=\"../images/doc2vec.png\" alt=\"ml\" style=\"width:600px;\"/>"
   ]
  },
  {
   "cell_type": "markdown",
   "metadata": {
    "slideshow": {
     "slide_type": "slide"
    }
   },
   "source": [
    "## Using word embeddings\n",
    "* Say that we have m-dimensional word embeddings and documents of size $l$\n",
    "* Our embedding layer will produce a 3D tensor of shape (samples, $l$, $m$)\n",
    "* We now need to map this to the desired output\n",
    "    * Simply flattening the tensor learns a direct mapping. This destroys the word order.\n",
    "    * A recurrent neural network (RNN) could leverage the exact sequence of the words\n",
    "        * Can be slow to train\n",
    "    * A 1D convolutional network can also leverage locality (learn local patterns)\n",
    "        * Often competitive with RNNs, and much faster/cheaper\n",
    "        * Works well for simple tasks like classification and forecasting"
   ]
  },
  {
   "cell_type": "markdown",
   "metadata": {
    "slideshow": {
     "slide_type": "slide"
    }
   },
   "source": [
    "## 1D convolutional networks\n",
    "* Similar to 2D convnets, 1D convnets extract local 1D patches from image tensors\n",
    "    * Apply identical transformation (filter) to every patch \n",
    "* Pattern learned can later be recognized elsewhere (translation invariance)\n",
    "* 1D Pooling: extracts 1D patches and outputs the max value (max pooling) or average\n",
    "\n",
    "<img src=\"../images/1Dconvnet.png\" alt=\"ml\" style=\"width:500px;\"/>"
   ]
  },
  {
   "cell_type": "markdown",
   "metadata": {
    "slideshow": {
     "slide_type": "slide"
    }
   },
   "source": [
    "## Neural network for text in practice\n",
    "### Training embedding layers\n",
    "* Simple model with an embedding layer and direct mapping to binary class\n",
    "\n",
    "```python\n",
    "max_length = 20 # pad documents to a maximum number of words\n",
    "vocab_size = 10000 # vocabulary size\n",
    "embedding_length = 8 # embedding length (more would be better)\n",
    "\n",
    "model = models.Sequential()\n",
    "model.add(layers.Embedding(vocab_size, embedding_length, input_length=max_length))\n",
    "model.add(layers.Flatten())\n",
    "model.add(layers.Dense(1, activation='sigmoid'))\n",
    "```"
   ]
  },
  {
   "cell_type": "code",
   "execution_count": null,
   "metadata": {},
   "outputs": [],
   "source": [
    "max_length = 20 # pad documents to a maximum number of words\n",
    "vocab_size = 10000 # vocabulary size\n",
    "embedding_length = 16 # embedding length\n",
    "\n",
    "# define the model\n",
    "model = models.Sequential()\n",
    "model.add(layers.Embedding(vocab_size, embedding_length, input_length=max_length))\n",
    "model.add(layers.Flatten())\n",
    "model.add(layers.Dense(1, activation='sigmoid'))\n",
    "model.compile(optimizer='rmsprop', loss='binary_crossentropy', metrics=['accuracy'])\n",
    "\n",
    "# summarize the model\n",
    "model.summary()"
   ]
  },
  {
   "cell_type": "markdown",
   "metadata": {
    "slideshow": {
     "slide_type": "slide"
    }
   },
   "source": [
    "* Training on the IMDB dataset"
   ]
  },
  {
   "cell_type": "code",
   "execution_count": null,
   "metadata": {},
   "outputs": [],
   "source": [
    "from keras import preprocessing\n",
    "\n",
    "# Load reviews again\n",
    "(x_train, y_train), (x_test, y_test) = imdb.load_data(num_words=10000)\n",
    "\n",
    "# Turn word ID's into a 2D integer tensor of shape `(samples, maxlen)`\n",
    "x_train = preprocessing.sequence.pad_sequences(x_train, maxlen=max_length)\n",
    "x_test = preprocessing.sequence.pad_sequences(x_test, maxlen=max_length)\n",
    "\n",
    "model.fit(x_train, y_train, epochs=10, verbose=0,\n",
    "          batch_size=32, validation_split=0.2, callbacks=[plot_losses]);"
   ]
  },
  {
   "cell_type": "markdown",
   "metadata": {
    "slideshow": {
     "slide_type": "slide"
    }
   },
   "source": [
    "### Using pretrained embeddings\n",
    "* Download the [raw 20 newsgroups dataset](http://www.cs.cmu.edu/afs/cs.cmu.edu/project/theo-20/www/data/news20)\n",
    "    * 20,000 message board messages belonging to 20 different topic categories\n",
    "* Preprocess the data by appending all files and vectorize it using Keras' `TextVectorization` layer\n",
    "    * Lowercasing, punctuation removal, tokenization, indexing, integer encoding (or TFIDF)\n",
    "* Download the [GloVe embeddings trained on Wikipedia](https://nlp.stanford.edu/projects/glove) (800MB!)\n",
    "* Build an embedding matrix of shape (max_words, embedding_dim) that we can load into an embedding layer\n",
    "\n",
    "```python\n",
    "embedding_layer = layers.Embedding(\n",
    "    num_tokens, # 20000\n",
    "    embedding_dim, # 100\n",
    "    embeddings_initializer=keras.initializers.Constant(embedding_matrix), # GloVe embedding\n",
    "    trainable=False, # Freeze the pretrained weights\n",
    ")\n",
    "```"
   ]
  },
  {
   "cell_type": "code",
   "execution_count": null,
   "metadata": {
    "slideshow": {
     "slide_type": "skip"
    }
   },
   "outputs": [],
   "source": [
    "# Uncomment when running the first time\n",
    "!wget http://nlp.stanford.edu/data/glove.6B.zip\n",
    "!unzip -q glove.6B.zip\n",
    "!wget http://www.cs.cmu.edu/afs/cs.cmu.edu/project/theo-20/www/data/news20.tar.gz\n",
    "!tar -xf news20.tar.gz"
   ]
  },
  {
   "cell_type": "code",
   "execution_count": null,
   "metadata": {
    "slideshow": {
     "slide_type": "skip"
    }
   },
   "outputs": [],
   "source": [
    "import os\n",
    "\n",
    "# Get raw training data\n",
    "data_dir = './20_newsgroup'\n",
    "dirnames = os.listdir(data_dir)\n",
    "fnames = os.listdir(data_dir + \"/comp.graphics\")\n",
    "\n",
    "samples = []\n",
    "labels = []\n",
    "class_names = []\n",
    "class_index = 0\n",
    "for dirname in sorted(os.listdir(data_dir)):\n",
    "    class_names.append(dirname)\n",
    "    dirpath = data_dir + \"/\" + dirname\n",
    "    fnames = os.listdir(dirpath)\n",
    "    print(\"Processing %s, %d files found\" % (dirname, len(fnames)))\n",
    "    for fname in fnames:\n",
    "        fpath = dirpath + \"/\" + fname\n",
    "        f = open(fpath, encoding=\"latin-1\")\n",
    "        content = f.read()\n",
    "        lines = content.split(\"\\n\")\n",
    "        lines = lines[10:]\n",
    "        content = \"\\n\".join(lines)\n",
    "        samples.append(content)\n",
    "        labels.append(class_index)\n",
    "    class_index += 1\n",
    "\n",
    "print(\"Classes:\", class_names)\n",
    "print(\"Number of samples:\", len(samples))"
   ]
  },
  {
   "cell_type": "code",
   "execution_count": null,
   "metadata": {
    "slideshow": {
     "slide_type": "skip"
    }
   },
   "outputs": [],
   "source": [
    "from tensorflow.keras.layers.experimental.preprocessing import TextVectorization\n",
    "\n",
    "# Shuffle the data\n",
    "seed = 1337\n",
    "rng = np.random.RandomState(seed)\n",
    "rng.shuffle(samples)\n",
    "rng = np.random.RandomState(seed)\n",
    "rng.shuffle(labels)\n",
    "\n",
    "# Extract a training & validation split\n",
    "validation_split = 0.95\n",
    "num_validation_samples = int(validation_split * len(samples))\n",
    "train_samples = samples[:-num_validation_samples]\n",
    "val_samples = samples[-num_validation_samples:]\n",
    "train_labels = labels[:-num_validation_samples]\n",
    "val_labels = labels[-num_validation_samples:]\n",
    "\n",
    "# Vectorize the data. Takes a while!\n",
    "vectorizer = TextVectorization(max_tokens=20000, output_sequence_length=200)\n",
    "text_ds = tf.data.Dataset.from_tensor_slices(train_samples).batch(128)\n",
    "vectorizer.adapt(text_ds)"
   ]
  },
  {
   "cell_type": "code",
   "execution_count": null,
   "metadata": {
    "slideshow": {
     "slide_type": "skip"
    }
   },
   "outputs": [],
   "source": [
    "embeddings_index = {}\n",
    "glove_dir = \"./\"\n",
    "f = open(os.path.join(glove_dir, 'glove.6B.100d.txt'))\n",
    "for line in f:\n",
    "    values = line.split()\n",
    "    word = values[0]\n",
    "    coefs = np.asarray(values[1:], dtype='float32')\n",
    "    embeddings_index[word] = coefs\n",
    "f.close()\n",
    "\n",
    "print('Found %s word vectors.' % len(embeddings_index))"
   ]
  },
  {
   "cell_type": "code",
   "execution_count": null,
   "metadata": {
    "slideshow": {
     "slide_type": "skip"
    }
   },
   "outputs": [],
   "source": [
    "num_tokens = 4000002 #len(voc) + 2\n",
    "embedding_dim = 100\n",
    "hits = 0\n",
    "misses = 0\n",
    "\n",
    "# Prepare embedding matrix\n",
    "embedding_matrix = np.zeros((num_tokens, embedding_dim))\n",
    "for word, i in word_index.items():\n",
    "    embedding_vector = embeddings_index.get(word)\n",
    "    if embedding_vector is not None:\n",
    "        # Words not found in embedding index will be all-zeros.\n",
    "        # This includes the representation for \"padding\" and \"OOV\"\n",
    "        embedding_matrix[i] = embedding_vector\n",
    "        hits += 1\n",
    "    else:\n",
    "        misses += 1\n",
    "print(\"Converted %d words (%d misses)\" % (hits, misses))"
   ]
  },
  {
   "cell_type": "markdown",
   "metadata": {
    "slideshow": {
     "slide_type": "slide"
    }
   },
   "source": [
    "### Conv1D model\n",
    "* First layer produces the word embeddings\n",
    "* Three 1D convolutional layers with MaxPooling\n",
    "* One dense layer with dropout\n",
    "* Output later (20 classes) with softmax activation\n",
    "\n",
    "```python\n",
    "model = models.Sequential()\n",
    "model.add(embedding_layer)\n",
    "model.add(layers.Conv1D(128, 5, activation='relu'))\n",
    "model.add(layers.MaxPooling1D(5))\n",
    "model.add(layers.Conv1D(128, 5, activation='relu'))\n",
    "model.add(layers.MaxPooling1D(5))\n",
    "model.add(layers.Conv1D(128, 5, activation='relu'))\n",
    "model.add(layers.GlobalMaxPooling1D())\n",
    "model.add(layers.Dense(128, activation='relu'))\n",
    "model.add(layers.Dropout(0.5))\n",
    "model.add(layers.Dense(len(class_names), activation=\"softmax\"))\n",
    "```"
   ]
  },
  {
   "cell_type": "code",
   "execution_count": null,
   "metadata": {},
   "outputs": [],
   "source": [
    "keras.backend.clear_session() \n",
    "\n",
    "embedding_layer = layers.Embedding(\n",
    "    num_tokens,\n",
    "    embedding_dim,\n",
    "    embeddings_initializer=keras.initializers.Constant(embedding_matrix),\n",
    "    trainable=False,\n",
    ")\n",
    "\n",
    "model = models.Sequential()\n",
    "model.add(layers.Input(shape=(None,), dtype=\"int64\"))\n",
    "model.add(embedding_layer)\n",
    "model.add(layers.Conv1D(128, 5, activation='relu'))\n",
    "model.add(layers.MaxPooling1D(5))\n",
    "model.add(layers.Conv1D(128, 5, activation='relu'))\n",
    "model.add(layers.MaxPooling1D(5))\n",
    "model.add(layers.Conv1D(128, 5, activation='relu'))\n",
    "model.add(layers.GlobalMaxPooling1D())\n",
    "model.add(layers.Dense(128, activation='relu'))\n",
    "model.add(layers.Dropout(0.5))\n",
    "model.add(layers.Dense(len(class_names), activation=\"softmax\"))\n",
    "model.summary()"
   ]
  },
  {
   "cell_type": "markdown",
   "metadata": {
    "slideshow": {
     "slide_type": "slide"
    }
   },
   "source": [
    "#### Training"
   ]
  },
  {
   "cell_type": "code",
   "execution_count": null,
   "metadata": {},
   "outputs": [],
   "source": [
    "x_train = vectorizer(np.array([[s] for s in train_samples])).numpy()\n",
    "x_val = vectorizer(np.array([[s] for s in val_samples])).numpy()\n",
    "\n",
    "y_train = np.array(train_labels)\n",
    "y_val = np.array(val_labels)"
   ]
  },
  {
   "cell_type": "code",
   "execution_count": null,
   "metadata": {},
   "outputs": [],
   "source": [
    "model.compile(loss=\"sparse_categorical_crossentropy\", optimizer=\"rmsprop\", metrics=[\"accuracy\"])\n",
    "model.fit(x_train, y_train, batch_size=128, epochs=20, validation_data=(x_val, y_val), callbacks=[plot_losses])"
   ]
  },
  {
   "cell_type": "markdown",
   "metadata": {
    "slideshow": {
     "slide_type": "slide"
    }
   },
   "source": [
    "### Using 1D convnets on IMDB data\n",
    "* Let's try to learn a self-learned embedding with 1D convolutional layers\n",
    "* A lot better than the previous self-trained embeddings. Worse that using the pretrained embeddings.\n",
    "* Start overfitting after a few epochs.\n",
    "* Try using the pretrained embeddings together with 1D convolutional layers :)\n",
    "\n",
    "```python\n",
    "model = Sequential()\n",
    "model.add(layers.Embedding(10000, 128, input_length=100))\n",
    "model.add(layers.Conv1D(32, 7, activation='relu'))\n",
    "model.add(layers.MaxPooling1D(5))\n",
    "model.add(layers.Conv1D(32, 7, activation='relu'))\n",
    "model.add(layers.GlobalMaxPooling1D())\n",
    "model.add(layers.Dense(1))\n",
    "```"
   ]
  },
  {
   "cell_type": "markdown",
   "metadata": {
    "slideshow": {
     "slide_type": "slide"
    }
   },
   "source": [
    "#### Results"
   ]
  },
  {
   "cell_type": "code",
   "execution_count": null,
   "metadata": {},
   "outputs": [],
   "source": [
    "max_words = 10000\n",
    "(x_train, y_train), (x_test, y_test) = imdb.load_data(num_words=max_words)\n",
    "\n",
    "x_train = preprocessing.sequence.pad_sequences(x_train, maxlen=max_length)\n",
    "x_test = preprocessing.sequence.pad_sequences(x_test, maxlen=max_length)\n",
    "\n",
    "model = models.Sequential()\n",
    "model.add(layers.Embedding(max_words, 128, input_length=max_length))\n",
    "model.add(layers.Conv1D(32, 7, activation='relu'))\n",
    "model.add(layers.MaxPooling1D(5))\n",
    "model.add(layers.Conv1D(32, 7, activation='relu'))\n",
    "model.add(layers.GlobalMaxPooling1D())\n",
    "model.add(layers.Dense(1))\n",
    "\n",
    "model.summary()\n",
    "\n",
    "model.compile(optimizer=\"rmsprop\",\n",
    "              loss='binary_crossentropy',\n",
    "              metrics=['accuracy'])\n",
    "history = model.fit(x_train, y_train,\n",
    "                    epochs=10,\n",
    "                    batch_size=128,\n",
    "                    validation_split=0.2,\n",
    "                    callbacks=[plot_losses])"
   ]
  },
  {
   "cell_type": "markdown",
   "metadata": {
    "slideshow": {
     "slide_type": "slide"
    }
   },
   "source": [
    "## Summary\n",
    "* Bag of words representations\n",
    "    * Useful, but limited, since they destroy the order of the words in text\n",
    "* Word embeddings\n",
    "    * Learning word embeddings from labeled data is hard, you may need a lot of data\n",
    "    * Pretrained word embeddings\n",
    "        * Word2Vec: learns good embeddings and interesting relationships\n",
    "        * FastText: can also compute embeddings for entirely new words\n",
    "        * GloVe: also takes the global context of words into account\n",
    "        * Language models: state-of-the-art, but expensive\n",
    "* 1D convolutional nets \n",
    "    * Allow us to use the sequence of the words in text, cheaper than RNNs\n",
    "* In practice\n",
    "    * Using pretrained embeddings gives great performance\n",
    "        * Embedding weights can be frozen or finetuned to the task at hand\n",
    "    * 1D convnets can be used to learn decent embeddings for a given task"
   ]
  },
  {
   "cell_type": "code",
   "execution_count": null,
   "metadata": {},
   "outputs": [],
   "source": []
  }
 ],
 "metadata": {
  "anaconda-cloud": {},
  "celltoolbar": "Slideshow",
  "hide_input": true,
  "kernelspec": {
   "display_name": "Python 3 (ipykernel)",
   "language": "python",
   "name": "python3"
  },
  "language_info": {
   "codemirror_mode": {
    "name": "ipython",
    "version": 3
   },
   "file_extension": ".py",
   "mimetype": "text/x-python",
   "name": "python",
   "nbconvert_exporter": "python",
   "pygments_lexer": "ipython3",
   "version": "3.8.10"
  }
 },
 "nbformat": 4,
 "nbformat_minor": 4
}
